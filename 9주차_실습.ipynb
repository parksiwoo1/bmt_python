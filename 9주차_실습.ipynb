{
  "nbformat": 4,
  "nbformat_minor": 0,
  "metadata": {
    "colab": {
      "name": "9주차 실습.ipynb",
      "provenance": [],
      "authorship_tag": "ABX9TyP2d30nE75s3pFj7QSy+uBI",
      "include_colab_link": true
    },
    "kernelspec": {
      "name": "python3",
      "display_name": "Python 3"
    },
    "language_info": {
      "name": "python"
    }
  },
  "cells": [
    {
      "cell_type": "markdown",
      "metadata": {
        "id": "view-in-github",
        "colab_type": "text"
      },
      "source": [
        "<a href=\"https://colab.research.google.com/github/parksiwoo1/bmt_python/blob/main/9%EC%A3%BC%EC%B0%A8_%EC%8B%A4%EC%8A%B5.ipynb\" target=\"_parent\"><img src=\"https://colab.research.google.com/assets/colab-badge.svg\" alt=\"Open In Colab\"/></a>"
      ]
    },
    {
      "cell_type": "code",
      "metadata": {
        "id": "axdGm2r-FlPj"
      },
      "source": [
        "import pandas as pd\n",
        "import numpy as np\n",
        "import matplotlib.pyplot as plt"
      ],
      "execution_count": 2,
      "outputs": []
    },
    {
      "cell_type": "code",
      "metadata": {
        "colab": {
          "base_uri": "https://localhost:8080/"
        },
        "id": "TQzTq51gGf17",
        "outputId": "b346901f-0e03-4d88-bb95-8170345733b3"
      },
      "source": [
        "s=pd.Series([1,3,5,np.nan,6,8])\n",
        "print(s)"
      ],
      "execution_count": 3,
      "outputs": [
        {
          "output_type": "stream",
          "text": [
            "0    1.0\n",
            "1    3.0\n",
            "2    5.0\n",
            "3    NaN\n",
            "4    6.0\n",
            "5    8.0\n",
            "dtype: float64\n"
          ],
          "name": "stdout"
        }
      ]
    },
    {
      "cell_type": "code",
      "metadata": {
        "colab": {
          "base_uri": "https://localhost:8080/"
        },
        "id": "uh2UQQ9bH-vc",
        "outputId": "610fa1ef-da0d-44ba-e1b8-dba9433bd68e"
      },
      "source": [
        "type(s)"
      ],
      "execution_count": 4,
      "outputs": [
        {
          "output_type": "execute_result",
          "data": {
            "text/plain": [
              "pandas.core.series.Series"
            ]
          },
          "metadata": {
            "tags": []
          },
          "execution_count": 4
        }
      ]
    },
    {
      "cell_type": "code",
      "metadata": {
        "colab": {
          "base_uri": "https://localhost:8080/"
        },
        "id": "qexWvYvMIzrb",
        "outputId": "05f84598-204a-420a-fb4f-b05669ca044b"
      },
      "source": [
        "date=pd.date_range('20210507',periods=6)"
      ],
      "execution_count": 8,
      "outputs": [
        {
          "output_type": "execute_result",
          "data": {
            "text/plain": [
              "DatetimeIndex(['2021-05-07', '2021-05-08', '2021-05-09', '2021-05-10',\n",
              "               '2021-05-11', '2021-05-12'],\n",
              "              dtype='datetime64[ns]', freq='D')"
            ]
          },
          "metadata": {
            "tags": []
          },
          "execution_count": 8
        }
      ]
    },
    {
      "cell_type": "code",
      "metadata": {
        "colab": {
          "base_uri": "https://localhost:8080/",
          "height": 228
        },
        "id": "ZldTEi9WJGWL",
        "outputId": "3903efe9-8858-46b8-ede1-4374038558b5"
      },
      "source": [
        "df=pd.DataFrame(np.random.randn(6,4),)\n",
        "df"
      ],
      "execution_count": 9,
      "outputs": [
        {
          "output_type": "execute_result",
          "data": {
            "text/html": [
              "<div>\n",
              "<style scoped>\n",
              "    .dataframe tbody tr th:only-of-type {\n",
              "        vertical-align: middle;\n",
              "    }\n",
              "\n",
              "    .dataframe tbody tr th {\n",
              "        vertical-align: top;\n",
              "    }\n",
              "\n",
              "    .dataframe thead th {\n",
              "        text-align: right;\n",
              "    }\n",
              "</style>\n",
              "<table border=\"1\" class=\"dataframe\">\n",
              "  <thead>\n",
              "    <tr style=\"text-align: right;\">\n",
              "      <th></th>\n",
              "      <th>0</th>\n",
              "      <th>1</th>\n",
              "      <th>2</th>\n",
              "      <th>3</th>\n",
              "    </tr>\n",
              "  </thead>\n",
              "  <tbody>\n",
              "    <tr>\n",
              "      <th>0</th>\n",
              "      <td>-0.199925</td>\n",
              "      <td>-1.414589</td>\n",
              "      <td>-0.515777</td>\n",
              "      <td>-1.741893</td>\n",
              "    </tr>\n",
              "    <tr>\n",
              "      <th>1</th>\n",
              "      <td>-0.214268</td>\n",
              "      <td>-1.780297</td>\n",
              "      <td>-1.534800</td>\n",
              "      <td>-0.652030</td>\n",
              "    </tr>\n",
              "    <tr>\n",
              "      <th>2</th>\n",
              "      <td>-0.166551</td>\n",
              "      <td>0.435912</td>\n",
              "      <td>1.101605</td>\n",
              "      <td>0.756746</td>\n",
              "    </tr>\n",
              "    <tr>\n",
              "      <th>3</th>\n",
              "      <td>-1.302200</td>\n",
              "      <td>1.452315</td>\n",
              "      <td>0.202040</td>\n",
              "      <td>-0.118459</td>\n",
              "    </tr>\n",
              "    <tr>\n",
              "      <th>4</th>\n",
              "      <td>0.698396</td>\n",
              "      <td>-0.547982</td>\n",
              "      <td>-0.100378</td>\n",
              "      <td>0.133948</td>\n",
              "    </tr>\n",
              "    <tr>\n",
              "      <th>5</th>\n",
              "      <td>-0.625132</td>\n",
              "      <td>-2.421436</td>\n",
              "      <td>-0.498081</td>\n",
              "      <td>1.401301</td>\n",
              "    </tr>\n",
              "  </tbody>\n",
              "</table>\n",
              "</div>"
            ],
            "text/plain": [
              "          0         1         2         3\n",
              "0 -0.199925 -1.414589 -0.515777 -1.741893\n",
              "1 -0.214268 -1.780297 -1.534800 -0.652030\n",
              "2 -0.166551  0.435912  1.101605  0.756746\n",
              "3 -1.302200  1.452315  0.202040 -0.118459\n",
              "4  0.698396 -0.547982 -0.100378  0.133948\n",
              "5 -0.625132 -2.421436 -0.498081  1.401301"
            ]
          },
          "metadata": {
            "tags": []
          },
          "execution_count": 9
        }
      ]
    },
    {
      "cell_type": "code",
      "metadata": {
        "colab": {
          "base_uri": "https://localhost:8080/",
          "height": 228
        },
        "id": "LjxP_qFJJ1h6",
        "outputId": "e57bff2e-a0c8-49f9-bc9a-d509a20c2be2"
      },
      "source": [
        "df=pd.DataFrame(np.random.randn(6,4),index=date,columns=['a','b','c','d'])\n",
        "df"
      ],
      "execution_count": 11,
      "outputs": [
        {
          "output_type": "execute_result",
          "data": {
            "text/html": [
              "<div>\n",
              "<style scoped>\n",
              "    .dataframe tbody tr th:only-of-type {\n",
              "        vertical-align: middle;\n",
              "    }\n",
              "\n",
              "    .dataframe tbody tr th {\n",
              "        vertical-align: top;\n",
              "    }\n",
              "\n",
              "    .dataframe thead th {\n",
              "        text-align: right;\n",
              "    }\n",
              "</style>\n",
              "<table border=\"1\" class=\"dataframe\">\n",
              "  <thead>\n",
              "    <tr style=\"text-align: right;\">\n",
              "      <th></th>\n",
              "      <th>a</th>\n",
              "      <th>b</th>\n",
              "      <th>c</th>\n",
              "      <th>d</th>\n",
              "    </tr>\n",
              "  </thead>\n",
              "  <tbody>\n",
              "    <tr>\n",
              "      <th>2021-05-07</th>\n",
              "      <td>0.106254</td>\n",
              "      <td>0.809017</td>\n",
              "      <td>1.005454</td>\n",
              "      <td>-1.106480</td>\n",
              "    </tr>\n",
              "    <tr>\n",
              "      <th>2021-05-08</th>\n",
              "      <td>0.623022</td>\n",
              "      <td>0.141253</td>\n",
              "      <td>-0.076392</td>\n",
              "      <td>-1.695096</td>\n",
              "    </tr>\n",
              "    <tr>\n",
              "      <th>2021-05-09</th>\n",
              "      <td>-2.007116</td>\n",
              "      <td>2.572933</td>\n",
              "      <td>1.448690</td>\n",
              "      <td>-1.448474</td>\n",
              "    </tr>\n",
              "    <tr>\n",
              "      <th>2021-05-10</th>\n",
              "      <td>0.106090</td>\n",
              "      <td>-0.629466</td>\n",
              "      <td>0.504261</td>\n",
              "      <td>-1.203712</td>\n",
              "    </tr>\n",
              "    <tr>\n",
              "      <th>2021-05-11</th>\n",
              "      <td>-0.575697</td>\n",
              "      <td>0.149486</td>\n",
              "      <td>0.383228</td>\n",
              "      <td>-2.001151</td>\n",
              "    </tr>\n",
              "    <tr>\n",
              "      <th>2021-05-12</th>\n",
              "      <td>0.085947</td>\n",
              "      <td>0.907920</td>\n",
              "      <td>-0.580848</td>\n",
              "      <td>-0.124595</td>\n",
              "    </tr>\n",
              "  </tbody>\n",
              "</table>\n",
              "</div>"
            ],
            "text/plain": [
              "                   a         b         c         d\n",
              "2021-05-07  0.106254  0.809017  1.005454 -1.106480\n",
              "2021-05-08  0.623022  0.141253 -0.076392 -1.695096\n",
              "2021-05-09 -2.007116  2.572933  1.448690 -1.448474\n",
              "2021-05-10  0.106090 -0.629466  0.504261 -1.203712\n",
              "2021-05-11 -0.575697  0.149486  0.383228 -2.001151\n",
              "2021-05-12  0.085947  0.907920 -0.580848 -0.124595"
            ]
          },
          "metadata": {
            "tags": []
          },
          "execution_count": 11
        }
      ]
    },
    {
      "cell_type": "code",
      "metadata": {
        "colab": {
          "base_uri": "https://localhost:8080/",
          "height": 228
        },
        "id": "nVTuus6oKRy6",
        "outputId": "64c294b3-a0a4-4819-93b1-1fe1280c952b"
      },
      "source": [
        "df=pd.DataFrame(np.random.randn(6,4),index=date,columns=list('국영수물'))\n",
        "df"
      ],
      "execution_count": 13,
      "outputs": [
        {
          "output_type": "execute_result",
          "data": {
            "text/html": [
              "<div>\n",
              "<style scoped>\n",
              "    .dataframe tbody tr th:only-of-type {\n",
              "        vertical-align: middle;\n",
              "    }\n",
              "\n",
              "    .dataframe tbody tr th {\n",
              "        vertical-align: top;\n",
              "    }\n",
              "\n",
              "    .dataframe thead th {\n",
              "        text-align: right;\n",
              "    }\n",
              "</style>\n",
              "<table border=\"1\" class=\"dataframe\">\n",
              "  <thead>\n",
              "    <tr style=\"text-align: right;\">\n",
              "      <th></th>\n",
              "      <th>국</th>\n",
              "      <th>영</th>\n",
              "      <th>수</th>\n",
              "      <th>물</th>\n",
              "    </tr>\n",
              "  </thead>\n",
              "  <tbody>\n",
              "    <tr>\n",
              "      <th>2021-05-07</th>\n",
              "      <td>-0.454645</td>\n",
              "      <td>0.212046</td>\n",
              "      <td>1.167926</td>\n",
              "      <td>0.022142</td>\n",
              "    </tr>\n",
              "    <tr>\n",
              "      <th>2021-05-08</th>\n",
              "      <td>-1.726724</td>\n",
              "      <td>-1.322399</td>\n",
              "      <td>0.686342</td>\n",
              "      <td>-1.959882</td>\n",
              "    </tr>\n",
              "    <tr>\n",
              "      <th>2021-05-09</th>\n",
              "      <td>-1.287923</td>\n",
              "      <td>-0.819988</td>\n",
              "      <td>-0.018985</td>\n",
              "      <td>-0.231416</td>\n",
              "    </tr>\n",
              "    <tr>\n",
              "      <th>2021-05-10</th>\n",
              "      <td>0.656801</td>\n",
              "      <td>0.934164</td>\n",
              "      <td>1.687647</td>\n",
              "      <td>1.485021</td>\n",
              "    </tr>\n",
              "    <tr>\n",
              "      <th>2021-05-11</th>\n",
              "      <td>-0.739951</td>\n",
              "      <td>0.486459</td>\n",
              "      <td>0.395688</td>\n",
              "      <td>-0.096201</td>\n",
              "    </tr>\n",
              "    <tr>\n",
              "      <th>2021-05-12</th>\n",
              "      <td>-1.281384</td>\n",
              "      <td>0.020331</td>\n",
              "      <td>0.601996</td>\n",
              "      <td>-0.756060</td>\n",
              "    </tr>\n",
              "  </tbody>\n",
              "</table>\n",
              "</div>"
            ],
            "text/plain": [
              "                   국         영         수         물\n",
              "2021-05-07 -0.454645  0.212046  1.167926  0.022142\n",
              "2021-05-08 -1.726724 -1.322399  0.686342 -1.959882\n",
              "2021-05-09 -1.287923 -0.819988 -0.018985 -0.231416\n",
              "2021-05-10  0.656801  0.934164  1.687647  1.485021\n",
              "2021-05-11 -0.739951  0.486459  0.395688 -0.096201\n",
              "2021-05-12 -1.281384  0.020331  0.601996 -0.756060"
            ]
          },
          "metadata": {
            "tags": []
          },
          "execution_count": 13
        }
      ]
    },
    {
      "cell_type": "code",
      "metadata": {
        "colab": {
          "base_uri": "https://localhost:8080/",
          "height": 168
        },
        "id": "3rMreQrOK-T8",
        "outputId": "141a3cf3-687b-43e2-e89e-c357841baea2"
      },
      "source": [
        "df2 = pd.DataFrame(\n",
        "    {\n",
        "        'A': 1.,\n",
        "        'B': pd.Timestamp('20201113'),\n",
        "        'C': pd.Series(1, index=list(range(4)), dtype='float32'),\n",
        "        'D': np.array([3] * 4, dtype='int32'),\n",
        "        'E': pd.Categorical([\"test\", \"train\", \"test\", \"train\"]),\n",
        "        'F': 'foo'\n",
        "     }\n",
        ")\n",
        "df2"
      ],
      "execution_count": 21,
      "outputs": [
        {
          "output_type": "execute_result",
          "data": {
            "text/html": [
              "<div>\n",
              "<style scoped>\n",
              "    .dataframe tbody tr th:only-of-type {\n",
              "        vertical-align: middle;\n",
              "    }\n",
              "\n",
              "    .dataframe tbody tr th {\n",
              "        vertical-align: top;\n",
              "    }\n",
              "\n",
              "    .dataframe thead th {\n",
              "        text-align: right;\n",
              "    }\n",
              "</style>\n",
              "<table border=\"1\" class=\"dataframe\">\n",
              "  <thead>\n",
              "    <tr style=\"text-align: right;\">\n",
              "      <th></th>\n",
              "      <th>A</th>\n",
              "      <th>B</th>\n",
              "      <th>C</th>\n",
              "      <th>D</th>\n",
              "      <th>E</th>\n",
              "      <th>F</th>\n",
              "    </tr>\n",
              "  </thead>\n",
              "  <tbody>\n",
              "    <tr>\n",
              "      <th>0</th>\n",
              "      <td>1.0</td>\n",
              "      <td>2020-11-13</td>\n",
              "      <td>1.0</td>\n",
              "      <td>3</td>\n",
              "      <td>test</td>\n",
              "      <td>foo</td>\n",
              "    </tr>\n",
              "    <tr>\n",
              "      <th>1</th>\n",
              "      <td>1.0</td>\n",
              "      <td>2020-11-13</td>\n",
              "      <td>1.0</td>\n",
              "      <td>3</td>\n",
              "      <td>train</td>\n",
              "      <td>foo</td>\n",
              "    </tr>\n",
              "    <tr>\n",
              "      <th>2</th>\n",
              "      <td>1.0</td>\n",
              "      <td>2020-11-13</td>\n",
              "      <td>1.0</td>\n",
              "      <td>3</td>\n",
              "      <td>test</td>\n",
              "      <td>foo</td>\n",
              "    </tr>\n",
              "    <tr>\n",
              "      <th>3</th>\n",
              "      <td>1.0</td>\n",
              "      <td>2020-11-13</td>\n",
              "      <td>1.0</td>\n",
              "      <td>3</td>\n",
              "      <td>train</td>\n",
              "      <td>foo</td>\n",
              "    </tr>\n",
              "  </tbody>\n",
              "</table>\n",
              "</div>"
            ],
            "text/plain": [
              "     A          B    C  D      E    F\n",
              "0  1.0 2020-11-13  1.0  3   test  foo\n",
              "1  1.0 2020-11-13  1.0  3  train  foo\n",
              "2  1.0 2020-11-13  1.0  3   test  foo\n",
              "3  1.0 2020-11-13  1.0  3  train  foo"
            ]
          },
          "metadata": {
            "tags": []
          },
          "execution_count": 21
        }
      ]
    },
    {
      "cell_type": "code",
      "metadata": {
        "colab": {
          "base_uri": "https://localhost:8080/",
          "height": 138
        },
        "id": "eNgjNitUMkih",
        "outputId": "9d19f968-aa78-4c20-99c1-30cfac361f96"
      },
      "source": [
        "df.tail(3)"
      ],
      "execution_count": 24,
      "outputs": [
        {
          "output_type": "execute_result",
          "data": {
            "text/html": [
              "<div>\n",
              "<style scoped>\n",
              "    .dataframe tbody tr th:only-of-type {\n",
              "        vertical-align: middle;\n",
              "    }\n",
              "\n",
              "    .dataframe tbody tr th {\n",
              "        vertical-align: top;\n",
              "    }\n",
              "\n",
              "    .dataframe thead th {\n",
              "        text-align: right;\n",
              "    }\n",
              "</style>\n",
              "<table border=\"1\" class=\"dataframe\">\n",
              "  <thead>\n",
              "    <tr style=\"text-align: right;\">\n",
              "      <th></th>\n",
              "      <th>국</th>\n",
              "      <th>영</th>\n",
              "      <th>수</th>\n",
              "      <th>물</th>\n",
              "    </tr>\n",
              "  </thead>\n",
              "  <tbody>\n",
              "    <tr>\n",
              "      <th>2021-05-10</th>\n",
              "      <td>0.656801</td>\n",
              "      <td>0.934164</td>\n",
              "      <td>1.687647</td>\n",
              "      <td>1.485021</td>\n",
              "    </tr>\n",
              "    <tr>\n",
              "      <th>2021-05-11</th>\n",
              "      <td>-0.739951</td>\n",
              "      <td>0.486459</td>\n",
              "      <td>0.395688</td>\n",
              "      <td>-0.096201</td>\n",
              "    </tr>\n",
              "    <tr>\n",
              "      <th>2021-05-12</th>\n",
              "      <td>-1.281384</td>\n",
              "      <td>0.020331</td>\n",
              "      <td>0.601996</td>\n",
              "      <td>-0.756060</td>\n",
              "    </tr>\n",
              "  </tbody>\n",
              "</table>\n",
              "</div>"
            ],
            "text/plain": [
              "                   국         영         수         물\n",
              "2021-05-10  0.656801  0.934164  1.687647  1.485021\n",
              "2021-05-11 -0.739951  0.486459  0.395688 -0.096201\n",
              "2021-05-12 -1.281384  0.020331  0.601996 -0.756060"
            ]
          },
          "metadata": {
            "tags": []
          },
          "execution_count": 24
        }
      ]
    },
    {
      "cell_type": "code",
      "metadata": {
        "colab": {
          "base_uri": "https://localhost:8080/",
          "height": 138
        },
        "id": "UtnQuLnENNCL",
        "outputId": "8a87e01c-7aff-4f00-b707-fcd107c040f3"
      },
      "source": [
        "df.head(3)"
      ],
      "execution_count": 25,
      "outputs": [
        {
          "output_type": "execute_result",
          "data": {
            "text/html": [
              "<div>\n",
              "<style scoped>\n",
              "    .dataframe tbody tr th:only-of-type {\n",
              "        vertical-align: middle;\n",
              "    }\n",
              "\n",
              "    .dataframe tbody tr th {\n",
              "        vertical-align: top;\n",
              "    }\n",
              "\n",
              "    .dataframe thead th {\n",
              "        text-align: right;\n",
              "    }\n",
              "</style>\n",
              "<table border=\"1\" class=\"dataframe\">\n",
              "  <thead>\n",
              "    <tr style=\"text-align: right;\">\n",
              "      <th></th>\n",
              "      <th>국</th>\n",
              "      <th>영</th>\n",
              "      <th>수</th>\n",
              "      <th>물</th>\n",
              "    </tr>\n",
              "  </thead>\n",
              "  <tbody>\n",
              "    <tr>\n",
              "      <th>2021-05-07</th>\n",
              "      <td>-0.454645</td>\n",
              "      <td>0.212046</td>\n",
              "      <td>1.167926</td>\n",
              "      <td>0.022142</td>\n",
              "    </tr>\n",
              "    <tr>\n",
              "      <th>2021-05-08</th>\n",
              "      <td>-1.726724</td>\n",
              "      <td>-1.322399</td>\n",
              "      <td>0.686342</td>\n",
              "      <td>-1.959882</td>\n",
              "    </tr>\n",
              "    <tr>\n",
              "      <th>2021-05-09</th>\n",
              "      <td>-1.287923</td>\n",
              "      <td>-0.819988</td>\n",
              "      <td>-0.018985</td>\n",
              "      <td>-0.231416</td>\n",
              "    </tr>\n",
              "  </tbody>\n",
              "</table>\n",
              "</div>"
            ],
            "text/plain": [
              "                   국         영         수         물\n",
              "2021-05-07 -0.454645  0.212046  1.167926  0.022142\n",
              "2021-05-08 -1.726724 -1.322399  0.686342 -1.959882\n",
              "2021-05-09 -1.287923 -0.819988 -0.018985 -0.231416"
            ]
          },
          "metadata": {
            "tags": []
          },
          "execution_count": 25
        }
      ]
    },
    {
      "cell_type": "code",
      "metadata": {
        "colab": {
          "base_uri": "https://localhost:8080/",
          "height": 228
        },
        "id": "g5fWvJpNOAWY",
        "outputId": "0c603453-d50a-419e-bf25-3a622803f7f5"
      },
      "source": [
        "df"
      ],
      "execution_count": 30,
      "outputs": [
        {
          "output_type": "execute_result",
          "data": {
            "text/html": [
              "<div>\n",
              "<style scoped>\n",
              "    .dataframe tbody tr th:only-of-type {\n",
              "        vertical-align: middle;\n",
              "    }\n",
              "\n",
              "    .dataframe tbody tr th {\n",
              "        vertical-align: top;\n",
              "    }\n",
              "\n",
              "    .dataframe thead th {\n",
              "        text-align: right;\n",
              "    }\n",
              "</style>\n",
              "<table border=\"1\" class=\"dataframe\">\n",
              "  <thead>\n",
              "    <tr style=\"text-align: right;\">\n",
              "      <th></th>\n",
              "      <th>국</th>\n",
              "      <th>영</th>\n",
              "      <th>수</th>\n",
              "      <th>물</th>\n",
              "    </tr>\n",
              "  </thead>\n",
              "  <tbody>\n",
              "    <tr>\n",
              "      <th>2021-05-07</th>\n",
              "      <td>-0.454645</td>\n",
              "      <td>0.212046</td>\n",
              "      <td>1.167926</td>\n",
              "      <td>0.022142</td>\n",
              "    </tr>\n",
              "    <tr>\n",
              "      <th>2021-05-08</th>\n",
              "      <td>-1.726724</td>\n",
              "      <td>-1.322399</td>\n",
              "      <td>0.686342</td>\n",
              "      <td>-1.959882</td>\n",
              "    </tr>\n",
              "    <tr>\n",
              "      <th>2021-05-09</th>\n",
              "      <td>-1.287923</td>\n",
              "      <td>-0.819988</td>\n",
              "      <td>-0.018985</td>\n",
              "      <td>-0.231416</td>\n",
              "    </tr>\n",
              "    <tr>\n",
              "      <th>2021-05-10</th>\n",
              "      <td>0.656801</td>\n",
              "      <td>0.934164</td>\n",
              "      <td>1.687647</td>\n",
              "      <td>1.485021</td>\n",
              "    </tr>\n",
              "    <tr>\n",
              "      <th>2021-05-11</th>\n",
              "      <td>-0.739951</td>\n",
              "      <td>0.486459</td>\n",
              "      <td>0.395688</td>\n",
              "      <td>-0.096201</td>\n",
              "    </tr>\n",
              "    <tr>\n",
              "      <th>2021-05-12</th>\n",
              "      <td>-1.281384</td>\n",
              "      <td>0.020331</td>\n",
              "      <td>0.601996</td>\n",
              "      <td>-0.756060</td>\n",
              "    </tr>\n",
              "  </tbody>\n",
              "</table>\n",
              "</div>"
            ],
            "text/plain": [
              "                   국         영         수         물\n",
              "2021-05-07 -0.454645  0.212046  1.167926  0.022142\n",
              "2021-05-08 -1.726724 -1.322399  0.686342 -1.959882\n",
              "2021-05-09 -1.287923 -0.819988 -0.018985 -0.231416\n",
              "2021-05-10  0.656801  0.934164  1.687647  1.485021\n",
              "2021-05-11 -0.739951  0.486459  0.395688 -0.096201\n",
              "2021-05-12 -1.281384  0.020331  0.601996 -0.756060"
            ]
          },
          "metadata": {
            "tags": []
          },
          "execution_count": 30
        }
      ]
    },
    {
      "cell_type": "code",
      "metadata": {
        "colab": {
          "base_uri": "https://localhost:8080/"
        },
        "id": "R4DPGQ1ONh2L",
        "outputId": "35db85b2-4270-47a9-e3a6-7ce25748656d"
      },
      "source": [
        "df.index"
      ],
      "execution_count": 28,
      "outputs": [
        {
          "output_type": "execute_result",
          "data": {
            "text/plain": [
              "DatetimeIndex(['2021-05-07', '2021-05-08', '2021-05-09', '2021-05-10',\n",
              "               '2021-05-11', '2021-05-12'],\n",
              "              dtype='datetime64[ns]', freq='D')"
            ]
          },
          "metadata": {
            "tags": []
          },
          "execution_count": 28
        }
      ]
    },
    {
      "cell_type": "code",
      "metadata": {
        "colab": {
          "base_uri": "https://localhost:8080/"
        },
        "id": "ymvf2lJ0NyRc",
        "outputId": "7f3ac8b0-9729-418a-f7b5-4eb2887d78f3"
      },
      "source": [
        "df.columns"
      ],
      "execution_count": 29,
      "outputs": [
        {
          "output_type": "execute_result",
          "data": {
            "text/plain": [
              "Index(['국', '영', '수', '물'], dtype='object')"
            ]
          },
          "metadata": {
            "tags": []
          },
          "execution_count": 29
        }
      ]
    },
    {
      "cell_type": "code",
      "metadata": {
        "colab": {
          "base_uri": "https://localhost:8080/"
        },
        "id": "OypNeC-3N3Wb",
        "outputId": "6ca0cce6-7115-4709-cac1-2266189013fe"
      },
      "source": [
        "df.values"
      ],
      "execution_count": 31,
      "outputs": [
        {
          "output_type": "execute_result",
          "data": {
            "text/plain": [
              "array([[-0.45464479,  0.21204606,  1.16792585,  0.02214216],\n",
              "       [-1.72672369, -1.32239944,  0.68634245, -1.95988175],\n",
              "       [-1.28792272, -0.81998818, -0.01898465, -0.23141636],\n",
              "       [ 0.65680098,  0.93416429,  1.68764657,  1.4850213 ],\n",
              "       [-0.73995056,  0.48645885,  0.39568821, -0.09620103],\n",
              "       [-1.28138369,  0.02033129,  0.60199565, -0.75606039]])"
            ]
          },
          "metadata": {
            "tags": []
          },
          "execution_count": 31
        }
      ]
    },
    {
      "cell_type": "code",
      "metadata": {
        "colab": {
          "base_uri": "https://localhost:8080/",
          "height": 288
        },
        "id": "IES0YrLNOFn7",
        "outputId": "fea434e6-eb62-42aa-f98b-774fe7f4894f"
      },
      "source": [
        "df.describe()"
      ],
      "execution_count": 32,
      "outputs": [
        {
          "output_type": "execute_result",
          "data": {
            "text/html": [
              "<div>\n",
              "<style scoped>\n",
              "    .dataframe tbody tr th:only-of-type {\n",
              "        vertical-align: middle;\n",
              "    }\n",
              "\n",
              "    .dataframe tbody tr th {\n",
              "        vertical-align: top;\n",
              "    }\n",
              "\n",
              "    .dataframe thead th {\n",
              "        text-align: right;\n",
              "    }\n",
              "</style>\n",
              "<table border=\"1\" class=\"dataframe\">\n",
              "  <thead>\n",
              "    <tr style=\"text-align: right;\">\n",
              "      <th></th>\n",
              "      <th>국</th>\n",
              "      <th>영</th>\n",
              "      <th>수</th>\n",
              "      <th>물</th>\n",
              "    </tr>\n",
              "  </thead>\n",
              "  <tbody>\n",
              "    <tr>\n",
              "      <th>count</th>\n",
              "      <td>6.000000</td>\n",
              "      <td>6.000000</td>\n",
              "      <td>6.000000</td>\n",
              "      <td>6.000000</td>\n",
              "    </tr>\n",
              "    <tr>\n",
              "      <th>mean</th>\n",
              "      <td>-0.805637</td>\n",
              "      <td>-0.081565</td>\n",
              "      <td>0.753436</td>\n",
              "      <td>-0.256066</td>\n",
              "    </tr>\n",
              "    <tr>\n",
              "      <th>std</th>\n",
              "      <td>0.845408</td>\n",
              "      <td>0.840938</td>\n",
              "      <td>0.599434</td>\n",
              "      <td>1.121422</td>\n",
              "    </tr>\n",
              "    <tr>\n",
              "      <th>min</th>\n",
              "      <td>-1.726724</td>\n",
              "      <td>-1.322399</td>\n",
              "      <td>-0.018985</td>\n",
              "      <td>-1.959882</td>\n",
              "    </tr>\n",
              "    <tr>\n",
              "      <th>25%</th>\n",
              "      <td>-1.286288</td>\n",
              "      <td>-0.609908</td>\n",
              "      <td>0.447265</td>\n",
              "      <td>-0.624899</td>\n",
              "    </tr>\n",
              "    <tr>\n",
              "      <th>50%</th>\n",
              "      <td>-1.010667</td>\n",
              "      <td>0.116189</td>\n",
              "      <td>0.644169</td>\n",
              "      <td>-0.163809</td>\n",
              "    </tr>\n",
              "    <tr>\n",
              "      <th>75%</th>\n",
              "      <td>-0.525971</td>\n",
              "      <td>0.417856</td>\n",
              "      <td>1.047530</td>\n",
              "      <td>-0.007444</td>\n",
              "    </tr>\n",
              "    <tr>\n",
              "      <th>max</th>\n",
              "      <td>0.656801</td>\n",
              "      <td>0.934164</td>\n",
              "      <td>1.687647</td>\n",
              "      <td>1.485021</td>\n",
              "    </tr>\n",
              "  </tbody>\n",
              "</table>\n",
              "</div>"
            ],
            "text/plain": [
              "              국         영         수         물\n",
              "count  6.000000  6.000000  6.000000  6.000000\n",
              "mean  -0.805637 -0.081565  0.753436 -0.256066\n",
              "std    0.845408  0.840938  0.599434  1.121422\n",
              "min   -1.726724 -1.322399 -0.018985 -1.959882\n",
              "25%   -1.286288 -0.609908  0.447265 -0.624899\n",
              "50%   -1.010667  0.116189  0.644169 -0.163809\n",
              "75%   -0.525971  0.417856  1.047530 -0.007444\n",
              "max    0.656801  0.934164  1.687647  1.485021"
            ]
          },
          "metadata": {
            "tags": []
          },
          "execution_count": 32
        }
      ]
    },
    {
      "cell_type": "code",
      "metadata": {
        "colab": {
          "base_uri": "https://localhost:8080/",
          "height": 228
        },
        "id": "lMCtEQJLONDL",
        "outputId": "1f757db3-f382-4979-e100-2a4a90ee24cc"
      },
      "source": [
        "df"
      ],
      "execution_count": 33,
      "outputs": [
        {
          "output_type": "execute_result",
          "data": {
            "text/html": [
              "<div>\n",
              "<style scoped>\n",
              "    .dataframe tbody tr th:only-of-type {\n",
              "        vertical-align: middle;\n",
              "    }\n",
              "\n",
              "    .dataframe tbody tr th {\n",
              "        vertical-align: top;\n",
              "    }\n",
              "\n",
              "    .dataframe thead th {\n",
              "        text-align: right;\n",
              "    }\n",
              "</style>\n",
              "<table border=\"1\" class=\"dataframe\">\n",
              "  <thead>\n",
              "    <tr style=\"text-align: right;\">\n",
              "      <th></th>\n",
              "      <th>국</th>\n",
              "      <th>영</th>\n",
              "      <th>수</th>\n",
              "      <th>물</th>\n",
              "    </tr>\n",
              "  </thead>\n",
              "  <tbody>\n",
              "    <tr>\n",
              "      <th>2021-05-07</th>\n",
              "      <td>-0.454645</td>\n",
              "      <td>0.212046</td>\n",
              "      <td>1.167926</td>\n",
              "      <td>0.022142</td>\n",
              "    </tr>\n",
              "    <tr>\n",
              "      <th>2021-05-08</th>\n",
              "      <td>-1.726724</td>\n",
              "      <td>-1.322399</td>\n",
              "      <td>0.686342</td>\n",
              "      <td>-1.959882</td>\n",
              "    </tr>\n",
              "    <tr>\n",
              "      <th>2021-05-09</th>\n",
              "      <td>-1.287923</td>\n",
              "      <td>-0.819988</td>\n",
              "      <td>-0.018985</td>\n",
              "      <td>-0.231416</td>\n",
              "    </tr>\n",
              "    <tr>\n",
              "      <th>2021-05-10</th>\n",
              "      <td>0.656801</td>\n",
              "      <td>0.934164</td>\n",
              "      <td>1.687647</td>\n",
              "      <td>1.485021</td>\n",
              "    </tr>\n",
              "    <tr>\n",
              "      <th>2021-05-11</th>\n",
              "      <td>-0.739951</td>\n",
              "      <td>0.486459</td>\n",
              "      <td>0.395688</td>\n",
              "      <td>-0.096201</td>\n",
              "    </tr>\n",
              "    <tr>\n",
              "      <th>2021-05-12</th>\n",
              "      <td>-1.281384</td>\n",
              "      <td>0.020331</td>\n",
              "      <td>0.601996</td>\n",
              "      <td>-0.756060</td>\n",
              "    </tr>\n",
              "  </tbody>\n",
              "</table>\n",
              "</div>"
            ],
            "text/plain": [
              "                   국         영         수         물\n",
              "2021-05-07 -0.454645  0.212046  1.167926  0.022142\n",
              "2021-05-08 -1.726724 -1.322399  0.686342 -1.959882\n",
              "2021-05-09 -1.287923 -0.819988 -0.018985 -0.231416\n",
              "2021-05-10  0.656801  0.934164  1.687647  1.485021\n",
              "2021-05-11 -0.739951  0.486459  0.395688 -0.096201\n",
              "2021-05-12 -1.281384  0.020331  0.601996 -0.756060"
            ]
          },
          "metadata": {
            "tags": []
          },
          "execution_count": 33
        }
      ]
    },
    {
      "cell_type": "code",
      "metadata": {
        "colab": {
          "base_uri": "https://localhost:8080/",
          "height": 168
        },
        "id": "xLlfvD08O1yt",
        "outputId": "90a803b8-936a-42ba-be79-848225413ed3"
      },
      "source": [
        "df.T"
      ],
      "execution_count": 34,
      "outputs": [
        {
          "output_type": "execute_result",
          "data": {
            "text/html": [
              "<div>\n",
              "<style scoped>\n",
              "    .dataframe tbody tr th:only-of-type {\n",
              "        vertical-align: middle;\n",
              "    }\n",
              "\n",
              "    .dataframe tbody tr th {\n",
              "        vertical-align: top;\n",
              "    }\n",
              "\n",
              "    .dataframe thead th {\n",
              "        text-align: right;\n",
              "    }\n",
              "</style>\n",
              "<table border=\"1\" class=\"dataframe\">\n",
              "  <thead>\n",
              "    <tr style=\"text-align: right;\">\n",
              "      <th></th>\n",
              "      <th>2021-05-07</th>\n",
              "      <th>2021-05-08</th>\n",
              "      <th>2021-05-09</th>\n",
              "      <th>2021-05-10</th>\n",
              "      <th>2021-05-11</th>\n",
              "      <th>2021-05-12</th>\n",
              "    </tr>\n",
              "  </thead>\n",
              "  <tbody>\n",
              "    <tr>\n",
              "      <th>국</th>\n",
              "      <td>-0.454645</td>\n",
              "      <td>-1.726724</td>\n",
              "      <td>-1.287923</td>\n",
              "      <td>0.656801</td>\n",
              "      <td>-0.739951</td>\n",
              "      <td>-1.281384</td>\n",
              "    </tr>\n",
              "    <tr>\n",
              "      <th>영</th>\n",
              "      <td>0.212046</td>\n",
              "      <td>-1.322399</td>\n",
              "      <td>-0.819988</td>\n",
              "      <td>0.934164</td>\n",
              "      <td>0.486459</td>\n",
              "      <td>0.020331</td>\n",
              "    </tr>\n",
              "    <tr>\n",
              "      <th>수</th>\n",
              "      <td>1.167926</td>\n",
              "      <td>0.686342</td>\n",
              "      <td>-0.018985</td>\n",
              "      <td>1.687647</td>\n",
              "      <td>0.395688</td>\n",
              "      <td>0.601996</td>\n",
              "    </tr>\n",
              "    <tr>\n",
              "      <th>물</th>\n",
              "      <td>0.022142</td>\n",
              "      <td>-1.959882</td>\n",
              "      <td>-0.231416</td>\n",
              "      <td>1.485021</td>\n",
              "      <td>-0.096201</td>\n",
              "      <td>-0.756060</td>\n",
              "    </tr>\n",
              "  </tbody>\n",
              "</table>\n",
              "</div>"
            ],
            "text/plain": [
              "   2021-05-07  2021-05-08  2021-05-09  2021-05-10  2021-05-11  2021-05-12\n",
              "국   -0.454645   -1.726724   -1.287923    0.656801   -0.739951   -1.281384\n",
              "영    0.212046   -1.322399   -0.819988    0.934164    0.486459    0.020331\n",
              "수    1.167926    0.686342   -0.018985    1.687647    0.395688    0.601996\n",
              "물    0.022142   -1.959882   -0.231416    1.485021   -0.096201   -0.756060"
            ]
          },
          "metadata": {
            "tags": []
          },
          "execution_count": 34
        }
      ]
    },
    {
      "cell_type": "code",
      "metadata": {
        "id": "Br_yGqfsO5vL"
      },
      "source": [
        ""
      ],
      "execution_count": null,
      "outputs": []
    }
  ]
}