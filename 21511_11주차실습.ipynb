{
  "nbformat": 4,
  "nbformat_minor": 0,
  "metadata": {
    "colab": {
      "name": "21511_11주차실습.ipynb",
      "provenance": [],
      "collapsed_sections": [],
      "authorship_tag": "ABX9TyO0ElVkM7alQWObIZpqPMqs",
      "include_colab_link": true
    },
    "kernelspec": {
      "name": "python3",
      "display_name": "Python 3"
    },
    "language_info": {
      "name": "python"
    }
  },
  "cells": [
    {
      "cell_type": "markdown",
      "metadata": {
        "id": "view-in-github",
        "colab_type": "text"
      },
      "source": [
        "<a href=\"https://colab.research.google.com/github/parksiwoo1/bmt_python/blob/main/21511_11%EC%A3%BC%EC%B0%A8%EC%8B%A4%EC%8A%B5.ipynb\" target=\"_parent\"><img src=\"https://colab.research.google.com/assets/colab-badge.svg\" alt=\"Open In Colab\"/></a>"
      ]
    },
    {
      "cell_type": "code",
      "metadata": {
        "id": "9gKQB2qsJCXi"
      },
      "source": [
        "import pandas as pd\n",
        "import numpy as np\n",
        "import matplotlib.pyplot as plt\n"
      ],
      "execution_count": 1,
      "outputs": []
    },
    {
      "cell_type": "code",
      "metadata": {
        "id": "kLGFjGMZLLu0"
      },
      "source": [
        "dates=pd.date_range('20210514',periods=6)\n",
        "df=pd.DataFrame(np.random.randn(6,4),index=dates,columns=list('ABCD'))"
      ],
      "execution_count": 3,
      "outputs": []
    },
    {
      "cell_type": "code",
      "metadata": {
        "colab": {
          "base_uri": "https://localhost:8080/",
          "height": 228
        },
        "id": "e5M-vesAL3wS",
        "outputId": "fb75e372-beab-48f9-9b53-74aa66562ed5"
      },
      "source": [
        "df"
      ],
      "execution_count": 8,
      "outputs": [
        {
          "output_type": "execute_result",
          "data": {
            "text/html": [
              "<div>\n",
              "<style scoped>\n",
              "    .dataframe tbody tr th:only-of-type {\n",
              "        vertical-align: middle;\n",
              "    }\n",
              "\n",
              "    .dataframe tbody tr th {\n",
              "        vertical-align: top;\n",
              "    }\n",
              "\n",
              "    .dataframe thead th {\n",
              "        text-align: right;\n",
              "    }\n",
              "</style>\n",
              "<table border=\"1\" class=\"dataframe\">\n",
              "  <thead>\n",
              "    <tr style=\"text-align: right;\">\n",
              "      <th></th>\n",
              "      <th>A</th>\n",
              "      <th>B</th>\n",
              "      <th>C</th>\n",
              "      <th>D</th>\n",
              "    </tr>\n",
              "  </thead>\n",
              "  <tbody>\n",
              "    <tr>\n",
              "      <th>2021-05-14</th>\n",
              "      <td>-0.172001</td>\n",
              "      <td>-0.845424</td>\n",
              "      <td>0.903493</td>\n",
              "      <td>-1.087624</td>\n",
              "    </tr>\n",
              "    <tr>\n",
              "      <th>2021-05-15</th>\n",
              "      <td>0.596868</td>\n",
              "      <td>0.822966</td>\n",
              "      <td>-1.727255</td>\n",
              "      <td>0.006794</td>\n",
              "    </tr>\n",
              "    <tr>\n",
              "      <th>2021-05-16</th>\n",
              "      <td>-0.271070</td>\n",
              "      <td>-0.797020</td>\n",
              "      <td>-1.631884</td>\n",
              "      <td>0.755110</td>\n",
              "    </tr>\n",
              "    <tr>\n",
              "      <th>2021-05-17</th>\n",
              "      <td>-1.049681</td>\n",
              "      <td>-0.305975</td>\n",
              "      <td>0.818902</td>\n",
              "      <td>-0.089954</td>\n",
              "    </tr>\n",
              "    <tr>\n",
              "      <th>2021-05-18</th>\n",
              "      <td>1.083220</td>\n",
              "      <td>-1.929278</td>\n",
              "      <td>-1.301436</td>\n",
              "      <td>1.017441</td>\n",
              "    </tr>\n",
              "    <tr>\n",
              "      <th>2021-05-19</th>\n",
              "      <td>-0.776590</td>\n",
              "      <td>1.836651</td>\n",
              "      <td>0.905515</td>\n",
              "      <td>-0.777818</td>\n",
              "    </tr>\n",
              "  </tbody>\n",
              "</table>\n",
              "</div>"
            ],
            "text/plain": [
              "                   A         B         C         D\n",
              "2021-05-14 -0.172001 -0.845424  0.903493 -1.087624\n",
              "2021-05-15  0.596868  0.822966 -1.727255  0.006794\n",
              "2021-05-16 -0.271070 -0.797020 -1.631884  0.755110\n",
              "2021-05-17 -1.049681 -0.305975  0.818902 -0.089954\n",
              "2021-05-18  1.083220 -1.929278 -1.301436  1.017441\n",
              "2021-05-19 -0.776590  1.836651  0.905515 -0.777818"
            ]
          },
          "metadata": {
            "tags": []
          },
          "execution_count": 8
        }
      ]
    },
    {
      "cell_type": "code",
      "metadata": {
        "colab": {
          "base_uri": "https://localhost:8080/"
        },
        "id": "0jqBp0HpMFhc",
        "outputId": "352be377-f57b-405c-85c3-314ae989784e"
      },
      "source": [
        "df.mean(1)"
      ],
      "execution_count": 10,
      "outputs": [
        {
          "output_type": "execute_result",
          "data": {
            "text/plain": [
              "2021-05-14   -0.300389\n",
              "2021-05-15   -0.075157\n",
              "2021-05-16   -0.486216\n",
              "2021-05-17   -0.156677\n",
              "2021-05-18   -0.282513\n",
              "2021-05-19    0.296939\n",
              "Freq: D, dtype: float64"
            ]
          },
          "metadata": {
            "tags": []
          },
          "execution_count": 10
        }
      ]
    },
    {
      "cell_type": "code",
      "metadata": {
        "colab": {
          "base_uri": "https://localhost:8080/",
          "height": 228
        },
        "id": "yOxX0VDCMbzC",
        "outputId": "0b259a94-e9da-4059-f039-d63f529838da"
      },
      "source": [
        "df.apply(np.cumsum,axis=0)"
      ],
      "execution_count": 13,
      "outputs": [
        {
          "output_type": "execute_result",
          "data": {
            "text/html": [
              "<div>\n",
              "<style scoped>\n",
              "    .dataframe tbody tr th:only-of-type {\n",
              "        vertical-align: middle;\n",
              "    }\n",
              "\n",
              "    .dataframe tbody tr th {\n",
              "        vertical-align: top;\n",
              "    }\n",
              "\n",
              "    .dataframe thead th {\n",
              "        text-align: right;\n",
              "    }\n",
              "</style>\n",
              "<table border=\"1\" class=\"dataframe\">\n",
              "  <thead>\n",
              "    <tr style=\"text-align: right;\">\n",
              "      <th></th>\n",
              "      <th>A</th>\n",
              "      <th>B</th>\n",
              "      <th>C</th>\n",
              "      <th>D</th>\n",
              "    </tr>\n",
              "  </thead>\n",
              "  <tbody>\n",
              "    <tr>\n",
              "      <th>2021-05-14</th>\n",
              "      <td>-0.172001</td>\n",
              "      <td>-0.845424</td>\n",
              "      <td>0.903493</td>\n",
              "      <td>-1.087624</td>\n",
              "    </tr>\n",
              "    <tr>\n",
              "      <th>2021-05-15</th>\n",
              "      <td>0.424866</td>\n",
              "      <td>-0.022458</td>\n",
              "      <td>-0.823762</td>\n",
              "      <td>-1.080830</td>\n",
              "    </tr>\n",
              "    <tr>\n",
              "      <th>2021-05-16</th>\n",
              "      <td>0.153796</td>\n",
              "      <td>-0.819478</td>\n",
              "      <td>-2.455646</td>\n",
              "      <td>-0.325719</td>\n",
              "    </tr>\n",
              "    <tr>\n",
              "      <th>2021-05-17</th>\n",
              "      <td>-0.895885</td>\n",
              "      <td>-1.125453</td>\n",
              "      <td>-1.636744</td>\n",
              "      <td>-0.415673</td>\n",
              "    </tr>\n",
              "    <tr>\n",
              "      <th>2021-05-18</th>\n",
              "      <td>0.187335</td>\n",
              "      <td>-3.054731</td>\n",
              "      <td>-2.938181</td>\n",
              "      <td>0.601767</td>\n",
              "    </tr>\n",
              "    <tr>\n",
              "      <th>2021-05-19</th>\n",
              "      <td>-0.589256</td>\n",
              "      <td>-1.218081</td>\n",
              "      <td>-2.032666</td>\n",
              "      <td>-0.176051</td>\n",
              "    </tr>\n",
              "  </tbody>\n",
              "</table>\n",
              "</div>"
            ],
            "text/plain": [
              "                   A         B         C         D\n",
              "2021-05-14 -0.172001 -0.845424  0.903493 -1.087624\n",
              "2021-05-15  0.424866 -0.022458 -0.823762 -1.080830\n",
              "2021-05-16  0.153796 -0.819478 -2.455646 -0.325719\n",
              "2021-05-17 -0.895885 -1.125453 -1.636744 -0.415673\n",
              "2021-05-18  0.187335 -3.054731 -2.938181  0.601767\n",
              "2021-05-19 -0.589256 -1.218081 -2.032666 -0.176051"
            ]
          },
          "metadata": {
            "tags": []
          },
          "execution_count": 13
        }
      ]
    },
    {
      "cell_type": "code",
      "metadata": {
        "colab": {
          "base_uri": "https://localhost:8080/"
        },
        "id": "v4gfHz8sNPsU",
        "outputId": "4df8b4d6-bed2-4f62-a448-b21a83ee63a1"
      },
      "source": [
        "df.apply(lambda x:x.max()-x.min(),axis=1)"
      ],
      "execution_count": 15,
      "outputs": [
        {
          "output_type": "execute_result",
          "data": {
            "text/plain": [
              "2021-05-14    1.991117\n",
              "2021-05-15    2.550221\n",
              "2021-05-16    2.386994\n",
              "2021-05-17    1.868583\n",
              "2021-05-18    3.012498\n",
              "2021-05-19    2.614468\n",
              "Freq: D, dtype: float64"
            ]
          },
          "metadata": {
            "tags": []
          },
          "execution_count": 15
        }
      ]
    },
    {
      "cell_type": "code",
      "metadata": {
        "colab": {
          "base_uri": "https://localhost:8080/"
        },
        "id": "mq5hB7LNOQNT",
        "outputId": "13fab76b-374e-4b78-a43b-80d50f7dcc2e"
      },
      "source": [
        "s=pd.Series(np.random.randint(1,6,size=6000000))\n",
        "s.value_counts()"
      ],
      "execution_count": 25,
      "outputs": [
        {
          "output_type": "execute_result",
          "data": {
            "text/plain": [
              "2    1201589\n",
              "3    1200387\n",
              "4    1199680\n",
              "5    1199677\n",
              "1    1198667\n",
              "dtype: int64"
            ]
          },
          "metadata": {
            "tags": []
          },
          "execution_count": 25
        }
      ]
    },
    {
      "cell_type": "code",
      "metadata": {
        "id": "hvtMp4OSO7jj"
      },
      "source": [
        "df = pd.DataFrame(np.random.randn(10, 4))"
      ],
      "execution_count": 26,
      "outputs": []
    },
    {
      "cell_type": "code",
      "metadata": {
        "colab": {
          "base_uri": "https://localhost:8080/",
          "height": 348
        },
        "id": "QYf3HrjrQPRk",
        "outputId": "728eb16c-b151-4c8f-9c17-b1609bead457"
      },
      "source": [
        "df"
      ],
      "execution_count": 27,
      "outputs": [
        {
          "output_type": "execute_result",
          "data": {
            "text/html": [
              "<div>\n",
              "<style scoped>\n",
              "    .dataframe tbody tr th:only-of-type {\n",
              "        vertical-align: middle;\n",
              "    }\n",
              "\n",
              "    .dataframe tbody tr th {\n",
              "        vertical-align: top;\n",
              "    }\n",
              "\n",
              "    .dataframe thead th {\n",
              "        text-align: right;\n",
              "    }\n",
              "</style>\n",
              "<table border=\"1\" class=\"dataframe\">\n",
              "  <thead>\n",
              "    <tr style=\"text-align: right;\">\n",
              "      <th></th>\n",
              "      <th>0</th>\n",
              "      <th>1</th>\n",
              "      <th>2</th>\n",
              "      <th>3</th>\n",
              "    </tr>\n",
              "  </thead>\n",
              "  <tbody>\n",
              "    <tr>\n",
              "      <th>0</th>\n",
              "      <td>-0.421234</td>\n",
              "      <td>0.241373</td>\n",
              "      <td>-0.759561</td>\n",
              "      <td>1.768699</td>\n",
              "    </tr>\n",
              "    <tr>\n",
              "      <th>1</th>\n",
              "      <td>-1.853379</td>\n",
              "      <td>1.852610</td>\n",
              "      <td>0.357144</td>\n",
              "      <td>-0.007694</td>\n",
              "    </tr>\n",
              "    <tr>\n",
              "      <th>2</th>\n",
              "      <td>0.898029</td>\n",
              "      <td>1.692809</td>\n",
              "      <td>-0.835416</td>\n",
              "      <td>-0.072411</td>\n",
              "    </tr>\n",
              "    <tr>\n",
              "      <th>3</th>\n",
              "      <td>-0.243243</td>\n",
              "      <td>-0.181271</td>\n",
              "      <td>-0.140734</td>\n",
              "      <td>-2.512213</td>\n",
              "    </tr>\n",
              "    <tr>\n",
              "      <th>4</th>\n",
              "      <td>0.981955</td>\n",
              "      <td>0.954765</td>\n",
              "      <td>2.266865</td>\n",
              "      <td>0.493650</td>\n",
              "    </tr>\n",
              "    <tr>\n",
              "      <th>5</th>\n",
              "      <td>-0.071901</td>\n",
              "      <td>-0.111147</td>\n",
              "      <td>0.048027</td>\n",
              "      <td>-0.825126</td>\n",
              "    </tr>\n",
              "    <tr>\n",
              "      <th>6</th>\n",
              "      <td>-0.920234</td>\n",
              "      <td>1.004799</td>\n",
              "      <td>0.128951</td>\n",
              "      <td>-0.625979</td>\n",
              "    </tr>\n",
              "    <tr>\n",
              "      <th>7</th>\n",
              "      <td>0.418783</td>\n",
              "      <td>0.169940</td>\n",
              "      <td>0.312561</td>\n",
              "      <td>1.678494</td>\n",
              "    </tr>\n",
              "    <tr>\n",
              "      <th>8</th>\n",
              "      <td>-0.665669</td>\n",
              "      <td>0.049459</td>\n",
              "      <td>-0.661256</td>\n",
              "      <td>-1.435862</td>\n",
              "    </tr>\n",
              "    <tr>\n",
              "      <th>9</th>\n",
              "      <td>-0.036405</td>\n",
              "      <td>-0.606828</td>\n",
              "      <td>0.587610</td>\n",
              "      <td>0.349209</td>\n",
              "    </tr>\n",
              "  </tbody>\n",
              "</table>\n",
              "</div>"
            ],
            "text/plain": [
              "          0         1         2         3\n",
              "0 -0.421234  0.241373 -0.759561  1.768699\n",
              "1 -1.853379  1.852610  0.357144 -0.007694\n",
              "2  0.898029  1.692809 -0.835416 -0.072411\n",
              "3 -0.243243 -0.181271 -0.140734 -2.512213\n",
              "4  0.981955  0.954765  2.266865  0.493650\n",
              "5 -0.071901 -0.111147  0.048027 -0.825126\n",
              "6 -0.920234  1.004799  0.128951 -0.625979\n",
              "7  0.418783  0.169940  0.312561  1.678494\n",
              "8 -0.665669  0.049459 -0.661256 -1.435862\n",
              "9 -0.036405 -0.606828  0.587610  0.349209"
            ]
          },
          "metadata": {
            "tags": []
          },
          "execution_count": 27
        }
      ]
    },
    {
      "cell_type": "code",
      "metadata": {
        "colab": {
          "base_uri": "https://localhost:8080/",
          "height": 168
        },
        "id": "34LiYDqsQVXT",
        "outputId": "02f9b5a2-8119-4e10-bbbe-0cadde27bc16"
      },
      "source": [
        "df[3:7]"
      ],
      "execution_count": 29,
      "outputs": [
        {
          "output_type": "execute_result",
          "data": {
            "text/html": [
              "<div>\n",
              "<style scoped>\n",
              "    .dataframe tbody tr th:only-of-type {\n",
              "        vertical-align: middle;\n",
              "    }\n",
              "\n",
              "    .dataframe tbody tr th {\n",
              "        vertical-align: top;\n",
              "    }\n",
              "\n",
              "    .dataframe thead th {\n",
              "        text-align: right;\n",
              "    }\n",
              "</style>\n",
              "<table border=\"1\" class=\"dataframe\">\n",
              "  <thead>\n",
              "    <tr style=\"text-align: right;\">\n",
              "      <th></th>\n",
              "      <th>0</th>\n",
              "      <th>1</th>\n",
              "      <th>2</th>\n",
              "      <th>3</th>\n",
              "    </tr>\n",
              "  </thead>\n",
              "  <tbody>\n",
              "    <tr>\n",
              "      <th>3</th>\n",
              "      <td>-0.243243</td>\n",
              "      <td>-0.181271</td>\n",
              "      <td>-0.140734</td>\n",
              "      <td>-2.512213</td>\n",
              "    </tr>\n",
              "    <tr>\n",
              "      <th>4</th>\n",
              "      <td>0.981955</td>\n",
              "      <td>0.954765</td>\n",
              "      <td>2.266865</td>\n",
              "      <td>0.493650</td>\n",
              "    </tr>\n",
              "    <tr>\n",
              "      <th>5</th>\n",
              "      <td>-0.071901</td>\n",
              "      <td>-0.111147</td>\n",
              "      <td>0.048027</td>\n",
              "      <td>-0.825126</td>\n",
              "    </tr>\n",
              "    <tr>\n",
              "      <th>6</th>\n",
              "      <td>-0.920234</td>\n",
              "      <td>1.004799</td>\n",
              "      <td>0.128951</td>\n",
              "      <td>-0.625979</td>\n",
              "    </tr>\n",
              "  </tbody>\n",
              "</table>\n",
              "</div>"
            ],
            "text/plain": [
              "          0         1         2         3\n",
              "3 -0.243243 -0.181271 -0.140734 -2.512213\n",
              "4  0.981955  0.954765  2.266865  0.493650\n",
              "5 -0.071901 -0.111147  0.048027 -0.825126\n",
              "6 -0.920234  1.004799  0.128951 -0.625979"
            ]
          },
          "metadata": {
            "tags": []
          },
          "execution_count": 29
        }
      ]
    },
    {
      "cell_type": "code",
      "metadata": {
        "colab": {
          "base_uri": "https://localhost:8080/"
        },
        "id": "bwfQee-pQW2A",
        "outputId": "9fadbd3d-26d3-4076-b9a6-ef5bfdb10205"
      },
      "source": [
        "pieces = [df[:3], df[3:7], df[7:]]\n",
        "pieces"
      ],
      "execution_count": 31,
      "outputs": [
        {
          "output_type": "execute_result",
          "data": {
            "text/plain": [
              "[          0         1         2         3\n",
              " 0 -0.421234  0.241373 -0.759561  1.768699\n",
              " 1 -1.853379  1.852610  0.357144 -0.007694\n",
              " 2  0.898029  1.692809 -0.835416 -0.072411,\n",
              "           0         1         2         3\n",
              " 3 -0.243243 -0.181271 -0.140734 -2.512213\n",
              " 4  0.981955  0.954765  2.266865  0.493650\n",
              " 5 -0.071901 -0.111147  0.048027 -0.825126\n",
              " 6 -0.920234  1.004799  0.128951 -0.625979,\n",
              "           0         1         2         3\n",
              " 7  0.418783  0.169940  0.312561  1.678494\n",
              " 8 -0.665669  0.049459 -0.661256 -1.435862\n",
              " 9 -0.036405 -0.606828  0.587610  0.349209]"
            ]
          },
          "metadata": {
            "tags": []
          },
          "execution_count": 31
        }
      ]
    },
    {
      "cell_type": "code",
      "metadata": {
        "colab": {
          "base_uri": "https://localhost:8080/",
          "height": 348
        },
        "id": "saioQItEQuZl",
        "outputId": "5098ca99-b8c2-483f-a7af-37eb1b9785eb"
      },
      "source": [
        "pd.concat(pieces)"
      ],
      "execution_count": 32,
      "outputs": [
        {
          "output_type": "execute_result",
          "data": {
            "text/html": [
              "<div>\n",
              "<style scoped>\n",
              "    .dataframe tbody tr th:only-of-type {\n",
              "        vertical-align: middle;\n",
              "    }\n",
              "\n",
              "    .dataframe tbody tr th {\n",
              "        vertical-align: top;\n",
              "    }\n",
              "\n",
              "    .dataframe thead th {\n",
              "        text-align: right;\n",
              "    }\n",
              "</style>\n",
              "<table border=\"1\" class=\"dataframe\">\n",
              "  <thead>\n",
              "    <tr style=\"text-align: right;\">\n",
              "      <th></th>\n",
              "      <th>0</th>\n",
              "      <th>1</th>\n",
              "      <th>2</th>\n",
              "      <th>3</th>\n",
              "    </tr>\n",
              "  </thead>\n",
              "  <tbody>\n",
              "    <tr>\n",
              "      <th>0</th>\n",
              "      <td>-0.421234</td>\n",
              "      <td>0.241373</td>\n",
              "      <td>-0.759561</td>\n",
              "      <td>1.768699</td>\n",
              "    </tr>\n",
              "    <tr>\n",
              "      <th>1</th>\n",
              "      <td>-1.853379</td>\n",
              "      <td>1.852610</td>\n",
              "      <td>0.357144</td>\n",
              "      <td>-0.007694</td>\n",
              "    </tr>\n",
              "    <tr>\n",
              "      <th>2</th>\n",
              "      <td>0.898029</td>\n",
              "      <td>1.692809</td>\n",
              "      <td>-0.835416</td>\n",
              "      <td>-0.072411</td>\n",
              "    </tr>\n",
              "    <tr>\n",
              "      <th>3</th>\n",
              "      <td>-0.243243</td>\n",
              "      <td>-0.181271</td>\n",
              "      <td>-0.140734</td>\n",
              "      <td>-2.512213</td>\n",
              "    </tr>\n",
              "    <tr>\n",
              "      <th>4</th>\n",
              "      <td>0.981955</td>\n",
              "      <td>0.954765</td>\n",
              "      <td>2.266865</td>\n",
              "      <td>0.493650</td>\n",
              "    </tr>\n",
              "    <tr>\n",
              "      <th>5</th>\n",
              "      <td>-0.071901</td>\n",
              "      <td>-0.111147</td>\n",
              "      <td>0.048027</td>\n",
              "      <td>-0.825126</td>\n",
              "    </tr>\n",
              "    <tr>\n",
              "      <th>6</th>\n",
              "      <td>-0.920234</td>\n",
              "      <td>1.004799</td>\n",
              "      <td>0.128951</td>\n",
              "      <td>-0.625979</td>\n",
              "    </tr>\n",
              "    <tr>\n",
              "      <th>7</th>\n",
              "      <td>0.418783</td>\n",
              "      <td>0.169940</td>\n",
              "      <td>0.312561</td>\n",
              "      <td>1.678494</td>\n",
              "    </tr>\n",
              "    <tr>\n",
              "      <th>8</th>\n",
              "      <td>-0.665669</td>\n",
              "      <td>0.049459</td>\n",
              "      <td>-0.661256</td>\n",
              "      <td>-1.435862</td>\n",
              "    </tr>\n",
              "    <tr>\n",
              "      <th>9</th>\n",
              "      <td>-0.036405</td>\n",
              "      <td>-0.606828</td>\n",
              "      <td>0.587610</td>\n",
              "      <td>0.349209</td>\n",
              "    </tr>\n",
              "  </tbody>\n",
              "</table>\n",
              "</div>"
            ],
            "text/plain": [
              "          0         1         2         3\n",
              "0 -0.421234  0.241373 -0.759561  1.768699\n",
              "1 -1.853379  1.852610  0.357144 -0.007694\n",
              "2  0.898029  1.692809 -0.835416 -0.072411\n",
              "3 -0.243243 -0.181271 -0.140734 -2.512213\n",
              "4  0.981955  0.954765  2.266865  0.493650\n",
              "5 -0.071901 -0.111147  0.048027 -0.825126\n",
              "6 -0.920234  1.004799  0.128951 -0.625979\n",
              "7  0.418783  0.169940  0.312561  1.678494\n",
              "8 -0.665669  0.049459 -0.661256 -1.435862\n",
              "9 -0.036405 -0.606828  0.587610  0.349209"
            ]
          },
          "metadata": {
            "tags": []
          },
          "execution_count": 32
        }
      ]
    },
    {
      "cell_type": "code",
      "metadata": {
        "id": "hQRs414yQ31k"
      },
      "source": [
        "left = pd.DataFrame(\n",
        "      {\n",
        "        'key':['foo', 'foo'], 'lval': [1, 2]\n",
        "      }\n",
        "    )\n",
        "right = pd.DataFrame(\n",
        "      {\n",
        "        'key':['foo', 'foo'], 'rval': [4, 5]\n",
        "      }\n",
        "    )\n"
      ],
      "execution_count": 33,
      "outputs": []
    },
    {
      "cell_type": "code",
      "metadata": {
        "colab": {
          "base_uri": "https://localhost:8080/",
          "height": 108
        },
        "id": "yIB4OfspemUu",
        "outputId": "e5dfa6dc-250c-4c55-8211-7bc42b6dc72e"
      },
      "source": [
        "left"
      ],
      "execution_count": 35,
      "outputs": [
        {
          "output_type": "execute_result",
          "data": {
            "text/html": [
              "<div>\n",
              "<style scoped>\n",
              "    .dataframe tbody tr th:only-of-type {\n",
              "        vertical-align: middle;\n",
              "    }\n",
              "\n",
              "    .dataframe tbody tr th {\n",
              "        vertical-align: top;\n",
              "    }\n",
              "\n",
              "    .dataframe thead th {\n",
              "        text-align: right;\n",
              "    }\n",
              "</style>\n",
              "<table border=\"1\" class=\"dataframe\">\n",
              "  <thead>\n",
              "    <tr style=\"text-align: right;\">\n",
              "      <th></th>\n",
              "      <th>key</th>\n",
              "      <th>lval</th>\n",
              "    </tr>\n",
              "  </thead>\n",
              "  <tbody>\n",
              "    <tr>\n",
              "      <th>0</th>\n",
              "      <td>foo</td>\n",
              "      <td>1</td>\n",
              "    </tr>\n",
              "    <tr>\n",
              "      <th>1</th>\n",
              "      <td>foo</td>\n",
              "      <td>2</td>\n",
              "    </tr>\n",
              "  </tbody>\n",
              "</table>\n",
              "</div>"
            ],
            "text/plain": [
              "   key  lval\n",
              "0  foo     1\n",
              "1  foo     2"
            ]
          },
          "metadata": {
            "tags": []
          },
          "execution_count": 35
        }
      ]
    },
    {
      "cell_type": "code",
      "metadata": {
        "colab": {
          "base_uri": "https://localhost:8080/",
          "height": 108
        },
        "id": "jVZ1FA23eqKI",
        "outputId": "59c17256-3a16-47a9-a51c-832a215df626"
      },
      "source": [
        "right"
      ],
      "execution_count": 36,
      "outputs": [
        {
          "output_type": "execute_result",
          "data": {
            "text/html": [
              "<div>\n",
              "<style scoped>\n",
              "    .dataframe tbody tr th:only-of-type {\n",
              "        vertical-align: middle;\n",
              "    }\n",
              "\n",
              "    .dataframe tbody tr th {\n",
              "        vertical-align: top;\n",
              "    }\n",
              "\n",
              "    .dataframe thead th {\n",
              "        text-align: right;\n",
              "    }\n",
              "</style>\n",
              "<table border=\"1\" class=\"dataframe\">\n",
              "  <thead>\n",
              "    <tr style=\"text-align: right;\">\n",
              "      <th></th>\n",
              "      <th>key</th>\n",
              "      <th>rval</th>\n",
              "    </tr>\n",
              "  </thead>\n",
              "  <tbody>\n",
              "    <tr>\n",
              "      <th>0</th>\n",
              "      <td>foo</td>\n",
              "      <td>4</td>\n",
              "    </tr>\n",
              "    <tr>\n",
              "      <th>1</th>\n",
              "      <td>foo</td>\n",
              "      <td>5</td>\n",
              "    </tr>\n",
              "  </tbody>\n",
              "</table>\n",
              "</div>"
            ],
            "text/plain": [
              "   key  rval\n",
              "0  foo     4\n",
              "1  foo     5"
            ]
          },
          "metadata": {
            "tags": []
          },
          "execution_count": 36
        }
      ]
    },
    {
      "cell_type": "code",
      "metadata": {
        "colab": {
          "base_uri": "https://localhost:8080/",
          "height": 168
        },
        "id": "AV9Hgx4Qe3rQ",
        "outputId": "c47784be-985b-4c94-b883-1c59a3fbcd4b"
      },
      "source": [
        "pd_merge = pd.merge(left, right, on = 'key') \n",
        "pd_merge"
      ],
      "execution_count": 38,
      "outputs": [
        {
          "output_type": "execute_result",
          "data": {
            "text/html": [
              "<div>\n",
              "<style scoped>\n",
              "    .dataframe tbody tr th:only-of-type {\n",
              "        vertical-align: middle;\n",
              "    }\n",
              "\n",
              "    .dataframe tbody tr th {\n",
              "        vertical-align: top;\n",
              "    }\n",
              "\n",
              "    .dataframe thead th {\n",
              "        text-align: right;\n",
              "    }\n",
              "</style>\n",
              "<table border=\"1\" class=\"dataframe\">\n",
              "  <thead>\n",
              "    <tr style=\"text-align: right;\">\n",
              "      <th></th>\n",
              "      <th>key</th>\n",
              "      <th>lval</th>\n",
              "      <th>rval</th>\n",
              "    </tr>\n",
              "  </thead>\n",
              "  <tbody>\n",
              "    <tr>\n",
              "      <th>0</th>\n",
              "      <td>foo</td>\n",
              "      <td>1</td>\n",
              "      <td>4</td>\n",
              "    </tr>\n",
              "    <tr>\n",
              "      <th>1</th>\n",
              "      <td>foo</td>\n",
              "      <td>1</td>\n",
              "      <td>5</td>\n",
              "    </tr>\n",
              "    <tr>\n",
              "      <th>2</th>\n",
              "      <td>foo</td>\n",
              "      <td>2</td>\n",
              "      <td>4</td>\n",
              "    </tr>\n",
              "    <tr>\n",
              "      <th>3</th>\n",
              "      <td>foo</td>\n",
              "      <td>2</td>\n",
              "      <td>5</td>\n",
              "    </tr>\n",
              "  </tbody>\n",
              "</table>\n",
              "</div>"
            ],
            "text/plain": [
              "   key  lval  rval\n",
              "0  foo     1     4\n",
              "1  foo     1     5\n",
              "2  foo     2     4\n",
              "3  foo     2     5"
            ]
          },
          "metadata": {
            "tags": []
          },
          "execution_count": 38
        }
      ]
    },
    {
      "cell_type": "code",
      "metadata": {
        "colab": {
          "base_uri": "https://localhost:8080/"
        },
        "id": "uhiWhgQme0po",
        "outputId": "c3ff8c22-899a-4568-ca12-c6cf465bca8c"
      },
      "source": [
        "s = df.iloc[3]\n",
        "s"
      ],
      "execution_count": 42,
      "outputs": [
        {
          "output_type": "execute_result",
          "data": {
            "text/plain": [
              "0   -0.243243\n",
              "1   -0.181271\n",
              "2   -0.140734\n",
              "3   -2.512213\n",
              "Name: 3, dtype: float64"
            ]
          },
          "metadata": {
            "tags": []
          },
          "execution_count": 42
        }
      ]
    },
    {
      "cell_type": "code",
      "metadata": {
        "colab": {
          "base_uri": "https://localhost:8080/",
          "height": 378
        },
        "id": "APna9t3Vfbio",
        "outputId": "5d209289-ab61-4f71-d01a-8de22612d864"
      },
      "source": [
        "df.append(s, ignore_index=True)\n"
      ],
      "execution_count": 44,
      "outputs": [
        {
          "output_type": "execute_result",
          "data": {
            "text/html": [
              "<div>\n",
              "<style scoped>\n",
              "    .dataframe tbody tr th:only-of-type {\n",
              "        vertical-align: middle;\n",
              "    }\n",
              "\n",
              "    .dataframe tbody tr th {\n",
              "        vertical-align: top;\n",
              "    }\n",
              "\n",
              "    .dataframe thead th {\n",
              "        text-align: right;\n",
              "    }\n",
              "</style>\n",
              "<table border=\"1\" class=\"dataframe\">\n",
              "  <thead>\n",
              "    <tr style=\"text-align: right;\">\n",
              "      <th></th>\n",
              "      <th>0</th>\n",
              "      <th>1</th>\n",
              "      <th>2</th>\n",
              "      <th>3</th>\n",
              "    </tr>\n",
              "  </thead>\n",
              "  <tbody>\n",
              "    <tr>\n",
              "      <th>0</th>\n",
              "      <td>-0.421234</td>\n",
              "      <td>0.241373</td>\n",
              "      <td>-0.759561</td>\n",
              "      <td>1.768699</td>\n",
              "    </tr>\n",
              "    <tr>\n",
              "      <th>1</th>\n",
              "      <td>-1.853379</td>\n",
              "      <td>1.852610</td>\n",
              "      <td>0.357144</td>\n",
              "      <td>-0.007694</td>\n",
              "    </tr>\n",
              "    <tr>\n",
              "      <th>2</th>\n",
              "      <td>0.898029</td>\n",
              "      <td>1.692809</td>\n",
              "      <td>-0.835416</td>\n",
              "      <td>-0.072411</td>\n",
              "    </tr>\n",
              "    <tr>\n",
              "      <th>3</th>\n",
              "      <td>-0.243243</td>\n",
              "      <td>-0.181271</td>\n",
              "      <td>-0.140734</td>\n",
              "      <td>-2.512213</td>\n",
              "    </tr>\n",
              "    <tr>\n",
              "      <th>4</th>\n",
              "      <td>0.981955</td>\n",
              "      <td>0.954765</td>\n",
              "      <td>2.266865</td>\n",
              "      <td>0.493650</td>\n",
              "    </tr>\n",
              "    <tr>\n",
              "      <th>5</th>\n",
              "      <td>-0.071901</td>\n",
              "      <td>-0.111147</td>\n",
              "      <td>0.048027</td>\n",
              "      <td>-0.825126</td>\n",
              "    </tr>\n",
              "    <tr>\n",
              "      <th>6</th>\n",
              "      <td>-0.920234</td>\n",
              "      <td>1.004799</td>\n",
              "      <td>0.128951</td>\n",
              "      <td>-0.625979</td>\n",
              "    </tr>\n",
              "    <tr>\n",
              "      <th>7</th>\n",
              "      <td>0.418783</td>\n",
              "      <td>0.169940</td>\n",
              "      <td>0.312561</td>\n",
              "      <td>1.678494</td>\n",
              "    </tr>\n",
              "    <tr>\n",
              "      <th>8</th>\n",
              "      <td>-0.665669</td>\n",
              "      <td>0.049459</td>\n",
              "      <td>-0.661256</td>\n",
              "      <td>-1.435862</td>\n",
              "    </tr>\n",
              "    <tr>\n",
              "      <th>9</th>\n",
              "      <td>-0.036405</td>\n",
              "      <td>-0.606828</td>\n",
              "      <td>0.587610</td>\n",
              "      <td>0.349209</td>\n",
              "    </tr>\n",
              "    <tr>\n",
              "      <th>10</th>\n",
              "      <td>-0.243243</td>\n",
              "      <td>-0.181271</td>\n",
              "      <td>-0.140734</td>\n",
              "      <td>-2.512213</td>\n",
              "    </tr>\n",
              "  </tbody>\n",
              "</table>\n",
              "</div>"
            ],
            "text/plain": [
              "           0         1         2         3\n",
              "0  -0.421234  0.241373 -0.759561  1.768699\n",
              "1  -1.853379  1.852610  0.357144 -0.007694\n",
              "2   0.898029  1.692809 -0.835416 -0.072411\n",
              "3  -0.243243 -0.181271 -0.140734 -2.512213\n",
              "4   0.981955  0.954765  2.266865  0.493650\n",
              "5  -0.071901 -0.111147  0.048027 -0.825126\n",
              "6  -0.920234  1.004799  0.128951 -0.625979\n",
              "7   0.418783  0.169940  0.312561  1.678494\n",
              "8  -0.665669  0.049459 -0.661256 -1.435862\n",
              "9  -0.036405 -0.606828  0.587610  0.349209\n",
              "10 -0.243243 -0.181271 -0.140734 -2.512213"
            ]
          },
          "metadata": {
            "tags": []
          },
          "execution_count": 44
        }
      ]
    },
    {
      "cell_type": "code",
      "metadata": {
        "id": "FtXUiClxfoxo"
      },
      "source": [
        ""
      ],
      "execution_count": null,
      "outputs": []
    }
  ]
}