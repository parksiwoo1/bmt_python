{
  "nbformat": 4,
  "nbformat_minor": 0,
  "metadata": {
    "colab": {
      "name": "21511_8주차수업.ipynb",
      "provenance": [],
      "mount_file_id": "14TsC302exkgE7qtJZs7tUAwuksjDEShx",
      "authorship_tag": "ABX9TyMvuUHTELjymJ7Vjn2Sld54",
      "include_colab_link": true
    },
    "kernelspec": {
      "name": "python3",
      "display_name": "Python 3"
    },
    "language_info": {
      "name": "python"
    }
  },
  "cells": [
    {
      "cell_type": "markdown",
      "metadata": {
        "id": "view-in-github",
        "colab_type": "text"
      },
      "source": [
        "<a href=\"https://colab.research.google.com/github/parksiwoo1/bmt_python/blob/main/21511_8%EC%A3%BC%EC%B0%A8%EC%88%98%EC%97%85.ipynb\" target=\"_parent\"><img src=\"https://colab.research.google.com/assets/colab-badge.svg\" alt=\"Open In Colab\"/></a>"
      ]
    },
    {
      "cell_type": "code",
      "metadata": {
        "colab": {
          "base_uri": "https://localhost:8080/"
        },
        "id": "ondUHvRA9wnZ",
        "outputId": "a77afa08-b2ae-4dfa-9a27-78badc5e688b"
      },
      "source": [
        "lst_even=list()\n",
        "lst_odd=[]\n",
        "\n",
        "for i in range(5):\n",
        "  num=int(input('숫자 입력: '))\n",
        "  if num%2==0:\n",
        "    lst_even.append(num)\n",
        "  else:\n",
        "    lst_odd.append(num)\n",
        "print()\n",
        "print(f'짝수 리스트:{lst_even}')\n",
        "print(f'홀수 리스트:{lst_odd}')"
      ],
      "execution_count": 3,
      "outputs": [
        {
          "output_type": "stream",
          "text": [
            "숫자 입력: 1\n",
            "숫자 입력: 3\n",
            "숫자 입력: 234\n",
            "숫자 입력: 654\n",
            "숫자 입력: 3\n",
            "\n",
            "짝수 리스트:[234, 654]\n",
            "홀수 리스트:[1, 3, 3]\n"
          ],
          "name": "stdout"
        }
      ]
    },
    {
      "cell_type": "code",
      "metadata": {
        "colab": {
          "base_uri": "https://localhost:8080/"
        },
        "id": "n6-OC6eSATZ1",
        "outputId": "d18fc0af-7c78-4de3-f8fc-ad228e7c3348"
      },
      "source": [
        "area = { '서울시':57, '부산시':62, '대구시':59,\n",
        "         '인천시':59, '강화군':58, '서해5도':64,\n",
        "         '광주시':62, '대전시':60, '울산시':53,\n",
        "         '세종시':58 }\n",
        "\n",
        "report = { '위험':'설사, 구토 등 식중독 의심 증상이 있으면 의료기관을 방문하여 의사 지시에 따름',\n",
        "           '경고':'조리도구는 세척, 소독 등을 거쳐 세균 오염을 방지하고 유통기한, 보관 방법 등을 확인하여 음식물 조리, 보관에 각별히 주의하여야 함',\n",
        "           '주의':'조리 음식은 중심부까지 75도(어패류 85도)로 1분 이상 완전히 익히고 외부로 운반할 때에는 가급적 아이스박스 등을 이용하여 10도 이하에서 보관 및 운반',\n",
        "           '관심':'화장실 사용 후, 귀가 후, 조리 전에 손 씻기를 생활화'\n",
        "          }\n",
        "\n",
        "areashow={}\n",
        "\n",
        "for key, value in area.items():\n",
        "  if value>=86:\n",
        "    check='위험'\n",
        "  elif value>=71:\n",
        "    check='경고'\n",
        "  elif value>=55:\n",
        "    check='주의'\n",
        "  else:\n",
        "    check='관심'\n",
        "  areashow[key]=check  \n",
        "print(areashow)\n",
        "print('지역목록',list(area.keys()))\n",
        "data=input('지역입력: ')\n",
        "print(report[areashow[data]])"
      ],
      "execution_count": 9,
      "outputs": [
        {
          "output_type": "stream",
          "text": [
            "{'서울시': '주의', '부산시': '주의', '대구시': '주의', '인천시': '주의', '강화군': '주의', '서해5도': '주의', '광주시': '주의', '대전시': '주의', '울산시': '관심', '세종시': '주의'}\n",
            "지역목록 ['서울시', '부산시', '대구시', '인천시', '강화군', '서해5도', '광주시', '대전시', '울산시', '세종시']\n",
            "지역입력: 서울시\n",
            "조리 음식은 중심부까지 75도(어패류 85도)로 1분 이상 완전히 익히고 외부로 운반할 때에는 가급적 아이스박스 등을 이용하여 10도 이하에서 보관 및 운반\n"
          ],
          "name": "stdout"
        }
      ]
    },
    {
      "cell_type": "code",
      "metadata": {
        "id": "VLwSepkrCvnF"
      },
      "source": [
        "def cal(num1,op,num2):\n",
        "  ans=0\n",
        "\n",
        "  if op=='+': ans=num1+num2\n",
        "  elif op=='-': ans= num1-num2\n",
        "  elif op=='x': ans=num1*num2\n",
        "  elif op=='/': ans=num1/num2\n",
        "\n",
        "  print(f'{num1}{op}{num2}={ans}')\n",
        "  return 'hello'"
      ],
      "execution_count": 23,
      "outputs": []
    },
    {
      "cell_type": "code",
      "metadata": {
        "colab": {
          "base_uri": "https://localhost:8080/"
        },
        "id": "rRCa7vR6FNZ1",
        "outputId": "6c05cd4c-a6a8-40fb-f012-8e1350f08f34"
      },
      "source": [
        "a=cal(2,'+',3)"
      ],
      "execution_count": 25,
      "outputs": [
        {
          "output_type": "stream",
          "text": [
            "2+3=5\n"
          ],
          "name": "stdout"
        }
      ]
    },
    {
      "cell_type": "code",
      "metadata": {
        "colab": {
          "base_uri": "https://localhost:8080/",
          "height": 35
        },
        "id": "LvPEQlqtGPEV",
        "outputId": "d35e34e5-76e6-4962-8142-6e52a7b43a83"
      },
      "source": [
        "a"
      ],
      "execution_count": 26,
      "outputs": [
        {
          "output_type": "execute_result",
          "data": {
            "application/vnd.google.colaboratory.intrinsic+json": {
              "type": "string"
            },
            "text/plain": [
              "'hello'"
            ]
          },
          "metadata": {
            "tags": []
          },
          "execution_count": 26
        }
      ]
    },
    {
      "cell_type": "code",
      "metadata": {
        "colab": {
          "base_uri": "https://localhost:8080/"
        },
        "id": "YWtDuyFAG7fF",
        "outputId": "5fb0014e-8cad-48cd-98da-fca73812cd11"
      },
      "source": [
        "width=int(input('가로길이 입력: '))\n",
        "height=int(input('높이 입력: '))\n",
        "\n",
        "area=width*height\n",
        "\n",
        "if width==height:\n",
        "  print(f'정사각형의 넓이: {area}')\n",
        "else:\n",
        "  print(f'직사각형의 넓이: {area}')"
      ],
      "execution_count": 31,
      "outputs": [
        {
          "output_type": "stream",
          "text": [
            "가로길이 입력: 1\n",
            "높이 입력: 1\n",
            "정사각형의 넓이: 1\n"
          ],
          "name": "stdout"
        }
      ]
    },
    {
      "cell_type": "code",
      "metadata": {
        "colab": {
          "base_uri": "https://localhost:8080/"
        },
        "id": "ih1RPvYSHN5l",
        "outputId": "af7a6e59-8fd2-4546-fc5d-e275ca3f4647"
      },
      "source": [
        "path='/content/drive/MyDrive/data/'\n",
        "\n",
        "f=open(path+'새 텍스트 문서 (2).txt','r')\n",
        "\n",
        "data= f.readlines()\n",
        "f.close()\n",
        "\n",
        "dt={}\n",
        "\n",
        "for line in data:\n",
        "  line=line.replace('\\n','')\n",
        "  items = line.split(',') \n",
        "  dt[items[0]] = int(items[1])\n",
        "print(dt)"
      ],
      "execution_count": 53,
      "outputs": [
        {
          "output_type": "stream",
          "text": [
            "{'서울': 20, '부산': 26, '대구': 24, '인천': 24, '광주': 25, '대전': 22, '울산': 26, '세종': 23, '경기': 24, '강원': 23, '충북': 26, '충남': 22, '전북': 24, '전남': 23, '경북': 28, '경남': 29, '제주': 26}\n"
          ],
          "name": "stdout"
        }
      ]
    },
    {
      "cell_type": "code",
      "metadata": {
        "id": "sxuMpO_mTGHn"
      },
      "source": [
        ""
      ],
      "execution_count": 49,
      "outputs": []
    },
    {
      "cell_type": "code",
      "metadata": {
        "id": "v1VtrfjjRpkn"
      },
      "source": [
        ""
      ],
      "execution_count": null,
      "outputs": []
    }
  ]
}