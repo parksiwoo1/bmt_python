{
  "nbformat": 4,
  "nbformat_minor": 0,
  "metadata": {
    "colab": {
      "name": "실습과제01.ipynb",
      "provenance": [],
      "collapsed_sections": [],
      "authorship_tag": "ABX9TyM1gTWEh0oNHdEkYsD8hhSg",
      "include_colab_link": true
    },
    "kernelspec": {
      "name": "python3",
      "display_name": "Python 3"
    }
  },
  "cells": [
    {
      "cell_type": "markdown",
      "metadata": {
        "id": "view-in-github",
        "colab_type": "text"
      },
      "source": [
        "<a href=\"https://colab.research.google.com/github/parksiwoo1/bmt_python/blob/main/%EC%8B%A4%EC%8A%B5%EA%B3%BC%EC%A0%9C01.ipynb\" target=\"_parent\"><img src=\"https://colab.research.google.com/assets/colab-badge.svg\" alt=\"Open In Colab\"/></a>"
      ]
    },
    {
      "cell_type": "markdown",
      "metadata": {
        "id": "P3BBqCJO08Yh"
      },
      "source": [
        "## 파이선 기본 학습\r\n"
      ]
    },
    {
      "cell_type": "code",
      "metadata": {
        "id": "mwS2MOBM0prJ"
      },
      "source": [
        "# 입력, 출력, 연산자\r\n",
        "\r\n",
        "names=['정밀','폴리','산설','메카','로봇','전기']"
      ],
      "execution_count": 1,
      "outputs": []
    },
    {
      "cell_type": "code",
      "metadata": {
        "colab": {
          "base_uri": "https://localhost:8080/"
        },
        "id": "7jxUipDQ6SIl",
        "outputId": "3e875669-4968-410c-fbe2-7addf36730a4"
      },
      "source": [
        "names"
      ],
      "execution_count": 3,
      "outputs": [
        {
          "output_type": "execute_result",
          "data": {
            "text/plain": [
              "['정밀', '폴리', '산설', '메카', '로봇', '전기']"
            ]
          },
          "metadata": {
            "tags": []
          },
          "execution_count": 3
        }
      ]
    },
    {
      "cell_type": "code",
      "metadata": {
        "colab": {
          "base_uri": "https://localhost:8080/",
          "height": 35
        },
        "id": "x-3mYtUC6XjA",
        "outputId": "e17bc2c0-6041-4162-f719-68705311f42a"
      },
      "source": [
        "names[-2]"
      ],
      "execution_count": 6,
      "outputs": [
        {
          "output_type": "execute_result",
          "data": {
            "application/vnd.google.colaboratory.intrinsic+json": {
              "type": "string"
            },
            "text/plain": [
              "'로봇'"
            ]
          },
          "metadata": {
            "tags": []
          },
          "execution_count": 6
        }
      ]
    },
    {
      "cell_type": "code",
      "metadata": {
        "colab": {
          "base_uri": "https://localhost:8080/",
          "height": 35
        },
        "id": "F0ju9KDd7FxX",
        "outputId": "c3dff752-0b11-453f-f0d2-012b69ff39a0"
      },
      "source": [
        "names[5]"
      ],
      "execution_count": 5,
      "outputs": [
        {
          "output_type": "execute_result",
          "data": {
            "application/vnd.google.colaboratory.intrinsic+json": {
              "type": "string"
            },
            "text/plain": [
              "'전기'"
            ]
          },
          "metadata": {
            "tags": []
          },
          "execution_count": 5
        }
      ]
    },
    {
      "cell_type": "code",
      "metadata": {
        "id": "wNYGxIT07Iay"
      },
      "source": [
        "names.append('부산기계')"
      ],
      "execution_count": 7,
      "outputs": []
    },
    {
      "cell_type": "code",
      "metadata": {
        "colab": {
          "base_uri": "https://localhost:8080/"
        },
        "id": "KVtZqp9n8b-c",
        "outputId": "e6b6b1d2-0bc1-4a6f-9cbd-41b1eebdb6c3"
      },
      "source": [
        "names"
      ],
      "execution_count": 8,
      "outputs": [
        {
          "output_type": "execute_result",
          "data": {
            "text/plain": [
              "['정밀', '폴리', '산설', '메카', '로봇', '전기', '부산기계']"
            ]
          },
          "metadata": {
            "tags": []
          },
          "execution_count": 8
        }
      ]
    },
    {
      "cell_type": "code",
      "metadata": {
        "colab": {
          "base_uri": "https://localhost:8080/"
        },
        "id": "jRzm5UvI8hHp",
        "outputId": "3094ccaf-37c6-4ac0-923d-db3c26662ce1"
      },
      "source": [
        "for name in names:\r\n",
        "  if '정' in name:\r\n",
        "    print('기계과',name+'전공')"
      ],
      "execution_count": 20,
      "outputs": [
        {
          "output_type": "stream",
          "text": [
            "기계과 정밀전공\n"
          ],
          "name": "stdout"
        }
      ]
    },
    {
      "cell_type": "code",
      "metadata": {
        "colab": {
          "base_uri": "https://localhost:8080/"
        },
        "id": "D_riz1188_n5",
        "outputId": "cfdb37f2-bd5a-4c36-e881-73b752ee6bfa"
      },
      "source": [
        "print(20**3)"
      ],
      "execution_count": 21,
      "outputs": [
        {
          "output_type": "stream",
          "text": [
            "8000\n"
          ],
          "name": "stdout"
        }
      ]
    },
    {
      "cell_type": "code",
      "metadata": {
        "colab": {
          "base_uri": "https://localhost:8080/"
        },
        "id": "Ibn8PUeoAn52",
        "outputId": "5ed27849-46e0-4ea5-fb04-164c21e6cf11"
      },
      "source": [
        "print('Hello, World!')"
      ],
      "execution_count": 22,
      "outputs": [
        {
          "output_type": "stream",
          "text": [
            "Hello, World!\n"
          ],
          "name": "stdout"
        }
      ]
    },
    {
      "cell_type": "code",
      "metadata": {
        "colab": {
          "base_uri": "https://localhost:8080/"
        },
        "id": "tYj6PeB-At48",
        "outputId": "5e89d83f-5952-43aa-ecb0-49bfeb3983fd"
      },
      "source": [
        "school=\"부산기계공고\"\r\n",
        "print(school)\r\n",
        "\r\n",
        "a=215\r\n",
        "print(a)\r\n",
        "\r\n",
        "name='전기과'\r\n",
        "print(name+'화이팅!!!')"
      ],
      "execution_count": 29,
      "outputs": [
        {
          "output_type": "stream",
          "text": [
            "부산기계공고\n",
            "215\n",
            "전기과화이팅!!!\n"
          ],
          "name": "stdout"
        }
      ]
    },
    {
      "cell_type": "code",
      "metadata": {
        "colab": {
          "base_uri": "https://localhost:8080/"
        },
        "id": "6W3-1z1ZA1zY",
        "outputId": "5e742d59-c254-4a41-964f-8afa59a06cde"
      },
      "source": [
        "print(f'2021년도 {name} 화이팅!!!') #f 포매팅"
      ],
      "execution_count": 34,
      "outputs": [
        {
          "output_type": "stream",
          "text": [
            "2021년도 부기공 화이팅!!!\n"
          ],
          "name": "stdout"
        }
      ]
    },
    {
      "cell_type": "code",
      "metadata": {
        "colab": {
          "base_uri": "https://localhost:8080/"
        },
        "id": "QyxZP9FWBjCF",
        "outputId": "d182e482-c554-41e9-a3a1-e9de1e87af5a"
      },
      "source": [
        "name=input()\r\n",
        "\r\n",
        "print(name+'님! 안녕하세요')"
      ],
      "execution_count": 36,
      "outputs": [
        {
          "output_type": "stream",
          "text": [
            "박시우\n",
            "박시우님! 안녕하세요\n"
          ],
          "name": "stdout"
        }
      ]
    },
    {
      "cell_type": "code",
      "metadata": {
        "colab": {
          "base_uri": "https://localhost:8080/"
        },
        "id": "BeD1K8YOB685",
        "outputId": "99c54a76-3157-4cb8-f265-41eb146bb618"
      },
      "source": [
        "name=input('이름을 입력해 주세요:')\r\n",
        "print(name+'안녕하세요.')"
      ],
      "execution_count": 37,
      "outputs": [
        {
          "output_type": "stream",
          "text": [
            "이름을 입력해 주세요:박시우\n",
            "박시우안녕하세요.\n"
          ],
          "name": "stdout"
        }
      ]
    },
    {
      "cell_type": "code",
      "metadata": {
        "colab": {
          "base_uri": "https://localhost:8080/"
        },
        "id": "MR_vGxdHCdjz",
        "outputId": "59441a72-ab6b-4ea7-daf6-f737f0c4d230"
      },
      "source": [
        "age =float(input('나이입력: '))\r\n",
        "print(age-1)"
      ],
      "execution_count": 42,
      "outputs": [
        {
          "output_type": "stream",
          "text": [
            "나이입력: 17.4\n",
            "16.4\n"
          ],
          "name": "stdout"
        }
      ]
    },
    {
      "cell_type": "code",
      "metadata": {
        "colab": {
          "base_uri": "https://localhost:8080/"
        },
        "id": "IQJZMgYvC4Oo",
        "outputId": "7d04fba7-7c25-48a8-f5a0-692fd90ae008"
      },
      "source": [
        "key='abcd'\r\n",
        "password=input('암호 입력(4글자):')\r\n",
        "if key == password:\r\n",
        "  print(\"암호해제\")\r\n",
        "else:\r\n",
        "    print(\"다시입력\")"
      ],
      "execution_count": 46,
      "outputs": [
        {
          "output_type": "stream",
          "text": [
            "암호 입력(4글자):abcd\n",
            "암호해제\n"
          ],
          "name": "stdout"
        }
      ]
    },
    {
      "cell_type": "code",
      "metadata": {
        "id": "221NAHqLD0j5"
      },
      "source": [
        "ㅁㄴㅇㄹ\r\n",
        "\r\n"
      ],
      "execution_count": null,
      "outputs": []
    }
  ]
}