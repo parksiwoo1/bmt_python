{
  "nbformat": 4,
  "nbformat_minor": 0,
  "metadata": {
    "colab": {
      "name": "21511_7주차.ipynb",
      "provenance": [],
      "authorship_tag": "ABX9TyMWyz99Q2liKzPj0uHSkvRA",
      "include_colab_link": true
    },
    "kernelspec": {
      "name": "python3",
      "display_name": "Python 3"
    },
    "language_info": {
      "name": "python"
    }
  },
  "cells": [
    {
      "cell_type": "markdown",
      "metadata": {
        "id": "view-in-github",
        "colab_type": "text"
      },
      "source": [
        "<a href=\"https://colab.research.google.com/github/parksiwoo1/bmt_python/blob/main/21511_7%EC%A3%BC%EC%B0%A8.ipynb\" target=\"_parent\"><img src=\"https://colab.research.google.com/assets/colab-badge.svg\" alt=\"Open In Colab\"/></a>"
      ]
    },
    {
      "cell_type": "code",
      "metadata": {
        "id": "-Z9Fvt4M8a70",
        "colab": {
          "base_uri": "https://localhost:8080/"
        },
        "outputId": "0c6536ef-eeea-401a-ab4a-3e5fd57ebe90"
      },
      "source": [
        "x=int(input(\"값 입력: \"))\n",
        "x"
      ],
      "execution_count": 2,
      "outputs": [
        {
          "output_type": "stream",
          "text": [
            "값 입력: 123\n"
          ],
          "name": "stdout"
        },
        {
          "output_type": "execute_result",
          "data": {
            "text/plain": [
              "123"
            ]
          },
          "metadata": {
            "tags": []
          },
          "execution_count": 2
        }
      ]
    },
    {
      "cell_type": "code",
      "metadata": {
        "colab": {
          "base_uri": "https://localhost:8080/"
        },
        "id": "GAMhb7E-J8ym",
        "outputId": "36c6a829-9a40-4ebb-8573-bbd3f3765da4"
      },
      "source": [
        "x=int(input(\"값 입력: \"))\n",
        "if x%2 ==0:\n",
        "  print(f'{x}:짝수')\n",
        "else:\n",
        "    print(f'{x}:홀수')\n"
      ],
      "execution_count": 7,
      "outputs": [
        {
          "output_type": "stream",
          "text": [
            "값 입력: 2\n",
            "2:짝수\n"
          ],
          "name": "stdout"
        }
      ]
    },
    {
      "cell_type": "code",
      "metadata": {
        "colab": {
          "base_uri": "https://localhost:8080/"
        },
        "id": "yGED--2qKpwF",
        "outputId": "acc3e22c-9c6e-4acf-db3e-a68160007b72"
      },
      "source": [
        "x= float(input(\"점수 입력: \"))\n",
        "\n",
        "if x >= 70:\n",
        "  print(f\"{x}:PASS\")\n",
        "elif x>= 60:\n",
        "  print(f'{x}:재시험')\n",
        "else:\n",
        "  print(f'실격')"
      ],
      "execution_count": 10,
      "outputs": [
        {
          "output_type": "stream",
          "text": [
            "점수 입력: 89.5\n",
            "89.5:PASS\n"
          ],
          "name": "stdout"
        }
      ]
    },
    {
      "cell_type": "code",
      "metadata": {
        "colab": {
          "base_uri": "https://localhost:8080/"
        },
        "id": "At776XQfMTFs",
        "outputId": "e37c3b6b-4d22-4e7f-fc53-c7f76a0c6432"
      },
      "source": [
        "str='ㅎ'\n",
        "'r' in str"
      ],
      "execution_count": 13,
      "outputs": [
        {
          "output_type": "execute_result",
          "data": {
            "text/plain": [
              "False"
            ]
          },
          "metadata": {
            "tags": []
          },
          "execution_count": 13
        }
      ]
    },
    {
      "cell_type": "code",
      "metadata": {
        "colab": {
          "base_uri": "https://localhost:8080/"
        },
        "id": "06L9RlZKMqj1",
        "outputId": "f9655308-df60-4f1d-f59b-4c505e27a5fd"
      },
      "source": [
        "'g' in 'g'"
      ],
      "execution_count": 16,
      "outputs": [
        {
          "output_type": "execute_result",
          "data": {
            "text/plain": [
              "True"
            ]
          },
          "metadata": {
            "tags": []
          },
          "execution_count": 16
        }
      ]
    },
    {
      "cell_type": "code",
      "metadata": {
        "colab": {
          "base_uri": "https://localhost:8080/"
        },
        "id": "MHemrYs8N1Q1",
        "outputId": "4f802624-4841-4a24-8fe4-569be02ea64f"
      },
      "source": [
        "str='안녕하세요'\n",
        "for i in str:\n",
        "  print(i)"
      ],
      "execution_count": 17,
      "outputs": [
        {
          "output_type": "stream",
          "text": [
            "안\n",
            "녕\n",
            "하\n",
            "세\n",
            "요\n"
          ],
          "name": "stdout"
        }
      ]
    },
    {
      "cell_type": "code",
      "metadata": {
        "colab": {
          "base_uri": "https://localhost:8080/"
        },
        "id": "Aq7Zd26POPlB",
        "outputId": "9077c8f5-e149-4776-e8fa-1fc2a04d0565"
      },
      "source": [
        "lst= list(range(4))\n",
        "for i in lst:\n",
        "  print(i,end=' ')\n",
        "  print(i*2,end=' ')\n",
        "  print(i**2,end=' ')"
      ],
      "execution_count": 39,
      "outputs": [
        {
          "output_type": "stream",
          "text": [
            "0 0 0 1 2 1 2 4 4 3 6 9 "
          ],
          "name": "stdout"
        }
      ]
    },
    {
      "cell_type": "code",
      "metadata": {
        "colab": {
          "base_uri": "https://localhost:8080/"
        },
        "id": "Bw3ELC7ZOil1",
        "outputId": "0faf7bce-9c66-4408-b280-8e1f9c36a010"
      },
      "source": [
        "d={'a':1, 'b':2}\n",
        "print(d)"
      ],
      "execution_count": 31,
      "outputs": [
        {
          "output_type": "stream",
          "text": [
            "{'a': 1, 'b': 2}\n"
          ],
          "name": "stdout"
        }
      ]
    },
    {
      "cell_type": "code",
      "metadata": {
        "colab": {
          "base_uri": "https://localhost:8080/"
        },
        "id": "SAEQ9fKUPiXm",
        "outputId": "381c2f0d-7724-4c96-aa9b-08b001d1e335"
      },
      "source": [
        "for i in d.values():\n",
        "  print(i)\n"
      ],
      "execution_count": 32,
      "outputs": [
        {
          "output_type": "stream",
          "text": [
            "1\n",
            "2\n"
          ],
          "name": "stdout"
        }
      ]
    },
    {
      "cell_type": "code",
      "metadata": {
        "colab": {
          "base_uri": "https://localhost:8080/"
        },
        "id": "JuogZHp2QRP1",
        "outputId": "2bdcb9d9-4ae2-498d-ee74-fc4e1c360d06"
      },
      "source": [
        "for keys, value in d.items():\n",
        "  print(keys,value)"
      ],
      "execution_count": 36,
      "outputs": [
        {
          "output_type": "stream",
          "text": [
            "a 1\n",
            "b 2\n"
          ],
          "name": "stdout"
        }
      ]
    },
    {
      "cell_type": "code",
      "metadata": {
        "colab": {
          "base_uri": "https://localhost:8080/"
        },
        "id": "POwEczYmQuVq",
        "outputId": "2818922a-2e6f-4477-dca2-c906a34f5e14"
      },
      "source": [
        "lst=list(range(10))\n",
        "lst"
      ],
      "execution_count": 38,
      "outputs": [
        {
          "output_type": "execute_result",
          "data": {
            "text/plain": [
              "[0, 1, 2, 3, 4, 5, 6, 7, 8, 9]"
            ]
          },
          "metadata": {
            "tags": []
          },
          "execution_count": 38
        }
      ]
    },
    {
      "cell_type": "code",
      "metadata": {
        "colab": {
          "base_uri": "https://localhost:8080/"
        },
        "id": "50evEmhtQ66F",
        "outputId": "dca61c64-7dd2-4320-ed95-b3c762b13cb4"
      },
      "source": [
        "lst=['1','2']\n",
        "\n",
        "lst=[int(i) for i in lst]\n",
        "lst"
      ],
      "execution_count": 41,
      "outputs": [
        {
          "output_type": "execute_result",
          "data": {
            "text/plain": [
              "[1, 2]"
            ]
          },
          "metadata": {
            "tags": []
          },
          "execution_count": 41
        }
      ]
    },
    {
      "cell_type": "code",
      "metadata": {
        "colab": {
          "base_uri": "https://localhost:8080/"
        },
        "id": "bOGv6nbWRoGm",
        "outputId": "13ed5d6b-b60c-42c6-dcd4-0279f5d378e6"
      },
      "source": [
        "i=0\n",
        "while i <=5:\n",
        "  i+=1\n",
        "  if i ==2:\n",
        "    continue\n",
        "  print(i)\n",
        "  if i==4:\n",
        "    break "
      ],
      "execution_count": 43,
      "outputs": [
        {
          "output_type": "stream",
          "text": [
            "1\n",
            "3\n",
            "4\n"
          ],
          "name": "stdout"
        }
      ]
    },
    {
      "cell_type": "code",
      "metadata": {
        "id": "09m9E3-CTYen"
      },
      "source": [
        ""
      ],
      "execution_count": null,
      "outputs": []
    }
  ]
}