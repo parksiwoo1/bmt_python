{
  "nbformat": 4,
  "nbformat_minor": 0,
  "metadata": {
    "colab": {
      "name": "4주차.ipynb",
      "provenance": [],
      "collapsed_sections": [],
      "authorship_tag": "ABX9TyMEetIE2Q0D8lz+CTLMwf+6",
      "include_colab_link": true
    },
    "kernelspec": {
      "name": "python3",
      "display_name": "Python 3"
    },
    "language_info": {
      "name": "python"
    }
  },
  "cells": [
    {
      "cell_type": "markdown",
      "metadata": {
        "id": "view-in-github",
        "colab_type": "text"
      },
      "source": [
        "<a href=\"https://colab.research.google.com/github/parksiwoo1/bmt_python/blob/main/4%EC%A3%BC%EC%B0%A8.ipynb\" target=\"_parent\"><img src=\"https://colab.research.google.com/assets/colab-badge.svg\" alt=\"Open In Colab\"/></a>"
      ]
    },
    {
      "cell_type": "code",
      "metadata": {
        "colab": {
          "base_uri": "https://localhost:8080/"
        },
        "id": "GbSqqAwn1c1Q",
        "outputId": "c28b2b00-f08c-44a8-ceee-bd89408e3d6a"
      },
      "source": [
        "print(\"심리게임\")\n",
        "menu=input(\"당신이 좋아하는 과일 입력\")\n",
        "if menu =='사과':\n",
        "  print(\"당신은 사과를 좋아하네요\")\n",
        "elif menu=='수박':\n",
        "  print('당신은 여름 사나이군요')\n",
        "else:\n",
        "  print('좋아하는 과일을 입력하세요')\n",
        "\n"
      ],
      "execution_count": 19,
      "outputs": [
        {
          "output_type": "stream",
          "text": [
            "심리게임\n",
            "당신이 좋아하는 과일 입력바나나\n",
            "좋아하는 과일을 입력하세요\n"
          ],
          "name": "stdout"
        }
      ]
    },
    {
      "cell_type": "code",
      "metadata": {
        "colab": {
          "base_uri": "https://localhost:8080/"
        },
        "id": "DgJ9Any41wm3",
        "outputId": "f96e2cb8-d48d-4567-df06-0dfcbd708863"
      },
      "source": [
        "names=['정밀', '폴리', '산설', '로봇', '메카', '전기']\n",
        "for i in [0,1,2,3,4,5]:\n",
        "  print(names[i],end=' ')"
      ],
      "execution_count": 31,
      "outputs": [
        {
          "output_type": "stream",
          "text": [
            "정밀 폴리 산설 로봇 메카 전기 "
          ],
          "name": "stdout"
        }
      ]
    },
    {
      "cell_type": "code",
      "metadata": {
        "colab": {
          "base_uri": "https://localhost:8080/"
        },
        "id": "Wi9249PF2SV3",
        "outputId": "12f52e47-5156-475f-dc72-ca0e1eeb7d4a"
      },
      "source": [
        "for i in range(6):\n",
        "  print (names[i],end=' ')"
      ],
      "execution_count": 36,
      "outputs": [
        {
          "output_type": "stream",
          "text": [
            "정밀 폴리 산설 로봇 메카 전기 "
          ],
          "name": "stdout"
        }
      ]
    },
    {
      "cell_type": "code",
      "metadata": {
        "colab": {
          "base_uri": "https://localhost:8080/"
        },
        "id": "0bBMDMme5Qr3",
        "outputId": "57c3d4f3-94fe-4236-8625-6e4cd34c8e57"
      },
      "source": [
        "names"
      ],
      "execution_count": 37,
      "outputs": [
        {
          "output_type": "execute_result",
          "data": {
            "text/plain": [
              "['정밀', '폴리', '산설', '로봇', '메카', '전기']"
            ]
          },
          "metadata": {
            "tags": []
          },
          "execution_count": 37
        }
      ]
    },
    {
      "cell_type": "code",
      "metadata": {
        "id": "tGEPvslb5fJj"
      },
      "source": [
        "names.append('부산기계공고')"
      ],
      "execution_count": 46,
      "outputs": []
    },
    {
      "cell_type": "code",
      "metadata": {
        "colab": {
          "base_uri": "https://localhost:8080/"
        },
        "id": "zscMzDXb5lNz",
        "outputId": "672c1a66-ce53-43ed-f288-3265e9dac73b"
      },
      "source": [
        "len(names)"
      ],
      "execution_count": 49,
      "outputs": [
        {
          "output_type": "execute_result",
          "data": {
            "text/plain": [
              "7"
            ]
          },
          "metadata": {
            "tags": []
          },
          "execution_count": 49
        }
      ]
    },
    {
      "cell_type": "code",
      "metadata": {
        "colab": {
          "base_uri": "https://localhost:8080/"
        },
        "id": "2HPj_NkT5mk_",
        "outputId": "fa6ce935-96fc-4992-ab70-2b98489751e2"
      },
      "source": [
        "names.append('부산기계')\n",
        "\n",
        "for name in names:\n",
        "  if len(name)>3:\n",
        "    print(name+'공업고등학교')"
      ],
      "execution_count": 61,
      "outputs": [
        {
          "output_type": "stream",
          "text": [
            "부산기계공고공업고등학교\n",
            "부산기공공업고등학교\n",
            "부산기공공업고등학교\n",
            "부산기공공업고등학교\n",
            "부산기공공업고등학교\n",
            "부산기공공업고등학교\n",
            "부산기계공업고등학교\n",
            "부산기계공업고등학교\n",
            "부산기계공업고등학교\n",
            "부산기계공업고등학교\n",
            "부산기계공업고등학교\n",
            "부산기계공업고등학교\n"
          ],
          "name": "stdout"
        }
      ]
    },
    {
      "cell_type": "code",
      "metadata": {
        "colab": {
          "base_uri": "https://localhost:8080/"
        },
        "id": "AHRFRXkp7t0N",
        "outputId": "1b994850-af25-4097-cc7a-ec5e90293939"
      },
      "source": [
        "names"
      ],
      "execution_count": 62,
      "outputs": [
        {
          "output_type": "execute_result",
          "data": {
            "text/plain": [
              "['정밀',\n",
              " '폴리',\n",
              " '산설',\n",
              " '로봇',\n",
              " '메카',\n",
              " '전기',\n",
              " '부산기계공고',\n",
              " '부산기공',\n",
              " '부산기공',\n",
              " '부산기공',\n",
              " '부산기공',\n",
              " '부산기공',\n",
              " '부산기계',\n",
              " '부산기계',\n",
              " '부산기계',\n",
              " '부산기계',\n",
              " '부산기계',\n",
              " '부산기계']"
            ]
          },
          "metadata": {
            "tags": []
          },
          "execution_count": 62
        }
      ]
    },
    {
      "cell_type": "code",
      "metadata": {
        "colab": {
          "base_uri": "https://localhost:8080/"
        },
        "id": "ntH6fSN68zgH",
        "outputId": "11b262c9-39de-409f-d7c6-a90b840f9e6f"
      },
      "source": [
        "names.clear"
      ],
      "execution_count": 64,
      "outputs": [
        {
          "output_type": "execute_result",
          "data": {
            "text/plain": [
              "<function list.clear>"
            ]
          },
          "metadata": {
            "tags": []
          },
          "execution_count": 64
        }
      ]
    },
    {
      "cell_type": "code",
      "metadata": {
        "colab": {
          "base_uri": "https://localhost:8080/"
        },
        "id": "d8l3P63I85f3",
        "outputId": "1dfa8f7e-9148-4b65-a169-a3316477749a"
      },
      "source": [
        "names"
      ],
      "execution_count": 65,
      "outputs": [
        {
          "output_type": "execute_result",
          "data": {
            "text/plain": [
              "['정밀',\n",
              " '폴리',\n",
              " '산설',\n",
              " '로봇',\n",
              " '메카',\n",
              " '전기',\n",
              " '부산기계공고',\n",
              " '부산기공',\n",
              " '부산기공',\n",
              " '부산기공',\n",
              " '부산기공',\n",
              " '부산기공',\n",
              " '부산기계',\n",
              " '부산기계',\n",
              " '부산기계',\n",
              " '부산기계',\n",
              " '부산기계',\n",
              " '부산기계']"
            ]
          },
          "metadata": {
            "tags": []
          },
          "execution_count": 65
        }
      ]
    },
    {
      "cell_type": "code",
      "metadata": {
        "colab": {
          "base_uri": "https://localhost:8080/"
        },
        "id": "nruDw4C99A5H",
        "outputId": "24ea8716-2486-44a8-ad18-71a27624906d"
      },
      "source": [
        "print( 'Hello world\\n' )\n",
        "print( 'Busan' )"
      ],
      "execution_count": 66,
      "outputs": [
        {
          "output_type": "stream",
          "text": [
            "Hello world\n",
            "\n",
            "Busan\n"
          ],
          "name": "stdout"
        }
      ]
    },
    {
      "cell_type": "code",
      "metadata": {
        "colab": {
          "base_uri": "https://localhost:8080/"
        },
        "id": "pOHWXk6c_Fwv",
        "outputId": "5a913d4a-9944-4020-85d2-a11888f0171d"
      },
      "source": [
        "print('Hello', end='***' )\n",
        "print('world')"
      ],
      "execution_count": 67,
      "outputs": [
        {
          "output_type": "stream",
          "text": [
            "Hello***world\n"
          ],
          "name": "stdout"
        }
      ]
    },
    {
      "cell_type": "code",
      "metadata": {
        "colab": {
          "base_uri": "https://localhost:8080/"
        },
        "id": "YdEcO3Uv_j24",
        "outputId": "cb7ffacb-a869-445e-e991-763ef7beb8d9"
      },
      "source": [
        "print('Hello','World')\n",
        "print('Hello'+'World')"
      ],
      "execution_count": 68,
      "outputs": [
        {
          "output_type": "stream",
          "text": [
            "Hello World\n",
            "HelloWorld\n"
          ],
          "name": "stdout"
        }
      ]
    },
    {
      "cell_type": "code",
      "metadata": {
        "colab": {
          "base_uri": "https://localhost:8080/"
        },
        "id": "1F2GPMLRANqX",
        "outputId": "4ca8a4ce-d0fb-4c0d-969e-c097c9b152d2"
      },
      "source": [
        "print('Hello\\'')"
      ],
      "execution_count": 72,
      "outputs": [
        {
          "output_type": "stream",
          "text": [
            "Hello'\n"
          ],
          "name": "stdout"
        }
      ]
    },
    {
      "cell_type": "code",
      "metadata": {
        "colab": {
          "base_uri": "https://localhost:8080/"
        },
        "id": "7avsSL9CAkTI",
        "outputId": "fe674ca3-231c-4d77-e94f-64b8ab15a09c"
      },
      "source": [
        "print('Hello\\nWorld')"
      ],
      "execution_count": 73,
      "outputs": [
        {
          "output_type": "stream",
          "text": [
            "Hello\n",
            "World\n"
          ],
          "name": "stdout"
        }
      ]
    },
    {
      "cell_type": "code",
      "metadata": {
        "colab": {
          "base_uri": "https://localhost:8080/"
        },
        "id": "5cr_OGnLA093",
        "outputId": "560b78c9-e59b-4ee9-d808-bcf05509a564"
      },
      "source": [
        "x=input()"
      ],
      "execution_count": 74,
      "outputs": [
        {
          "output_type": "stream",
          "text": [
            "안녕하세요\n"
          ],
          "name": "stdout"
        }
      ]
    },
    {
      "cell_type": "code",
      "metadata": {
        "colab": {
          "base_uri": "https://localhost:8080/",
          "height": 35
        },
        "id": "ObuA_KJCBPT3",
        "outputId": "b195acec-dd80-424a-e167-62a26267a458"
      },
      "source": [
        "x\n"
      ],
      "execution_count": 75,
      "outputs": [
        {
          "output_type": "execute_result",
          "data": {
            "application/vnd.google.colaboratory.intrinsic+json": {
              "type": "string"
            },
            "text/plain": [
              "'안녕하세요'"
            ]
          },
          "metadata": {
            "tags": []
          },
          "execution_count": 75
        }
      ]
    },
    {
      "cell_type": "code",
      "metadata": {
        "colab": {
          "base_uri": "https://localhost:8080/"
        },
        "id": "vlWydKTyBRbH",
        "outputId": "21154ba9-3562-4a1a-8ef2-364dc53b3179"
      },
      "source": [
        "x=int (input('첫번째 정수 입력:'))\n",
        "y=int (input('두번째 정수 입력:'))\n"
      ],
      "execution_count": 81,
      "outputs": [
        {
          "output_type": "stream",
          "text": [
            "첫번째 정수 입력:12\n",
            "두번째 정수 입력:34\n"
          ],
          "name": "stdout"
        }
      ]
    },
    {
      "cell_type": "code",
      "metadata": {
        "colab": {
          "base_uri": "https://localhost:8080/"
        },
        "id": "haeCDzIuBrS3",
        "outputId": "d5b0a796-5720-4bc1-8e77-797f85cad920"
      },
      "source": [
        "print('*'*56)"
      ],
      "execution_count": 82,
      "outputs": [
        {
          "output_type": "stream",
          "text": [
            "********************************************************\n"
          ],
          "name": "stdout"
        }
      ]
    },
    {
      "cell_type": "code",
      "metadata": {
        "colab": {
          "base_uri": "https://localhost:8080/"
        },
        "id": "20OjCs63B3tn",
        "outputId": "f7cfe706-6bc6-4a2d-bb90-381284366aa4"
      },
      "source": [
        "weight=float(input('몸무게: '))\n",
        "height=float(input('키:  '))\n",
        "BMI=weight/(height/100)**2\n",
        "print(f'BMI:{BMI:.2f}')"
      ],
      "execution_count": 88,
      "outputs": [
        {
          "output_type": "stream",
          "text": [
            "몸무게: 60\n",
            "키:  170\n",
            "BMI:20.76\n"
          ],
          "name": "stdout"
        }
      ]
    },
    {
      "cell_type": "code",
      "metadata": {
        "id": "I32xPlvaFTad"
      },
      "source": [
        "print('환율 계산기:$-\\')\n"
      ],
      "execution_count": 83,
      "outputs": []
    },
    {
      "cell_type": "code",
      "metadata": {
        "id": "-2VDG2lhHBmA"
      },
      "source": [
        "x='Hello Python'\n"
      ],
      "execution_count": 89,
      "outputs": []
    },
    {
      "cell_type": "code",
      "metadata": {
        "colab": {
          "base_uri": "https://localhost:8080/"
        },
        "id": "PiBnwVsYHox9",
        "outputId": "52966b38-c3b0-472d-af54-8095c000863c"
      },
      "source": [
        "len(x)"
      ],
      "execution_count": 90,
      "outputs": [
        {
          "output_type": "execute_result",
          "data": {
            "text/plain": [
              "12"
            ]
          },
          "metadata": {
            "tags": []
          },
          "execution_count": 90
        }
      ]
    },
    {
      "cell_type": "code",
      "metadata": {
        "colab": {
          "base_uri": "https://localhost:8080/"
        },
        "id": "qgzjW9ZHHpwJ",
        "outputId": "cd4973d7-7641-4cf4-ac3c-66b6ae98b7e4"
      },
      "source": [
        "x.count('o')"
      ],
      "execution_count": 92,
      "outputs": [
        {
          "output_type": "execute_result",
          "data": {
            "text/plain": [
              "2"
            ]
          },
          "metadata": {
            "tags": []
          },
          "execution_count": 92
        }
      ]
    },
    {
      "cell_type": "code",
      "metadata": {
        "colab": {
          "base_uri": "https://localhost:8080/"
        },
        "id": "cnB8hzthHzOY",
        "outputId": "6bee9465-fa50-406c-e8de-d2124b5d2c45"
      },
      "source": [
        "x.find('H')"
      ],
      "execution_count": 93,
      "outputs": [
        {
          "output_type": "execute_result",
          "data": {
            "text/plain": [
              "0"
            ]
          },
          "metadata": {
            "tags": []
          },
          "execution_count": 93
        }
      ]
    },
    {
      "cell_type": "code",
      "metadata": {
        "colab": {
          "base_uri": "https://localhost:8080/",
          "height": 35
        },
        "id": "qQMMaXiDINuI",
        "outputId": "4b3277bb-0cf0-4059-a4a0-037beeb940ae"
      },
      "source": [
        "x[0]"
      ],
      "execution_count": 96,
      "outputs": [
        {
          "output_type": "execute_result",
          "data": {
            "application/vnd.google.colaboratory.intrinsic+json": {
              "type": "string"
            },
            "text/plain": [
              "'H'"
            ]
          },
          "metadata": {
            "tags": []
          },
          "execution_count": 96
        }
      ]
    },
    {
      "cell_type": "code",
      "metadata": {
        "colab": {
          "base_uri": "https://localhost:8080/"
        },
        "id": "NBTWCrxBIQto",
        "outputId": "fcc4e547-8196-458e-a2ac-22b7e17c1cf0"
      },
      "source": [
        "x.index('Python')"
      ],
      "execution_count": 97,
      "outputs": [
        {
          "output_type": "execute_result",
          "data": {
            "text/plain": [
              "6"
            ]
          },
          "metadata": {
            "tags": []
          },
          "execution_count": 97
        }
      ]
    },
    {
      "cell_type": "code",
      "metadata": {
        "id": "00N0SrqhIqgY"
      },
      "source": [
        "z='-'.join(x)"
      ],
      "execution_count": 98,
      "outputs": []
    },
    {
      "cell_type": "code",
      "metadata": {
        "colab": {
          "base_uri": "https://localhost:8080/",
          "height": 35
        },
        "id": "sGzmU0h1JAiY",
        "outputId": "7d1f282a-f2de-485f-d7c5-fab46cce929d"
      },
      "source": [
        "z"
      ],
      "execution_count": 99,
      "outputs": [
        {
          "output_type": "execute_result",
          "data": {
            "application/vnd.google.colaboratory.intrinsic+json": {
              "type": "string"
            },
            "text/plain": [
              "'H-e-l-l-o- -P-y-t-h-o-n'"
            ]
          },
          "metadata": {
            "tags": []
          },
          "execution_count": 99
        }
      ]
    },
    {
      "cell_type": "code",
      "metadata": {
        "colab": {
          "base_uri": "https://localhost:8080/",
          "height": 35
        },
        "id": "p8jZu-38JBc3",
        "outputId": "a9bb5db1-8c1d-41c7-d347-7afa64bdc7db"
      },
      "source": [
        "x\n"
      ],
      "execution_count": 100,
      "outputs": [
        {
          "output_type": "execute_result",
          "data": {
            "application/vnd.google.colaboratory.intrinsic+json": {
              "type": "string"
            },
            "text/plain": [
              "'Hello Python'"
            ]
          },
          "metadata": {
            "tags": []
          },
          "execution_count": 100
        }
      ]
    },
    {
      "cell_type": "code",
      "metadata": {
        "colab": {
          "base_uri": "https://localhost:8080/",
          "height": 35
        },
        "id": "tMaCoQZwJcEI",
        "outputId": "1b7be963-805c-4347-f034-f69f02ce9602"
      },
      "source": [
        "x.replace('P','a')"
      ],
      "execution_count": 105,
      "outputs": [
        {
          "output_type": "execute_result",
          "data": {
            "application/vnd.google.colaboratory.intrinsic+json": {
              "type": "string"
            },
            "text/plain": [
              "'Hello aython'"
            ]
          },
          "metadata": {
            "tags": []
          },
          "execution_count": 105
        }
      ]
    },
    {
      "cell_type": "code",
      "metadata": {
        "id": "LR20EnGGJeUn"
      },
      "source": [
        ""
      ],
      "execution_count": null,
      "outputs": []
    }
  ]
}