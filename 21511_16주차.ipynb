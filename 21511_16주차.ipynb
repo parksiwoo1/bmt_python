{
  "nbformat": 4,
  "nbformat_minor": 0,
  "metadata": {
    "colab": {
      "name": "21511_16주차.ipynb",
      "provenance": [],
      "collapsed_sections": [],
      "authorship_tag": "ABX9TyN5eHHZldRBeT4z7m1hH2kP",
      "include_colab_link": true
    },
    "kernelspec": {
      "name": "python3",
      "display_name": "Python 3"
    },
    "language_info": {
      "name": "python"
    }
  },
  "cells": [
    {
      "cell_type": "markdown",
      "metadata": {
        "id": "view-in-github",
        "colab_type": "text"
      },
      "source": [
        "<a href=\"https://colab.research.google.com/github/parksiwoo1/bmt_python/blob/main/21511_16%EC%A3%BC%EC%B0%A8.ipynb\" target=\"_parent\"><img src=\"https://colab.research.google.com/assets/colab-badge.svg\" alt=\"Open In Colab\"/></a>"
      ]
    },
    {
      "cell_type": "code",
      "metadata": {
        "id": "IDkeEx2OaMqp"
      },
      "source": [
        "names=['정밀','폴리','산설','메카','로봇','전기']"
      ],
      "execution_count": null,
      "outputs": []
    },
    {
      "cell_type": "code",
      "metadata": {
        "colab": {
          "base_uri": "https://localhost:8080/"
        },
        "id": "oP3GURDAa_2X",
        "outputId": "489d4496-2472-4c50-e632-d5a12f72584d"
      },
      "source": [
        "type(names)"
      ],
      "execution_count": null,
      "outputs": [
        {
          "output_type": "execute_result",
          "data": {
            "text/plain": [
              "list"
            ]
          },
          "metadata": {
            "tags": []
          },
          "execution_count": 2
        }
      ]
    },
    {
      "cell_type": "code",
      "metadata": {
        "colab": {
          "base_uri": "https://localhost:8080/",
          "height": 35
        },
        "id": "OvZJOh3rbBh7",
        "outputId": "3b0e55b3-51c1-442c-fc28-ecc3f0993ff5"
      },
      "source": [
        "names[1]"
      ],
      "execution_count": null,
      "outputs": [
        {
          "output_type": "execute_result",
          "data": {
            "application/vnd.google.colaboratory.intrinsic+json": {
              "type": "string"
            },
            "text/plain": [
              "'폴리'"
            ]
          },
          "metadata": {
            "tags": []
          },
          "execution_count": 3
        }
      ]
    },
    {
      "cell_type": "code",
      "metadata": {
        "colab": {
          "base_uri": "https://localhost:8080/"
        },
        "id": "9oiejN2WbCwI",
        "outputId": "421cee1b-a3dc-4167-ecf5-a81e7107d740"
      },
      "source": [
        "type(names[0])"
      ],
      "execution_count": null,
      "outputs": [
        {
          "output_type": "execute_result",
          "data": {
            "text/plain": [
              "str"
            ]
          },
          "metadata": {
            "tags": []
          },
          "execution_count": 4
        }
      ]
    },
    {
      "cell_type": "code",
      "metadata": {
        "id": "MUoWodVubFzM"
      },
      "source": [
        "names.append('부산기계')"
      ],
      "execution_count": null,
      "outputs": []
    },
    {
      "cell_type": "code",
      "metadata": {
        "colab": {
          "base_uri": "https://localhost:8080/"
        },
        "id": "zjctHGYrbKve",
        "outputId": "df1adb8e-fbcf-4dfe-c76e-2257c119c862"
      },
      "source": [
        "names"
      ],
      "execution_count": null,
      "outputs": [
        {
          "output_type": "execute_result",
          "data": {
            "text/plain": [
              "['정밀', '폴리', '산설', '메카', '로봇', '전기', '부산기계']"
            ]
          },
          "metadata": {
            "tags": []
          },
          "execution_count": 7
        }
      ]
    },
    {
      "cell_type": "code",
      "metadata": {
        "colab": {
          "base_uri": "https://localhost:8080/"
        },
        "id": "s-NK1lXbbQC4",
        "outputId": "e8af0533-103a-4e38-c5d7-f2ba31960ef2"
      },
      "source": [
        "for i in names:\n",
        "  if len(i)>2:\n",
        "    print(i,'공업고등학교')\n",
        "    print(i+'공업고등학교')"
      ],
      "execution_count": null,
      "outputs": [
        {
          "output_type": "stream",
          "text": [
            "부산기계 공업고등학교\n",
            "부산기계공업고등학교\n"
          ],
          "name": "stdout"
        }
      ]
    },
    {
      "cell_type": "code",
      "metadata": {
        "colab": {
          "base_uri": "https://localhost:8080/"
        },
        "id": "-dW6fiXGbh3X",
        "outputId": "03296e56-a110-4993-e0f5-846b24287918"
      },
      "source": [
        "#주석\n",
        "print(20**3)\n",
        "print('Hello World!')"
      ],
      "execution_count": null,
      "outputs": [
        {
          "output_type": "stream",
          "text": [
            "8000\n",
            "Hello World!\n"
          ],
          "name": "stdout"
        }
      ]
    },
    {
      "cell_type": "code",
      "metadata": {
        "colab": {
          "base_uri": "https://localhost:8080/"
        },
        "id": "G0OGvUVccCV0",
        "outputId": "15624843-d6e8-4724-93cf-6a8e0ef7f67a"
      },
      "source": [
        "school = '부산기계공고' \n",
        "print(school)  \n",
        "\n",
        "a = 1024\n",
        "print(a)\n",
        "  \n",
        "name = \"전기과\"\n",
        "print(name+' 화이팅!!!') \n",
        "print(f'{name} 화이팅!!!')\n",
        "\n",
        "print(2021, f'{name} 화이팅!!!') "
      ],
      "execution_count": null,
      "outputs": [
        {
          "output_type": "stream",
          "text": [
            "부산기계공고\n",
            "1024\n",
            "전기과 화이팅!!!\n",
            "전기과 화이팅!!!\n",
            "2021 전기과 화이팅!!!\n"
          ],
          "name": "stdout"
        }
      ]
    },
    {
      "cell_type": "code",
      "metadata": {
        "colab": {
          "base_uri": "https://localhost:8080/"
        },
        "id": "NYL58IpZcpLC",
        "outputId": "18a3fd88-cc3f-482e-b91e-f2c4cf66a571"
      },
      "source": [
        "name = input('이름을 입력해주세요: ')\n",
        "\n",
        "print(name+'님! 안녕하세요!')\n",
        "print(name, '님! 안녕하세요!')\n",
        "print(f'{name}님! 안녕하세요!')"
      ],
      "execution_count": null,
      "outputs": [
        {
          "output_type": "stream",
          "text": [
            "이름을 입력해주세요: 박시우\n",
            "박시우님! 안녕하세요!\n",
            "박시우 님! 안녕하세요!\n",
            "박시우님! 안녕하세요!\n"
          ],
          "name": "stdout"
        }
      ]
    },
    {
      "cell_type": "code",
      "metadata": {
        "colab": {
          "base_uri": "https://localhost:8080/"
        },
        "id": "a1PdY2_3cxJC",
        "outputId": "81764c9d-4680-45ae-b4c0-d3489d88716a"
      },
      "source": [
        "age = input('나이를 입력해 주세요 : ')\n",
        "print(int(age)-1)\n",
        "type(age)"
      ],
      "execution_count": null,
      "outputs": [
        {
          "output_type": "stream",
          "text": [
            "나이를 입력해 주세요 : 12\n",
            "11\n"
          ],
          "name": "stdout"
        },
        {
          "output_type": "execute_result",
          "data": {
            "text/plain": [
              "str"
            ]
          },
          "metadata": {
            "tags": []
          },
          "execution_count": 22
        }
      ]
    },
    {
      "cell_type": "code",
      "metadata": {
        "colab": {
          "base_uri": "https://localhost:8080/"
        },
        "id": "CSp2TvzLdlKP",
        "outputId": "c0f6cb7c-f97c-4d4c-8757-c6fde7c45547"
      },
      "source": [
        "age = int(input('나이를 입력해 주세요 : '))\n",
        "print(age-1)\n",
        "type(age)"
      ],
      "execution_count": null,
      "outputs": [
        {
          "output_type": "stream",
          "text": [
            "나이를 입력해 주세요 : 12\n",
            "11\n"
          ],
          "name": "stdout"
        },
        {
          "output_type": "execute_result",
          "data": {
            "text/plain": [
              "int"
            ]
          },
          "metadata": {
            "tags": []
          },
          "execution_count": 23
        }
      ]
    },
    {
      "cell_type": "code",
      "metadata": {
        "colab": {
          "base_uri": "https://localhost:8080/"
        },
        "id": "OJKXhOwBeI_R",
        "outputId": "95d525e7-af5b-49e0-b2b6-2fa6a57dc433"
      },
      "source": [
        "name = input('이름을 입력해 주세요 : ')\n",
        "age = int(input('나이를 입력해 주세요 : '))\n",
        "\n",
        "print(f'안녕하세요! {name} 님! 저는 처음에 {(age-4)}살인 줄 알았어요!!')"
      ],
      "execution_count": null,
      "outputs": [
        {
          "output_type": "stream",
          "text": [
            "이름을 입력해 주세요 : 박시우\n",
            "나이를 입력해 주세요 : 18\n",
            "안녕하세요! 박시우 님! 저는 처음에 14살인 줄 알았어요!!\n"
          ],
          "name": "stdout"
        }
      ]
    },
    {
      "cell_type": "code",
      "metadata": {
        "colab": {
          "base_uri": "https://localhost:8080/"
        },
        "id": "bLV3H3geea-3",
        "outputId": "45b678f6-1046-44b7-f2e1-631b6884e33b"
      },
      "source": [
        "print(10 * 2)   # * : 곱셈 연산자\n",
        "print(10 ** 2)  # ** : 거듭 제곱 연산자\n",
        "print(10 % 2)   # % : 나머지 연산자\n",
        "print(7 / 2)   # / : 실수 나눗셈\n",
        "print(7 // 2)  # // : 정수 나눗셈 (몫만 나옴)"
      ],
      "execution_count": null,
      "outputs": [
        {
          "output_type": "stream",
          "text": [
            "20\n",
            "100\n",
            "0\n",
            "3.5\n",
            "3\n"
          ],
          "name": "stdout"
        }
      ]
    },
    {
      "cell_type": "code",
      "metadata": {
        "colab": {
          "base_uri": "https://localhost:8080/"
        },
        "id": "FeWqmSMKfJjG",
        "outputId": "e990056e-0a40-4f2a-f0a2-6ddd19942a1c"
      },
      "source": [
        "print(10 >= 2)\n",
        "print(10 <= 2)\n",
        "print(10 == 2)  \n",
        "print(10 != 2)   \n",
        "print(10 % 2 == 1)"
      ],
      "execution_count": null,
      "outputs": [
        {
          "output_type": "stream",
          "text": [
            "True\n",
            "False\n",
            "False\n",
            "True\n",
            "False\n"
          ],
          "name": "stdout"
        }
      ]
    },
    {
      "cell_type": "code",
      "metadata": {
        "colab": {
          "base_uri": "https://localhost:8080/"
        },
        "id": "v15JAlBffa5m",
        "outputId": "12c01011-9ad9-46e3-f17d-272a95a121da"
      },
      "source": [
        "print(1==1 and 2 != 1) \n",
        "print(10 % 2 != 0 and 1 + 1 > 0 ) \n",
        "print()\n",
        "\n",
        "print(10 < 5 or 10 == 5) \n",
        "print(10 % 2 != 0 or 1 + 1 > 0)\n",
        "print()\n",
        "\n",
        "print(not 10 > 5)  \n",
        "print(not 10 == 5)  \n",
        "print(not 0)        \n",
        "print(not 10)   "
      ],
      "execution_count": null,
      "outputs": [
        {
          "output_type": "stream",
          "text": [
            "True\n",
            "False\n",
            "\n",
            "False\n",
            "True\n",
            "\n",
            "False\n",
            "True\n",
            "True\n",
            "False\n"
          ],
          "name": "stdout"
        }
      ]
    },
    {
      "cell_type": "code",
      "metadata": {
        "colab": {
          "base_uri": "https://localhost:8080/"
        },
        "id": "y1zUQkxEfbVb",
        "outputId": "c77cf690-ab67-4bfd-9365-e62fe571edda"
      },
      "source": [
        "name = '부산기계공고'\n",
        "\n",
        "for i in name:\n",
        "  print(i)\n",
        "\n",
        "print()\n",
        "\n",
        "for i in name:\n",
        "  print(i, end=' ')"
      ],
      "execution_count": null,
      "outputs": [
        {
          "output_type": "stream",
          "text": [
            "부\n",
            "산\n",
            "기\n",
            "계\n",
            "공\n",
            "고\n",
            "\n",
            "부 산 기 계 공 고 "
          ],
          "name": "stdout"
        }
      ]
    },
    {
      "cell_type": "code",
      "metadata": {
        "colab": {
          "base_uri": "https://localhost:8080/",
          "height": 35
        },
        "id": "O-zdF3vQg_Id",
        "outputId": "0ced718d-432a-48ab-f1a1-30957999fb19"
      },
      "source": [
        "name[0]"
      ],
      "execution_count": null,
      "outputs": [
        {
          "output_type": "execute_result",
          "data": {
            "application/vnd.google.colaboratory.intrinsic+json": {
              "type": "string"
            },
            "text/plain": [
              "'부'"
            ]
          },
          "metadata": {
            "tags": []
          },
          "execution_count": 33
        }
      ]
    },
    {
      "cell_type": "code",
      "metadata": {
        "colab": {
          "base_uri": "https://localhost:8080/"
        },
        "id": "HJvgoq7whHKm",
        "outputId": "a4b167aa-4182-4570-d5e3-9fbf207b1869"
      },
      "source": [
        "for i in range(3,10,2):\n",
        "  print(i ** 2)\n",
        "\n",
        "for i in range(10):\n",
        "  print(i ** 2, end=' ')"
      ],
      "execution_count": null,
      "outputs": [
        {
          "output_type": "stream",
          "text": [
            "9\n",
            "25\n",
            "49\n",
            "81\n",
            "0 1 4 9 16 25 36 49 64 81 "
          ],
          "name": "stdout"
        }
      ]
    },
    {
      "cell_type": "code",
      "metadata": {
        "colab": {
          "base_uri": "https://localhost:8080/"
        },
        "id": "XCrlcQnglpwD",
        "outputId": "e37da61d-875e-4512-82ca-51cf115a1a3f"
      },
      "source": [
        "if 10<0:\n",
        "  print('hi')\n",
        "print('hello')"
      ],
      "execution_count": null,
      "outputs": [
        {
          "output_type": "stream",
          "text": [
            "hello\n"
          ],
          "name": "stdout"
        }
      ]
    },
    {
      "cell_type": "code",
      "metadata": {
        "colab": {
          "base_uri": "https://localhost:8080/"
        },
        "id": "z29LiGiDmceC",
        "outputId": "ac4a0166-1c61-44b9-dc9a-2277d5b9f0df"
      },
      "source": [
        "if 10!=0 and 5%2==1:\n",
        "  print('hi')"
      ],
      "execution_count": null,
      "outputs": [
        {
          "output_type": "stream",
          "text": [
            "hi\n"
          ],
          "name": "stdout"
        }
      ]
    },
    {
      "cell_type": "code",
      "metadata": {
        "colab": {
          "base_uri": "https://localhost:8080/"
        },
        "id": "_ABc42ZNmpcb",
        "outputId": "b5047b33-6f9f-4a0f-b1e3-246c35d4cf4f"
      },
      "source": [
        "password=int(input('비밀번호 입력: '))\n",
        "if password==2021:\n",
        "  print('비밀번호가 일치합니다.')"
      ],
      "execution_count": null,
      "outputs": [
        {
          "output_type": "stream",
          "text": [
            "비밀번호 입력: 2021\n",
            "비밀번호가 일치합니다.\n"
          ],
          "name": "stdout"
        }
      ]
    },
    {
      "cell_type": "code",
      "metadata": {
        "colab": {
          "base_uri": "https://localhost:8080/"
        },
        "id": "26YFX1JlnERc",
        "outputId": "e407dfd6-5afd-434e-9b29-cccdad22c949"
      },
      "source": [
        "for i in range(1,10000):\n",
        "  if i== 2021:\n",
        "    print('비밀번호가 일치합니다.')\n",
        "    print(f'비밀번호는 {i}입니다.')"
      ],
      "execution_count": null,
      "outputs": [
        {
          "output_type": "stream",
          "text": [
            "비밀번호가 일치합니다.\n",
            "비밀번호는 2021입니다.\n"
          ],
          "name": "stdout"
        }
      ]
    },
    {
      "cell_type": "code",
      "metadata": {
        "colab": {
          "base_uri": "https://localhost:8080/"
        },
        "id": "Jp6d8CU1not6",
        "outputId": "1b36952c-f56d-4907-d65c-35d43053e3ea"
      },
      "source": [
        "password = int(input('비밀번호 4자리를 입력하세요 : '))\n",
        "\n",
        "if password == 2021:\n",
        "  print('비밀번호가 일치합니다.')\n",
        "else :\n",
        "  print('비밀번호가 일치하지 않습니다.')"
      ],
      "execution_count": null,
      "outputs": [
        {
          "output_type": "stream",
          "text": [
            "비밀번호 4자리를 입력하세요 : 2021\n",
            "비밀번호가 일치합니다.\n"
          ],
          "name": "stdout"
        }
      ]
    },
    {
      "cell_type": "code",
      "metadata": {
        "colab": {
          "base_uri": "https://localhost:8080/"
        },
        "id": "DSno0CSVn4N7",
        "outputId": "592a6237-c3a1-4d4a-dc8b-8e3624063277"
      },
      "source": [
        "print('[ 소름끼치도록 놀라운 심리테스트 ]')\n",
        "\n",
        "menu = input('당신이 좋아하는 음식을 입력해주세요 : ')\n",
        "\n",
        "if menu == '짜장면':\n",
        "  print(f'당신은 {menu}을 좋아하는 사람입니다.')\n",
        "elif menu == '아이스크림':\n",
        "  print(f'당신은 {menu}을 좋아하는 사람입니다.')\n",
        "elif menu == '사탕':\n",
        "  print(f'당신은 {menu}을 좋아하는 사람입니다.')\n",
        "else :\n",
        "  print(f'당신은 짜장면, 아이스크림, 사탕을 좋아하지 않는 사람입니다.')"
      ],
      "execution_count": null,
      "outputs": [
        {
          "output_type": "stream",
          "text": [
            "[ 소름끼치도록 놀라운 심리테스트 ]\n",
            "당신이 좋아하는 음식을 입력해주세요 : 사탕\n",
            "당신은 사탕을 좋아하는 사람입니다.\n"
          ],
          "name": "stdout"
        }
      ]
    },
    {
      "cell_type": "code",
      "metadata": {
        "colab": {
          "base_uri": "https://localhost:8080/"
        },
        "id": "ijyb2cKjoYcM",
        "outputId": "1be8a116-6917-4dbe-bd32-ebe60ddcc0e1"
      },
      "source": [
        "names = ['정밀', '폴리', '산설', '메카', '로봇', '전기']\n",
        "\n",
        "for i in [0, 1, 2, 3, 4, 5]:\n",
        "  print(names[i], end=' ')\n",
        "\n",
        "print()\n",
        "\n",
        "for i in range(6):\n",
        "  print(names[i], end=' ')\n",
        "\n",
        "print()\n",
        "print(names[0])\n",
        "print(names[-1])"
      ],
      "execution_count": null,
      "outputs": [
        {
          "output_type": "stream",
          "text": [
            "정밀 폴리 산설 메카 로봇 전기 \n",
            "정밀 폴리 산설 메카 로봇 전기 \n",
            "정밀\n",
            "전기\n"
          ],
          "name": "stdout"
        }
      ]
    },
    {
      "cell_type": "code",
      "metadata": {
        "colab": {
          "base_uri": "https://localhost:8080/"
        },
        "id": "gqcbz4peohNc",
        "outputId": "007b74eb-a0a0-466e-e6a7-2d9fcb502632"
      },
      "source": [
        "names = ['정밀', '폴리', '산설', '메카', '로봇', '전기']\n",
        "\n",
        "print(names[0:2])\n",
        "print(names[1:3])\n",
        "print(names[1:])\n",
        "print(names[:])"
      ],
      "execution_count": null,
      "outputs": [
        {
          "output_type": "stream",
          "text": [
            "['정밀', '폴리']\n",
            "['폴리', '산설']\n",
            "['폴리', '산설', '메카', '로봇', '전기']\n",
            "['정밀', '폴리', '산설', '메카', '로봇', '전기']\n"
          ],
          "name": "stdout"
        }
      ]
    },
    {
      "cell_type": "code",
      "metadata": {
        "colab": {
          "base_uri": "https://localhost:8080/"
        },
        "id": "81ErLZxHpAP2",
        "outputId": "efd15121-c5bb-49a3-c4cd-7ca651f5fbe3"
      },
      "source": [
        "names = ['정밀', '폴리', '산설', '메카', '로봇', '전기']\n",
        "names.append('부기공')\n",
        "names.insert(0,'파이팅')\n",
        "names"
      ],
      "execution_count": null,
      "outputs": [
        {
          "output_type": "execute_result",
          "data": {
            "text/plain": [
              "['파이팅', '정밀', '폴리', '산설', '메카', '로봇', '전기', '부기공']"
            ]
          },
          "metadata": {
            "tags": []
          },
          "execution_count": 65
        }
      ]
    },
    {
      "cell_type": "code",
      "metadata": {
        "colab": {
          "base_uri": "https://localhost:8080/"
        },
        "id": "NVKSou7TpQu4",
        "outputId": "02590834-23b4-4fcb-e224-33457fc9efaf"
      },
      "source": [
        "names = ['정밀', '폴리', '산설', '메카', '로봇', '전기']\n",
        "\n",
        "print(len(names))   \n",
        "print(len('문자열의 크기를 구해봅시다.')) "
      ],
      "execution_count": null,
      "outputs": [
        {
          "output_type": "stream",
          "text": [
            "6\n",
            "15\n"
          ],
          "name": "stdout"
        }
      ]
    },
    {
      "cell_type": "code",
      "metadata": {
        "colab": {
          "base_uri": "https://localhost:8080/"
        },
        "id": "DHuglVdEpjoq",
        "outputId": "b980ea2c-6abd-457c-ba91-5236d5d5dde9"
      },
      "source": [
        "names = ['정밀', '폴리', '산설', '메카', '로봇', '전기']\n",
        "\n",
        "names.append('부산기계')\n",
        "\n",
        "for name in names:\n",
        "  if len(name) > 2:\n",
        "    print(f'{name}공업고등학교')"
      ],
      "execution_count": null,
      "outputs": [
        {
          "output_type": "stream",
          "text": [
            "부산기계공업고등학교\n"
          ],
          "name": "stdout"
        }
      ]
    },
    {
      "cell_type": "code",
      "metadata": {
        "colab": {
          "base_uri": "https://localhost:8080/"
        },
        "id": "wJYs54xJpyVc",
        "outputId": "01f67682-0885-402b-f05a-90c5fdabbc91"
      },
      "source": [
        "print('Hello World')\n",
        "print('Busan')\n",
        "print('Mechanical')\n",
        "print('High School')"
      ],
      "execution_count": null,
      "outputs": [
        {
          "output_type": "stream",
          "text": [
            "Hello World\n",
            "Busan\n",
            "Mechanical\n",
            "High School\n"
          ],
          "name": "stdout"
        }
      ]
    },
    {
      "cell_type": "code",
      "metadata": {
        "colab": {
          "base_uri": "https://localhost:8080/"
        },
        "id": "hKuhTgXIqMg5",
        "outputId": "e12bd800-5c6d-42c5-daed-04938dfcd6ac"
      },
      "source": [
        "print('Hello', end = ' ') \n",
        "print('World')"
      ],
      "execution_count": null,
      "outputs": [
        {
          "output_type": "stream",
          "text": [
            "Hello World\n"
          ],
          "name": "stdout"
        }
      ]
    },
    {
      "cell_type": "code",
      "metadata": {
        "colab": {
          "base_uri": "https://localhost:8080/"
        },
        "id": "94uTIoYdqQVS",
        "outputId": "65322de2-c9c8-455c-dae8-ed24f0854aeb"
      },
      "source": [
        "print('Hello', 'World')  \n",
        "print('Hello' + 'World')"
      ],
      "execution_count": null,
      "outputs": [
        {
          "output_type": "stream",
          "text": [
            "Hello World\n",
            "HelloWorld\n"
          ],
          "name": "stdout"
        }
      ]
    },
    {
      "cell_type": "code",
      "metadata": {
        "colab": {
          "base_uri": "https://localhost:8080/"
        },
        "id": "m_C0py2vqUvJ",
        "outputId": "b947cc94-ed7f-4c99-9ad8-95c9d963cc94"
      },
      "source": [
        "print('Hello\\'') \n",
        "print('Hello\\\"')\n",
        "print('Hello\\nWorld') "
      ],
      "execution_count": null,
      "outputs": [
        {
          "output_type": "stream",
          "text": [
            "Hello'\n",
            "Hello\"\n",
            "Hello\n",
            "World\n"
          ],
          "name": "stdout"
        }
      ]
    },
    {
      "cell_type": "code",
      "metadata": {
        "colab": {
          "base_uri": "https://localhost:8080/"
        },
        "id": "g7UnM3wXqi0t",
        "outputId": "19863b97-4fa3-4e33-93f3-d3ff0b7fbc66"
      },
      "source": [
        "x = input() \n",
        "print(x)"
      ],
      "execution_count": null,
      "outputs": [
        {
          "output_type": "stream",
          "text": [
            "hi\n",
            "hi\n"
          ],
          "name": "stdout"
        }
      ]
    },
    {
      "cell_type": "code",
      "metadata": {
        "colab": {
          "base_uri": "https://localhost:8080/"
        },
        "id": "zW13dQQ0qqqw",
        "outputId": "023d04fb-e659-467a-cc89-6cab213b23d3"
      },
      "source": [
        "x = input('x 입력 : ')\n",
        "y = input('y 입력 : ')\n",
        "\n",
        "print(x, '+', y, '=', int(x)+int(y))"
      ],
      "execution_count": null,
      "outputs": [
        {
          "output_type": "stream",
          "text": [
            "x 입력 : 1\n",
            "y 입력 : 2\n",
            "1 + 2 = 3\n"
          ],
          "name": "stdout"
        }
      ]
    },
    {
      "cell_type": "code",
      "metadata": {
        "colab": {
          "base_uri": "https://localhost:8080/"
        },
        "id": "vEe9UWi4q16X",
        "outputId": "2bf52324-3b21-4e26-c75a-3858a45b1b49"
      },
      "source": [
        "x = input('x 입력 : ')\n",
        "y = input('y 입력 : ')\n",
        "\n",
        "print(f'{x} + {y} = {int(x)+int(y)}')"
      ],
      "execution_count": null,
      "outputs": [
        {
          "output_type": "stream",
          "text": [
            "x 입력 : 1\n",
            "y 입력 : 3\n",
            "1 + 3 = 4\n"
          ],
          "name": "stdout"
        }
      ]
    },
    {
      "cell_type": "code",
      "metadata": {
        "colab": {
          "base_uri": "https://localhost:8080/"
        },
        "id": "gQ8XqeBFrPbH",
        "outputId": "74e035b0-03aa-4b62-d9be-78548f041668"
      },
      "source": [
        "x = int(input('첫 번째 정수 입력 : '))\n",
        "y = int(input('두 번째 정수 입력 : '))\n",
        "\n",
        "print(x, '+', y, '=', (x + y))\n",
        "print(x, '-', y, '=', (x - y))\n",
        "print(x, 'x', y, '=', (x * y))\n",
        "print(x, '/', y, '=', (x / y))"
      ],
      "execution_count": null,
      "outputs": [
        {
          "output_type": "stream",
          "text": [
            "첫 번째 정수 입력 : 89\n",
            "두 번째 정수 입력 : 39\n",
            "89 + 39 = 128\n",
            "89 - 39 = 50\n",
            "89 x 39 = 3471\n",
            "89 / 39 = 2.282051282051282\n"
          ],
          "name": "stdout"
        }
      ]
    },
    {
      "cell_type": "code",
      "metadata": {
        "colab": {
          "base_uri": "https://localhost:8080/"
        },
        "id": "cKMRtJvgrTXx",
        "outputId": "984b291e-c48c-4ed1-d024-33b3595024d7"
      },
      "source": [
        "x = int(input('첫 번째 정수 입력 : '))\n",
        "y = int(input('두 번째 정수 입력 : '))\n",
        "\n",
        "print(x, '+', y, '=', (x + y))\n",
        "print(x, '-', y, '=', (x - y))\n",
        "print(x, 'x', y, '=', (x * y))\n",
        "print(x, '/', y, '=', (x / y))\n",
        "print(x, '//', y, '=', (x // y)) \n",
        "print(x, '%', y, '=', (x % y)) \n",
        "\n",
        "print('*'*50)\n",
        "print(f'{x} + {y} = {x+y}')\n",
        "\n",
        "print(f'{x} + {y} = {x + y}')\n",
        "print(f'{x} - {y} = {x - y}')\n",
        "print(f'{x} x {y} = {x * y}')\n",
        "print(f'{x} / {y} = {x / y}')\n",
        "print(f'{x} // {y} (나눈 몫) = {x // y}')\n",
        "print(f'{x} % {y} (나눈 나머지) = {x % y}')"
      ],
      "execution_count": null,
      "outputs": [
        {
          "output_type": "stream",
          "text": [
            "첫 번째 정수 입력 : 89\n",
            "두 번째 정수 입력 : 3\n",
            "89 + 3 = 92\n",
            "89 - 3 = 86\n",
            "89 x 3 = 267\n",
            "89 / 3 = 29.666666666666668\n",
            "89 // 3 = 29\n",
            "89 % 3 = 2\n",
            "**************************************************\n",
            "89 + 3 = 92\n",
            "89 + 3 = 92\n",
            "89 - 3 = 86\n",
            "89 x 3 = 267\n",
            "89 / 3 = 29.666666666666668\n",
            "89 // 3 (나눈 몫) = 29\n",
            "89 % 3 (나눈 나머지) = 2\n"
          ],
          "name": "stdout"
        }
      ]
    },
    {
      "cell_type": "code",
      "metadata": {
        "colab": {
          "base_uri": "https://localhost:8080/"
        },
        "id": "0UF4gXpVriOR",
        "outputId": "c7946364-3a72-4b05-fe1f-a12b0010e747"
      },
      "source": [
        "weight = int(input('weight(kg) : '))\n",
        "height = int(input('height(cm) : '))\n",
        "\n",
        "BMI = weight / ( height/100)**2\n",
        "\n",
        "print(f'BMI : {BMI:.2f}')"
      ],
      "execution_count": null,
      "outputs": [
        {
          "output_type": "stream",
          "text": [
            "weight(kg) : 70\n",
            "height(cm) : 178\n",
            "BMI : 22.09\n"
          ],
          "name": "stdout"
        }
      ]
    },
    {
      "cell_type": "code",
      "metadata": {
        "colab": {
          "base_uri": "https://localhost:8080/"
        },
        "id": "JrCOp680rr5J",
        "outputId": "a7cae293-9a7e-4e2b-e0a4-a6d9244286c3"
      },
      "source": [
        "print('ExchangeRate Calc : $ - \\ ')\n",
        "ExchangeRate = float(input(' 1$ ExchangeRate : '))\n",
        "KRW = int(input('KRW : '))\n",
        "\n",
        "USD = ExchangeRate / 1000 * KRW\n",
        "\n",
        "print(f'USD : {USD:.1f} $')"
      ],
      "execution_count": null,
      "outputs": [
        {
          "output_type": "stream",
          "text": [
            "ExchangeRate Calc : $ - \\ \n",
            " 1$ ExchangeRate : 0.84\n",
            "KRW : 1700000\n",
            "USD : 1428.0 $\n"
          ],
          "name": "stdout"
        }
      ]
    },
    {
      "cell_type": "code",
      "metadata": {
        "colab": {
          "base_uri": "https://localhost:8080/"
        },
        "id": "txoqClQFr_DW",
        "outputId": "0ff09468-231d-4e8b-99dc-8c62de572528"
      },
      "source": [
        "celsius = float(input('Celsius : '))\n",
        "\n",
        "fahrenheit = (celsius * 1.8) + 32\n",
        "\n",
        "print(f'Fahrenheit : {fahrenheit}')"
      ],
      "execution_count": null,
      "outputs": [
        {
          "output_type": "stream",
          "text": [
            "Celsius : 0\n",
            "Fahrenheit : 32.0\n"
          ],
          "name": "stdout"
        }
      ]
    },
    {
      "cell_type": "markdown",
      "metadata": {
        "id": "dmzG2M2-scix"
      },
      "source": [
        "len() : 문자열 길이 구하기\n",
        "count() : 문자의 개수 구하기\n",
        "find() : 문자가 처음 나오는 위치 반환, 없으면 -1\n",
        "index() : 문자열이 처음 나오는 위치 반환, 없으면 오류\n",
        "join() : 문자열 사이에 문자 삽입, 예:'삽입문자'.join(문자열)\n",
        "upper() : 소문자를 대문자로 변환\n",
        "lower() : 대문자를 소문자로 변환\n",
        "replace() : 문자열 바꾸기, 예:replace(원본, 변환 문자)\n",
        "split() : 문자열 나누기 - 인수가 없으면 공백(스페이스, 탭, 엔터 등 구분자)을 기준"
      ]
    },
    {
      "cell_type": "code",
      "metadata": {
        "colab": {
          "base_uri": "https://localhost:8080/"
        },
        "id": "x9b4BoZysHoO",
        "outputId": "e79755d2-e7c2-4f43-f995-04404c09f1b4"
      },
      "source": [
        "x = 'Hello Python'\n",
        "\n",
        "len(x)\n",
        "print(f'len(x) : {len(x)}')"
      ],
      "execution_count": null,
      "outputs": [
        {
          "output_type": "stream",
          "text": [
            "len(x) : 12\n"
          ],
          "name": "stdout"
        }
      ]
    },
    {
      "cell_type": "code",
      "metadata": {
        "colab": {
          "base_uri": "https://localhost:8080/"
        },
        "id": "0SIMTmFQsjKt",
        "outputId": "8652f29c-2fe9-4ab9-ac81-a7b79f793bb4"
      },
      "source": [
        "x = 'Hello Python'\n",
        "\n",
        "print(f\"x.count('o') : {x.count('o')}\")"
      ],
      "execution_count": null,
      "outputs": [
        {
          "output_type": "stream",
          "text": [
            "x.count('o') : 2\n"
          ],
          "name": "stdout"
        }
      ]
    },
    {
      "cell_type": "code",
      "metadata": {
        "colab": {
          "base_uri": "https://localhost:8080/"
        },
        "id": "Kww_AsS8szAn",
        "outputId": "73e76f30-89ea-4f07-8c64-7e3682e194b1"
      },
      "source": [
        "x = 'hello PytHon'\n",
        "\n",
        "print(f'x.find(\"H\") : {x.find(\"H\")}')"
      ],
      "execution_count": null,
      "outputs": [
        {
          "output_type": "stream",
          "text": [
            "x.find(\"H\") : 9\n"
          ],
          "name": "stdout"
        }
      ]
    },
    {
      "cell_type": "code",
      "metadata": {
        "colab": {
          "base_uri": "https://localhost:8080/"
        },
        "id": "246tFvaas_AP",
        "outputId": "0d75102a-86b2-4a87-9d90-0cf694071ad3"
      },
      "source": [
        "x = 'Hello Python'\n",
        "\n",
        "print(f'x.index(\"Python\") : {x.index(\"Python\")}')"
      ],
      "execution_count": null,
      "outputs": [
        {
          "output_type": "stream",
          "text": [
            "x.index(\"Python\") : 6\n"
          ],
          "name": "stdout"
        }
      ]
    },
    {
      "cell_type": "code",
      "metadata": {
        "colab": {
          "base_uri": "https://localhost:8080/"
        },
        "id": "_unfuJuytOCa",
        "outputId": "671bca34-46ec-4e28-ad40-50b2c95f1dc8"
      },
      "source": [
        "x = 'Hello Python'\n",
        "\n",
        "z = '-'.join(x)\n",
        "print(z)"
      ],
      "execution_count": null,
      "outputs": [
        {
          "output_type": "stream",
          "text": [
            "H-e-l-l-o- -P-y-t-h-o-n\n"
          ],
          "name": "stdout"
        }
      ]
    },
    {
      "cell_type": "code",
      "metadata": {
        "colab": {
          "base_uri": "https://localhost:8080/"
        },
        "id": "T-yLoRyytVUI",
        "outputId": "6dc8112e-1f76-4935-f3bb-20f78124d65a"
      },
      "source": [
        "x = 'Hello Python'\n",
        "\n",
        "y = '-'.join(x)\n",
        "print(y)\n",
        "\n",
        "y.split(\"-\")\n",
        "print(f'y.split(\"-\") : {y.split(\"-\")}')"
      ],
      "execution_count": null,
      "outputs": [
        {
          "output_type": "stream",
          "text": [
            "H-e-l-l-o- -P-y-t-h-o-n\n",
            "y.split(\"-\") : ['H', 'e', 'l', 'l', 'o', ' ', 'P', 'y', 't', 'h', 'o', 'n']\n"
          ],
          "name": "stdout"
        }
      ]
    },
    {
      "cell_type": "code",
      "metadata": {
        "colab": {
          "base_uri": "https://localhost:8080/"
        },
        "id": "AyhGKnautg_H",
        "outputId": "7cbe67c6-e286-439d-bf09-8fbdb57135b8"
      },
      "source": [
        "x = 'Hello Python'\n",
        "\n",
        "print(f'x.upper() : {x.upper()}')"
      ],
      "execution_count": null,
      "outputs": [
        {
          "output_type": "stream",
          "text": [
            "x.upper() : HELLO PYTHON\n"
          ],
          "name": "stdout"
        }
      ]
    },
    {
      "cell_type": "code",
      "metadata": {
        "colab": {
          "base_uri": "https://localhost:8080/"
        },
        "id": "heDdyiyStsd-",
        "outputId": "703c0e29-dc08-4786-eaf7-38d9a0efdd04"
      },
      "source": [
        "x = 'Hello Python'\n",
        "\n",
        "print(f'x.lower() : {x.lower()}')"
      ],
      "execution_count": null,
      "outputs": [
        {
          "output_type": "stream",
          "text": [
            "x.lower() : hello python\n"
          ],
          "name": "stdout"
        }
      ]
    },
    {
      "cell_type": "code",
      "metadata": {
        "colab": {
          "base_uri": "https://localhost:8080/"
        },
        "id": "IfNnQJ6TtvCe",
        "outputId": "7add2fc9-b370-4991-a3ad-d76010b58db0"
      },
      "source": [
        "x = 'Hello Python'\n",
        "\n",
        "print(f'x.replace(\"P\", \"★\") : {x.replace(\"P\", \"★\")}')"
      ],
      "execution_count": null,
      "outputs": [
        {
          "output_type": "stream",
          "text": [
            "x.replace(\"P\", \"★\") : Hello ★ython\n"
          ],
          "name": "stdout"
        }
      ]
    },
    {
      "cell_type": "code",
      "metadata": {
        "colab": {
          "base_uri": "https://localhost:8080/"
        },
        "id": "AEpnQ8YQt1kE",
        "outputId": "ad7c14a4-0a06-4e33-aee7-6a7d637fed31"
      },
      "source": [
        "corona = '''\n",
        "코로나(corona)는 라틴말로 왕관을 뜻하며 통상 태양을 둘러싼 외곽의 빛(광환)을 지칭한다.\n",
        "코로나 바이러스라는 이름은 전자현미경으로 이 바이러스를 관찰했을 때 마치 코로나와 유사한 모양을 띠어 붙여진 이름이다.\n",
        "이번에 중국의 우환에서 시작된 코로나 바이러스는 2019년에 발견된 새로운 코로나 바이러스라는 뜻으로 2019-nCov로 붙여졌다.\n",
        "nCov는 novel(새로운) Cov(코로나 바이러스)라는 뜻이다.\n",
        "'''\n",
        "print('-'*50)\n",
        "sentence = corona.count('.')\n",
        "print(f'{sentence} 개의 문장으로 이루어짐')\n",
        "print(corona.replace('\\n','').split('.'))\n",
        "\n",
        "print()\n",
        "\n",
        "print('-'*50)\n",
        "str = input('찾으려는 단어를 입력하시요 : ')\n",
        "cnt = corona.count(str)\n",
        "print(f\"'{str}'(은/는) {cnt} 번 언급됨\")"
      ],
      "execution_count": null,
      "outputs": [
        {
          "output_type": "stream",
          "text": [
            "--------------------------------------------------\n",
            "4 개의 문장으로 이루어짐\n",
            "['코로나(corona)는 라틴말로 왕관을 뜻하며 통상 태양을 둘러싼 외곽의 빛(광환)을 지칭한다', '코로나 바이러스라는 이름은 전자현미경으로 이 바이러스를 관찰했을 때 마치 코로나와 유사한 모양을 띠어 붙여진 이름이다', '이번에 중국의 우환에서 시작된 코로나 바이러스는 2019년에 발견된 새로운 코로나 바이러스라는 뜻으로 2019-nCov로 붙여졌다', 'nCov는 novel(새로운) Cov(코로나 바이러스)라는 뜻이다', '']\n",
            "\n",
            "--------------------------------------------------\n",
            "찾으려는 단어를 입력하시요 : 라틴말\n",
            "'라틴말'(은/는) 1 번 언급됨\n"
          ],
          "name": "stdout"
        }
      ]
    },
    {
      "cell_type": "code",
      "metadata": {
        "id": "yb4d79FGt5TO"
      },
      "source": [
        ""
      ],
      "execution_count": null,
      "outputs": []
    }
  ]
}