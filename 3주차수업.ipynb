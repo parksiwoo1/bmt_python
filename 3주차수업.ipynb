{
  "nbformat": 4,
  "nbformat_minor": 0,
  "metadata": {
    "colab": {
      "name": "3주차수업.ipynb",
      "provenance": [],
      "authorship_tag": "ABX9TyNM2kddmhMN85CdjQTImKZ+",
      "include_colab_link": true
    },
    "kernelspec": {
      "name": "python3",
      "display_name": "Python 3"
    },
    "language_info": {
      "name": "python"
    }
  },
  "cells": [
    {
      "cell_type": "markdown",
      "metadata": {
        "id": "view-in-github",
        "colab_type": "text"
      },
      "source": [
        "<a href=\"https://colab.research.google.com/github/parksiwoo1/bmt_python/blob/main/3%EC%A3%BC%EC%B0%A8%EC%88%98%EC%97%85.ipynb\" target=\"_parent\"><img src=\"https://colab.research.google.com/assets/colab-badge.svg\" alt=\"Open In Colab\"/></a>"
      ]
    },
    {
      "cell_type": "code",
      "metadata": {
        "colab": {
          "base_uri": "https://localhost:8080/"
        },
        "id": "pwbI-HnN4wFx",
        "outputId": "65a24c29-d188-434c-9e55-5e27db8f2949"
      },
      "source": [
        "names=['정밀','폴리','산설','메카','로봇','전기']\n",
        "\n",
        "names.append('부산기계')\n",
        "\n",
        "for name in names:\n",
        "  if len(name)>2:\n",
        "    print(name,'공업고등학교')\n",
        "    print(name+'공업고등학교')\n"
      ],
      "execution_count": 40,
      "outputs": [
        {
          "output_type": "stream",
          "text": [
            "부산기계 공업고등학교\n",
            "부산기계공업고등학교\n"
          ],
          "name": "stdout"
        }
      ]
    },
    {
      "cell_type": "code",
      "metadata": {
        "colab": {
          "base_uri": "https://localhost:8080/"
        },
        "id": "PX-M4gBi5Qu6",
        "outputId": "2e9dc2fb-1baf-4bba-9c76-48f5043ba6c7"
      },
      "source": [
        "print(20**3)\n",
        "\n",
        "print('Fdsadfasdf')"
      ],
      "execution_count": 44,
      "outputs": [
        {
          "output_type": "stream",
          "text": [
            "8000\n",
            "Fdsadfasdf\n"
          ],
          "name": "stdout"
        }
      ]
    },
    {
      "cell_type": "code",
      "metadata": {
        "colab": {
          "base_uri": "https://localhost:8080/"
        },
        "id": "wxg9U6Fo5VhZ",
        "outputId": "731e064b-6758-48e6-9857-00f1d6795db4"
      },
      "source": [
        "school='부기공'\n",
        "print(school)\n",
        "\n",
        "a=123\n",
        "print(a)\n",
        "\n",
        "name=\"전기과\"\n",
        "print(name+)"
      ],
      "execution_count": 47,
      "outputs": [
        {
          "output_type": "stream",
          "text": [
            "부기공\n",
            "123\n"
          ],
          "name": "stdout"
        }
      ]
    },
    {
      "cell_type": "code",
      "metadata": {
        "colab": {
          "base_uri": "https://localhost:8080/"
        },
        "id": "9Xzq2AO77R7Y",
        "outputId": "5b089e16-c130-4a3c-ab90-5a26ee7b116c"
      },
      "source": [
        "print(10*20)\n",
        "print(10**2)\n",
        "print(10%3)\n",
        "print(7/2)\n",
        "print(7//2)"
      ],
      "execution_count": 48,
      "outputs": [
        {
          "output_type": "stream",
          "text": [
            "200\n",
            "100\n",
            "1\n",
            "3.5\n",
            "3\n"
          ],
          "name": "stdout"
        }
      ]
    },
    {
      "cell_type": "code",
      "metadata": {
        "colab": {
          "base_uri": "https://localhost:8080/"
        },
        "id": "DD_wwqwj9HY5",
        "outputId": "6c109d20-fe48-4798-c512-6527f94c4717"
      },
      "source": [
        "print( not 10<=2)"
      ],
      "execution_count": 54,
      "outputs": [
        {
          "output_type": "stream",
          "text": [
            "True\n"
          ],
          "name": "stdout"
        }
      ]
    },
    {
      "cell_type": "code",
      "metadata": {
        "colab": {
          "base_uri": "https://localhost:8080/"
        },
        "id": "_Njmpd8690MY",
        "outputId": "9685f341-833d-4c1e-b822-c0c33258641c"
      },
      "source": [
        "print( 10<=10) \n"
      ],
      "execution_count": 59,
      "outputs": [
        {
          "output_type": "stream",
          "text": [
            "True\n"
          ],
          "name": "stdout"
        }
      ]
    },
    {
      "cell_type": "code",
      "metadata": {
        "colab": {
          "base_uri": "https://localhost:8080/"
        },
        "id": "dsoHSy8--BSY",
        "outputId": "0eca583e-910a-4594-8bfe-18d195fd8333"
      },
      "source": [
        "print(10!=2)"
      ],
      "execution_count": 60,
      "outputs": [
        {
          "output_type": "stream",
          "text": [
            "True\n"
          ],
          "name": "stdout"
        }
      ]
    },
    {
      "cell_type": "code",
      "metadata": {
        "colab": {
          "base_uri": "https://localhost:8080/"
        },
        "id": "Il-IBGl2-RO3",
        "outputId": "143e5d6a-c7a1-415f-be63-52446eb75fca"
      },
      "source": [
        "print((10%2)==(1-1))"
      ],
      "execution_count": 61,
      "outputs": [
        {
          "output_type": "stream",
          "text": [
            "True\n"
          ],
          "name": "stdout"
        }
      ]
    },
    {
      "cell_type": "code",
      "metadata": {
        "colab": {
          "base_uri": "https://localhost:8080/"
        },
        "id": "wMBY4F0p_Vo4",
        "outputId": "1790397d-876a-4298-d955-4f5cfa3d2dcf"
      },
      "source": [
        "from random import randint\n",
        "\n",
        "dice =randint(1, 6)\n",
        "\n",
        "dice"
      ],
      "execution_count": 101,
      "outputs": [
        {
          "output_type": "execute_result",
          "data": {
            "text/plain": [
              "2"
            ]
          },
          "metadata": {
            "tags": []
          },
          "execution_count": 101
        }
      ]
    },
    {
      "cell_type": "code",
      "metadata": {
        "colab": {
          "base_uri": "https://localhost:8080/"
        },
        "id": "zPS8SlA2_2Po",
        "outputId": "b1b5ff4b-5dd8-40ea-8450-8d0ac1e6b101"
      },
      "source": [
        "import math\n",
        "\n",
        "math.sin(3.14/6)"
      ],
      "execution_count": 119,
      "outputs": [
        {
          "output_type": "execute_result",
          "data": {
            "text/plain": [
              "0.4997701026431024"
            ]
          },
          "metadata": {
            "tags": []
          },
          "execution_count": 119
        }
      ]
    },
    {
      "cell_type": "code",
      "metadata": {
        "colab": {
          "base_uri": "https://localhost:8080/"
        },
        "id": "uwCu3KWBCBoI",
        "outputId": "dabbbc6d-92d8-49de-a722-79895a1ea40f"
      },
      "source": [
        "a='박시우dfgssssssssss'\n",
        "\n",
        "for i in a:\n",
        "  print(i)"
      ],
      "execution_count": 135,
      "outputs": [
        {
          "output_type": "stream",
          "text": [
            "박\n",
            "시\n",
            "우\n",
            "d\n",
            "f\n",
            "g\n",
            "s\n",
            "s\n",
            "s\n",
            "s\n",
            "s\n",
            "s\n",
            "s\n",
            "s\n",
            "s\n",
            "s\n"
          ],
          "name": "stdout"
        }
      ]
    },
    {
      "cell_type": "code",
      "metadata": {
        "colab": {
          "base_uri": "https://localhost:8080/"
        },
        "id": "5SurCJE7D_jo",
        "outputId": "144c4328-16f4-4d07-a4ef-9a94b58b0c23"
      },
      "source": [
        "for i in [1,2,3,4,5]:\n",
        "  print(i+123)"
      ],
      "execution_count": 138,
      "outputs": [
        {
          "output_type": "stream",
          "text": [
            "124\n",
            "125\n",
            "126\n",
            "127\n",
            "128\n"
          ],
          "name": "stdout"
        }
      ]
    },
    {
      "cell_type": "code",
      "metadata": {
        "colab": {
          "base_uri": "https://localhost:8080/"
        },
        "id": "aW8nLnapFAUw",
        "outputId": "fe3e3016-96d3-4fc5-e21c-0d8345de9dd4"
      },
      "source": [
        "range (10)\n",
        "\n",
        "for i in range(10):\n",
        "  print (f'{i}제곱값= {i**2}')"
      ],
      "execution_count": 144,
      "outputs": [
        {
          "output_type": "stream",
          "text": [
            "0제곱값= 0\n",
            "1제곱값= 1\n",
            "2제곱값= 4\n",
            "3제곱값= 9\n",
            "4제곱값= 16\n",
            "5제곱값= 25\n",
            "6제곱값= 36\n",
            "7제곱값= 49\n",
            "8제곱값= 64\n",
            "9제곱값= 81\n"
          ],
          "name": "stdout"
        }
      ]
    },
    {
      "cell_type": "code",
      "metadata": {
        "colab": {
          "base_uri": "https://localhost:8080/"
        },
        "id": "_O_B1RaJFXoH",
        "outputId": "86096d4c-e1b0-4408-ed74-fd57a0c313c3"
      },
      "source": [
        "for _ in range(5):\n",
        "  print(\"전기과화이;팅~~~~~~~~~~~~\") "
      ],
      "execution_count": 145,
      "outputs": [
        {
          "output_type": "stream",
          "text": [
            "전기과화이;팅~~~~~~~~~~~~\n",
            "전기과화이;팅~~~~~~~~~~~~\n",
            "전기과화이;팅~~~~~~~~~~~~\n",
            "전기과화이;팅~~~~~~~~~~~~\n",
            "전기과화이;팅~~~~~~~~~~~~\n"
          ],
          "name": "stdout"
        }
      ]
    },
    {
      "cell_type": "code",
      "metadata": {
        "colab": {
          "base_uri": "https://localhost:8080/"
        },
        "id": "Yg5ZQJEDGHzc",
        "outputId": "49840125-315f-4c33-ae99-0d50d4770393"
      },
      "source": [
        "range(5)"
      ],
      "execution_count": 146,
      "outputs": [
        {
          "output_type": "execute_result",
          "data": {
            "text/plain": [
              "range(0, 5)"
            ]
          },
          "metadata": {
            "tags": []
          },
          "execution_count": 146
        }
      ]
    },
    {
      "cell_type": "code",
      "metadata": {
        "id": "UTU_lfh_GMe2"
      },
      "source": [
        ""
      ],
      "execution_count": null,
      "outputs": []
    }
  ]
}