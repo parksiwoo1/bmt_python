{
  "nbformat": 4,
  "nbformat_minor": 0,
  "metadata": {
    "colab": {
      "name": "21511_5주차실습.ipynb",
      "provenance": [],
      "collapsed_sections": [],
      "authorship_tag": "ABX9TyOaw30tLbkZ+z3bgpq1M1D4",
      "include_colab_link": true
    },
    "kernelspec": {
      "name": "python3",
      "display_name": "Python 3"
    },
    "language_info": {
      "name": "python"
    }
  },
  "cells": [
    {
      "cell_type": "markdown",
      "metadata": {
        "id": "view-in-github",
        "colab_type": "text"
      },
      "source": [
        "<a href=\"https://colab.research.google.com/github/parksiwoo1/bmt_python/blob/main/21511_5%EC%A3%BC%EC%B0%A8%EC%8B%A4%EC%8A%B5.ipynb\" target=\"_parent\"><img src=\"https://colab.research.google.com/assets/colab-badge.svg\" alt=\"Open In Colab\"/></a>"
      ]
    },
    {
      "cell_type": "code",
      "metadata": {
        "id": "bz4vwIYR17X0"
      },
      "source": [
        "corona = '''\n",
        "코로나(corona)는 라틴말로 왕관을 뜻하며 통상 태양을 둘러싼 외곽의 빛(광환)을 지칭한다.\n",
        "코로나 바이러스라는 이름은 전자현미경으로 이 바이러스를 관찰했을 때 마치 코로나와 유사한 모양을 띠어 붙여진 이름이다.\n",
        "이번에 중국의 우환에서 시작된 코로나 바이러스는 2019년에 발견된 새로운 코로나 바이러스라는 뜻으로 2019-nCov로 붙여졌다.\n",
        "nCov는 novel(새로운) Cov(코로나 바이러스)라는 뜻이다.\n",
        "'''"
      ],
      "execution_count": 1,
      "outputs": []
    },
    {
      "cell_type": "code",
      "metadata": {
        "colab": {
          "base_uri": "https://localhost:8080/",
          "height": 89
        },
        "id": "VK2HFwkv2IZ6",
        "outputId": "9047bae3-a05c-4870-95eb-4d4405e827fe"
      },
      "source": [
        "corona"
      ],
      "execution_count": 2,
      "outputs": [
        {
          "output_type": "execute_result",
          "data": {
            "application/vnd.google.colaboratory.intrinsic+json": {
              "type": "string"
            },
            "text/plain": [
              "'\\n코로나(corona)는 라틴말로 왕관을 뜻하며 통상 태양을 둘러싼 외곽의 빛(광환)을 지칭한다.\\n코로나 바이러스라는 이름은 전자현미경으로 이 바이러스를 관찰했을 때 마치 코로나와 유사한 모양을 띠어 붙여진 이름이다.\\n이번에 중국의 우환에서 시작된 코로나 바이러스는 2019년에 발견된 새로운 코로나 바이러스라는 뜻으로 2019-nCov로 붙여졌다.\\nnCov는 novel(새로운) Cov(코로나 바이러스)라는 뜻이다.\\n'"
            ]
          },
          "metadata": {
            "tags": []
          },
          "execution_count": 2
        }
      ]
    },
    {
      "cell_type": "code",
      "metadata": {
        "colab": {
          "base_uri": "https://localhost:8080/"
        },
        "id": "Yk7j4Luo2LRr",
        "outputId": "43068c8f-8e35-4d3d-bb41-7fe51fc90b80"
      },
      "source": [
        "print('-'*50)"
      ],
      "execution_count": 4,
      "outputs": [
        {
          "output_type": "stream",
          "text": [
            "--------------------------------------------------\n"
          ],
          "name": "stdout"
        }
      ]
    },
    {
      "cell_type": "code",
      "metadata": {
        "colab": {
          "base_uri": "https://localhost:8080/"
        },
        "id": "GdjjWSQX2pEj",
        "outputId": "6026e3f7-e792-4cea-f3f1-f050de5be316"
      },
      "source": [
        "sentence=corona.count('.')\n",
        "sentence"
      ],
      "execution_count": 5,
      "outputs": [
        {
          "output_type": "execute_result",
          "data": {
            "text/plain": [
              "4"
            ]
          },
          "metadata": {
            "tags": []
          },
          "execution_count": 5
        }
      ]
    },
    {
      "cell_type": "code",
      "metadata": {
        "colab": {
          "base_uri": "https://localhost:8080/"
        },
        "id": "BM9ED_Ej3Ie4",
        "outputId": "93ab6c30-b1e0-4fa4-cb82-268f1e1fde9a"
      },
      "source": [
        "print(f\"{sentence}개의 문장으로 이루어짐.\")"
      ],
      "execution_count": 8,
      "outputs": [
        {
          "output_type": "stream",
          "text": [
            "4개의 문장으로 이루어짐.\n"
          ],
          "name": "stdout"
        }
      ]
    },
    {
      "cell_type": "code",
      "metadata": {
        "colab": {
          "base_uri": "https://localhost:8080/",
          "height": 89
        },
        "id": "JAwrBC2A3WhD",
        "outputId": "8bc3fa77-b025-4b17-c8fe-8b640294f691"
      },
      "source": [
        "temp=(corona.replace(\"\\n\",''))\n",
        "temp"
      ],
      "execution_count": 11,
      "outputs": [
        {
          "output_type": "execute_result",
          "data": {
            "application/vnd.google.colaboratory.intrinsic+json": {
              "type": "string"
            },
            "text/plain": [
              "'코로나(corona)는 라틴말로 왕관을 뜻하며 통상 태양을 둘러싼 외곽의 빛(광환)을 지칭한다.코로나 바이러스라는 이름은 전자현미경으로 이 바이러스를 관찰했을 때 마치 코로나와 유사한 모양을 띠어 붙여진 이름이다.이번에 중국의 우환에서 시작된 코로나 바이러스는 2019년에 발견된 새로운 코로나 바이러스라는 뜻으로 2019-nCov로 붙여졌다.nCov는 novel(새로운) Cov(코로나 바이러스)라는 뜻이다.'"
            ]
          },
          "metadata": {
            "tags": []
          },
          "execution_count": 11
        }
      ]
    },
    {
      "cell_type": "code",
      "metadata": {
        "colab": {
          "base_uri": "https://localhost:8080/"
        },
        "id": "yH9GJCeS35Fa",
        "outputId": "8fad369d-81d9-4738-8d32-d50727c27638"
      },
      "source": [
        "temp1=temp.split('.')\n",
        "temp1"
      ],
      "execution_count": 13,
      "outputs": [
        {
          "output_type": "execute_result",
          "data": {
            "text/plain": [
              "['코로나(corona)는 라틴말로 왕관을 뜻하며 통상 태양을 둘러싼 외곽의 빛(광환)을 지칭한다',\n",
              " '코로나 바이러스라는 이름은 전자현미경으로 이 바이러스를 관찰했을 때 마치 코로나와 유사한 모양을 띠어 붙여진 이름이다',\n",
              " '이번에 중국의 우환에서 시작된 코로나 바이러스는 2019년에 발견된 새로운 코로나 바이러스라는 뜻으로 2019-nCov로 붙여졌다',\n",
              " 'nCov는 novel(새로운) Cov(코로나 바이러스)라는 뜻이다',\n",
              " '']"
            ]
          },
          "metadata": {
            "tags": []
          },
          "execution_count": 13
        }
      ]
    },
    {
      "cell_type": "code",
      "metadata": {
        "colab": {
          "base_uri": "https://localhost:8080/"
        },
        "id": "xqTC33-Z4KZE",
        "outputId": "f972cb72-9f3f-4d02-c668-3deaf1f8cdef"
      },
      "source": [
        "len(temp1)"
      ],
      "execution_count": 14,
      "outputs": [
        {
          "output_type": "execute_result",
          "data": {
            "text/plain": [
              "5"
            ]
          },
          "metadata": {
            "tags": []
          },
          "execution_count": 14
        }
      ]
    },
    {
      "cell_type": "code",
      "metadata": {
        "colab": {
          "base_uri": "https://localhost:8080/",
          "height": 35
        },
        "id": "QbRj2QJb4e66",
        "outputId": "b2a497fa-9e17-49f0-f170-b54c7735ff26"
      },
      "source": [
        "temp1[0]"
      ],
      "execution_count": 15,
      "outputs": [
        {
          "output_type": "execute_result",
          "data": {
            "application/vnd.google.colaboratory.intrinsic+json": {
              "type": "string"
            },
            "text/plain": [
              "'코로나(corona)는 라틴말로 왕관을 뜻하며 통상 태양을 둘러싼 외곽의 빛(광환)을 지칭한다'"
            ]
          },
          "metadata": {
            "tags": []
          },
          "execution_count": 15
        }
      ]
    },
    {
      "cell_type": "code",
      "metadata": {
        "colab": {
          "base_uri": "https://localhost:8080/"
        },
        "id": "BrSIAxX44lPO",
        "outputId": "292cd107-0299-45e5-c5f5-005a0a09de55"
      },
      "source": [
        "corona.replace('\\n','').split('.')"
      ],
      "execution_count": 17,
      "outputs": [
        {
          "output_type": "execute_result",
          "data": {
            "text/plain": [
              "['코로나(corona)는 라틴말로 왕관을 뜻하며 통상 태양을 둘러싼 외곽의 빛(광환)을 지칭한다',\n",
              " '코로나 바이러스라는 이름은 전자현미경으로 이 바이러스를 관찰했을 때 마치 코로나와 유사한 모양을 띠어 붙여진 이름이다',\n",
              " '이번에 중국의 우환에서 시작된 코로나 바이러스는 2019년에 발견된 새로운 코로나 바이러스라는 뜻으로 2019-nCov로 붙여졌다',\n",
              " 'nCov는 novel(새로운) Cov(코로나 바이러스)라는 뜻이다',\n",
              " '']"
            ]
          },
          "metadata": {
            "tags": []
          },
          "execution_count": 17
        }
      ]
    },
    {
      "cell_type": "code",
      "metadata": {
        "colab": {
          "base_uri": "https://localhost:8080/"
        },
        "id": "GCADid2e4mdD",
        "outputId": "d29d9491-8b20-446a-e960-bec2584f7e8c"
      },
      "source": [
        "str_word=input(\"찾으려는 단어 입력: \")"
      ],
      "execution_count": 18,
      "outputs": [
        {
          "output_type": "stream",
          "text": [
            "찾으려는 단어 입력: 코로나\n"
          ],
          "name": "stdout"
        }
      ]
    },
    {
      "cell_type": "code",
      "metadata": {
        "colab": {
          "base_uri": "https://localhost:8080/"
        },
        "id": "jF5b5-kA5KKs",
        "outputId": "9c06e9da-9810-407a-afea-e1febb22c444"
      },
      "source": [
        "corona.count(str_word)"
      ],
      "execution_count": 19,
      "outputs": [
        {
          "output_type": "execute_result",
          "data": {
            "text/plain": [
              "6"
            ]
          },
          "metadata": {
            "tags": []
          },
          "execution_count": 19
        }
      ]
    },
    {
      "cell_type": "code",
      "metadata": {
        "colab": {
          "base_uri": "https://localhost:8080/"
        },
        "id": "9kKpAPgV5UtU",
        "outputId": "62f12b93-d29b-4f5b-e2cf-0da970d6ef1f"
      },
      "source": [
        "lyrics='''\n",
        "Think I seen your face\n",
        "Can't remember when\n",
        "Feel so out of place\n",
        "But it's alright\n",
        "Outfit extra clean\n",
        "In the VIP\n",
        "You sitting next to me\n",
        "Looking pretty, tell me what you need\n",
        "Tell me what you want\n",
        "Tell me what you came for\n",
        "Having a lotta fun?\n",
        "Getting your drinks on?\n",
        "Curving them scrubs?\n",
        "Do you good girls like you get loose too\n",
        "Said you love my crew\n",
        "And you love my music\n",
        "Showing a lot of interest\n",
        "In what I do and where my stu is\n",
        "They say Lucipher's\n",
        "Got the most attractive face\n",
        "Everything about you tells me\n",
        "That you might be fake\n",
        "Understand I ain't the\n",
        "Type to quickly judge but you\n",
        "Just wanna hold my hands\n",
        "Especially in front of all my fans\n",
        "You say you love me\n",
        "But you keep asking 'bout my friends\n",
        "My friends\n",
        "Begging for selfies\n",
        "So you can flex on your friends\n",
        "Your friends\n",
        "Are you a groupie?\n",
        "Tell me straight up\n",
        "Is you a groupie?\n",
        "I'm tryna do me\n",
        "Don't waste my time\n",
        "Is you a groupie?\n",
        "People in the club\n",
        "Thinkin you and me, we best of friends\n",
        "Girls be grillin' at you all night\n",
        "Please don't mess with them\n",
        "Itty bitty pretty kitty\n",
        "Finna get freaky with me, yeah\n",
        "Pictures and the kisses\n",
        "Oh my God you so restless\n",
        "Why you gotta be so hot?\n",
        "Why you gotta be so cute?\n",
        "Woulda been easy\n",
        "Tryna be breezy\n",
        "But I can't keep my cool\n",
        "Why you gotta be so blunt?\n",
        "Why you gotta be so nosy?\n",
        "Feels like you tryna interview\n",
        "But you ain't really gotta know me\n",
        "All my friends tell me\n",
        "You just want my dollars\n",
        "Only tryna flex for the gram\n",
        "And I should never call you\n",
        "Benefit of the clout\n",
        "It's a problem\n",
        "Yeah, you know it's true\n",
        "Want my fame\n",
        "My last name\n",
        "And my feelings too\n",
        "You say you love me\n",
        "But you keep asking 'bout my friends\n",
        "My friends\n",
        "Begging for selfies\n",
        "So you can flex on your friends\n",
        "Your friends\n",
        "Are you a groupie?\n",
        "Tell me straight up\n",
        "Is you a groupie?\n",
        "I'm tryna do me\n",
        "Don't waste my time\n",
        "Is you a groupie?\n",
        "Fever\n",
        "I need to recover from the sickness\n",
        "We are\n",
        "Nothing but what is left of business\n",
        "Fever\n",
        "I need to recover from the sickness\n",
        "We are\n",
        "Nothing but what is left of business\n",
        "Fever but it's alright\n",
        "I'ma stay home by myself all night\n",
        "Please, girl, hear me out\n",
        "Stay away from me, stay out of my sight\n",
        "Fever but it's alright\n",
        "Imma stay home by myself all night\n",
        "Please, girl, hear me out\n",
        "Stay away from me, stay out of my sight\n",
        "'''\n",
        "\n",
        "song=lyrics.count('\\n')\n",
        "print(f\"{song-1}개의 문장으로 이루어짐\")"
      ],
      "execution_count": 23,
      "outputs": [
        {
          "output_type": "stream",
          "text": [
            "93개의 문장으로 이루어짐\n"
          ],
          "name": "stdout"
        }
      ]
    },
    {
      "cell_type": "code",
      "metadata": {
        "colab": {
          "base_uri": "https://localhost:8080/"
        },
        "id": "ZqZ6-h3F51rT",
        "outputId": "707d61c5-9c09-4455-e1cd-805118395319"
      },
      "source": [
        "print(lyrics.replace(\"\\n\",\".\").split('.'))"
      ],
      "execution_count": 25,
      "outputs": [
        {
          "output_type": "stream",
          "text": [
            "['', 'Think I seen your face', \"Can't remember when\", 'Feel so out of place', \"But it's alright\", 'Outfit extra clean', 'In the VIP', 'You sitting next to me', 'Looking pretty, tell me what you need', 'Tell me what you want', 'Tell me what you came for', 'Having a lotta fun?', 'Getting your drinks on?', 'Curving them scrubs?', 'Do you good girls like you get loose too', 'Said you love my crew', 'And you love my music', 'Showing a lot of interest', 'In what I do and where my stu is', \"They say Lucipher's\", 'Got the most attractive face', 'Everything about you tells me', 'That you might be fake', \"Understand I ain't the\", 'Type to quickly judge but you', 'Just wanna hold my hands', 'Especially in front of all my fans', 'You say you love me', \"But you keep asking 'bout my friends\", 'My friends', 'Begging for selfies', 'So you can flex on your friends', 'Your friends', 'Are you a groupie?', 'Tell me straight up', 'Is you a groupie?', \"I'm tryna do me\", \"Don't waste my time\", 'Is you a groupie?', 'People in the club', 'Thinkin you and me, we best of friends', \"Girls be grillin' at you all night\", \"Please don't mess with them\", 'Itty bitty pretty kitty', 'Finna get freaky with me, yeah', 'Pictures and the kisses', 'Oh my God you so restless', 'Why you gotta be so hot?', 'Why you gotta be so cute?', 'Woulda been easy', 'Tryna be breezy', \"But I can't keep my cool\", 'Why you gotta be so blunt?', 'Why you gotta be so nosy?', 'Feels like you tryna interview', \"But you ain't really gotta know me\", 'All my friends tell me', 'You just want my dollars', 'Only tryna flex for the gram', 'And I should never call you', 'Benefit of the clout', \"It's a problem\", \"Yeah, you know it's true\", 'Want my fame', 'My last name', 'And my feelings too', 'You say you love me', \"But you keep asking 'bout my friends\", 'My friends', 'Begging for selfies', 'So you can flex on your friends', 'Your friends', 'Are you a groupie?', 'Tell me straight up', 'Is you a groupie?', \"I'm tryna do me\", \"Don't waste my time\", 'Is you a groupie?', 'Fever', 'I need to recover from the sickness', 'We are', 'Nothing but what is left of business', 'Fever', 'I need to recover from the sickness', 'We are', 'Nothing but what is left of business', \"Fever but it's alright\", \"I'ma stay home by myself all night\", 'Please, girl, hear me out', 'Stay away from me, stay out of my sight', \"Fever but it's alright\", 'Imma stay home by myself all night', 'Please, girl, hear me out', 'Stay away from me, stay out of my sight', '']\n"
          ],
          "name": "stdout"
        }
      ]
    },
    {
      "cell_type": "code",
      "metadata": {
        "colab": {
          "base_uri": "https://localhost:8080/"
        },
        "id": "OiI2lKLP6Z3b",
        "outputId": "b0bb15eb-8ecb-4558-e124-9d50158e90f8"
      },
      "source": [
        "str_word=input('찾는 단어 입력: ')\n",
        "lyrics.count(str_word)"
      ],
      "execution_count": 29,
      "outputs": [
        {
          "output_type": "stream",
          "text": [
            "찾는 단어 입력: groupie\n"
          ],
          "name": "stdout"
        },
        {
          "output_type": "execute_result",
          "data": {
            "text/plain": [
              "6"
            ]
          },
          "metadata": {
            "tags": []
          },
          "execution_count": 29
        }
      ]
    },
    {
      "cell_type": "code",
      "metadata": {
        "colab": {
          "base_uri": "https://localhost:8080/"
        },
        "id": "7FzGwOk16m0i",
        "outputId": "a0d430bf-1b86-49e7-ca7d-b5975cafc809"
      },
      "source": [
        "lst=[]\n",
        "print(lst)"
      ],
      "execution_count": 37,
      "outputs": [
        {
          "output_type": "stream",
          "text": [
            "[]\n"
          ],
          "name": "stdout"
        }
      ]
    },
    {
      "cell_type": "code",
      "metadata": {
        "colab": {
          "base_uri": "https://localhost:8080/"
        },
        "id": "dkGpU-Z26v_y",
        "outputId": "80192bed-f165-4e08-c221-35771424f8fb"
      },
      "source": [
        "lst1=list ()\n",
        "lst1"
      ],
      "execution_count": 38,
      "outputs": [
        {
          "output_type": "execute_result",
          "data": {
            "text/plain": [
              "[]"
            ]
          },
          "metadata": {
            "tags": []
          },
          "execution_count": 38
        }
      ]
    },
    {
      "cell_type": "code",
      "metadata": {
        "colab": {
          "base_uri": "https://localhost:8080/"
        },
        "id": "ztn1SZHQ737U",
        "outputId": "236f17d4-0c99-4200-e51b-16235a41cd68"
      },
      "source": [
        "lst2=[1,2,3]\n",
        "lst2"
      ],
      "execution_count": 40,
      "outputs": [
        {
          "output_type": "execute_result",
          "data": {
            "text/plain": [
              "[1, 2, 3]"
            ]
          },
          "metadata": {
            "tags": []
          },
          "execution_count": 40
        }
      ]
    },
    {
      "cell_type": "code",
      "metadata": {
        "id": "AAz-kWTt778S"
      },
      "source": [
        "lst=lst2"
      ],
      "execution_count": 41,
      "outputs": []
    },
    {
      "cell_type": "code",
      "metadata": {
        "colab": {
          "base_uri": "https://localhost:8080/"
        },
        "id": "T-ZGZ7WK8U8K",
        "outputId": "68958974-3abe-4f38-a39f-447ff05326b0"
      },
      "source": [
        "lst"
      ],
      "execution_count": 42,
      "outputs": [
        {
          "output_type": "execute_result",
          "data": {
            "text/plain": [
              "[1, 2, 3]"
            ]
          },
          "metadata": {
            "tags": []
          },
          "execution_count": 42
        }
      ]
    },
    {
      "cell_type": "code",
      "metadata": {
        "colab": {
          "base_uri": "https://localhost:8080/"
        },
        "id": "KaWPvyKA8VuC",
        "outputId": "503f4e53-47f7-4988-c7a4-c0cf488ca236"
      },
      "source": [
        "lst2"
      ],
      "execution_count": 43,
      "outputs": [
        {
          "output_type": "execute_result",
          "data": {
            "text/plain": [
              "[1, 2, 3]"
            ]
          },
          "metadata": {
            "tags": []
          },
          "execution_count": 43
        }
      ]
    },
    {
      "cell_type": "code",
      "metadata": {
        "id": "PYiNyfYY8WIW"
      },
      "source": [
        "lst2[0]=1"
      ],
      "execution_count": 51,
      "outputs": []
    },
    {
      "cell_type": "code",
      "metadata": {
        "id": "Hi-xUE778jHj"
      },
      "source": [
        "lst=lst2.copy()"
      ],
      "execution_count": 52,
      "outputs": []
    },
    {
      "cell_type": "code",
      "metadata": {
        "colab": {
          "base_uri": "https://localhost:8080/"
        },
        "id": "W5ljrNnA8xek",
        "outputId": "8bdeb4b3-a4a1-4b03-8b88-48f10e3be83a"
      },
      "source": [
        "lst"
      ],
      "execution_count": 53,
      "outputs": [
        {
          "output_type": "execute_result",
          "data": {
            "text/plain": [
              "[1, 2, 3]"
            ]
          },
          "metadata": {
            "tags": []
          },
          "execution_count": 53
        }
      ]
    },
    {
      "cell_type": "code",
      "metadata": {
        "colab": {
          "base_uri": "https://localhost:8080/"
        },
        "id": "p3VweovF8yDz",
        "outputId": "6c14d5c4-beee-40a6-a529-5d1dbe6b47de"
      },
      "source": [
        "lst"
      ],
      "execution_count": 54,
      "outputs": [
        {
          "output_type": "execute_result",
          "data": {
            "text/plain": [
              "[1, 2, 3]"
            ]
          },
          "metadata": {
            "tags": []
          },
          "execution_count": 54
        }
      ]
    },
    {
      "cell_type": "code",
      "metadata": {
        "colab": {
          "base_uri": "https://localhost:8080/"
        },
        "id": "_TRCkfsp9Cxr",
        "outputId": "0f73f079-5330-4dc0-eadc-08bf833a0e43"
      },
      "source": [
        "lst[0]"
      ],
      "execution_count": 55,
      "outputs": [
        {
          "output_type": "execute_result",
          "data": {
            "text/plain": [
              "1"
            ]
          },
          "metadata": {
            "tags": []
          },
          "execution_count": 55
        }
      ]
    },
    {
      "cell_type": "code",
      "metadata": {
        "colab": {
          "base_uri": "https://localhost:8080/"
        },
        "id": "uHku430v9FkT",
        "outputId": "f6b966cf-442f-41bc-9cb5-2cfc4673d731"
      },
      "source": [
        "lst[-1]"
      ],
      "execution_count": 56,
      "outputs": [
        {
          "output_type": "execute_result",
          "data": {
            "text/plain": [
              "3"
            ]
          },
          "metadata": {
            "tags": []
          },
          "execution_count": 56
        }
      ]
    },
    {
      "cell_type": "code",
      "metadata": {
        "colab": {
          "base_uri": "https://localhost:8080/"
        },
        "id": "K120qNug9Ghy",
        "outputId": "4b907553-cd3f-4a51-c1a1-1ee2de3f5ebb"
      },
      "source": [
        "lst[:]"
      ],
      "execution_count": 57,
      "outputs": [
        {
          "output_type": "execute_result",
          "data": {
            "text/plain": [
              "[1, 2, 3]"
            ]
          },
          "metadata": {
            "tags": []
          },
          "execution_count": 57
        }
      ]
    },
    {
      "cell_type": "code",
      "metadata": {
        "colab": {
          "base_uri": "https://localhost:8080/"
        },
        "id": "jfLoEZNn9M_z",
        "outputId": "6901ee07-d848-438a-c240-5ad72774e5f9"
      },
      "source": [
        "lst[:2]"
      ],
      "execution_count": 58,
      "outputs": [
        {
          "output_type": "execute_result",
          "data": {
            "text/plain": [
              "[1, 2]"
            ]
          },
          "metadata": {
            "tags": []
          },
          "execution_count": 58
        }
      ]
    },
    {
      "cell_type": "code",
      "metadata": {
        "colab": {
          "base_uri": "https://localhost:8080/"
        },
        "id": "_dPuLhbf9PAr",
        "outputId": "6bbaf917-332b-4d08-b2b9-8c2371b1a242"
      },
      "source": [
        "lst[1:]"
      ],
      "execution_count": 59,
      "outputs": [
        {
          "output_type": "execute_result",
          "data": {
            "text/plain": [
              "[2, 3]"
            ]
          },
          "metadata": {
            "tags": []
          },
          "execution_count": 59
        }
      ]
    },
    {
      "cell_type": "code",
      "metadata": {
        "id": "NfwbfyrW9T2M"
      },
      "source": [
        "lst1=[1,2]\n",
        "lst2=[10,20]"
      ],
      "execution_count": 60,
      "outputs": []
    },
    {
      "cell_type": "code",
      "metadata": {
        "colab": {
          "base_uri": "https://localhost:8080/"
        },
        "id": "ZEmOiTet9gUq",
        "outputId": "508080aa-a341-4ff1-cc63-0206857159e8"
      },
      "source": [
        "lst3=lst1+lst2\n",
        "lst3"
      ],
      "execution_count": 64,
      "outputs": [
        {
          "output_type": "execute_result",
          "data": {
            "text/plain": [
              "[1, 2, 10, 20]"
            ]
          },
          "metadata": {
            "tags": []
          },
          "execution_count": 64
        }
      ]
    },
    {
      "cell_type": "code",
      "metadata": {
        "colab": {
          "base_uri": "https://localhost:8080/"
        },
        "id": "dSSGCpgq9lJi",
        "outputId": "98c491f5-a53b-4ec7-a08b-31369b9986cc"
      },
      "source": [
        "lst4=lst3*3\n",
        "lst4"
      ],
      "execution_count": 67,
      "outputs": [
        {
          "output_type": "execute_result",
          "data": {
            "text/plain": [
              "[1, 2, 10, 20, 1, 2, 10, 20, 1, 2, 10, 20]"
            ]
          },
          "metadata": {
            "tags": []
          },
          "execution_count": 67
        }
      ]
    },
    {
      "cell_type": "code",
      "metadata": {
        "id": "hx23jhvt9vxZ"
      },
      "source": [
        "lst=['a','b','c']"
      ],
      "execution_count": 69,
      "outputs": []
    },
    {
      "cell_type": "code",
      "metadata": {
        "id": "Gi0X0x2f96ma"
      },
      "source": [
        "lst.append(\"d\")"
      ],
      "execution_count": 71,
      "outputs": []
    },
    {
      "cell_type": "code",
      "metadata": {
        "colab": {
          "base_uri": "https://localhost:8080/"
        },
        "id": "DDepHtKW-CmC",
        "outputId": "97a1bdce-77c0-4748-a09c-a88b63e7a020"
      },
      "source": [
        "lst"
      ],
      "execution_count": 72,
      "outputs": [
        {
          "output_type": "execute_result",
          "data": {
            "text/plain": [
              "['a', 'b', 'c', 'd']"
            ]
          },
          "metadata": {
            "tags": []
          },
          "execution_count": 72
        }
      ]
    },
    {
      "cell_type": "code",
      "metadata": {
        "id": "A_Ry7pJw-Z1C"
      },
      "source": [
        "lst.append(100)"
      ],
      "execution_count": 73,
      "outputs": []
    },
    {
      "cell_type": "code",
      "metadata": {
        "colab": {
          "base_uri": "https://localhost:8080/"
        },
        "id": "iWNCWuHB-f66",
        "outputId": "738f92ce-a775-4851-a8db-1c8c22d734a0"
      },
      "source": [
        "lst"
      ],
      "execution_count": 74,
      "outputs": [
        {
          "output_type": "execute_result",
          "data": {
            "text/plain": [
              "['a', 'b', 'c', 'd', 100]"
            ]
          },
          "metadata": {
            "tags": []
          },
          "execution_count": 74
        }
      ]
    },
    {
      "cell_type": "code",
      "metadata": {
        "colab": {
          "base_uri": "https://localhost:8080/"
        },
        "id": "XL6vh_2--gnE",
        "outputId": "1f73c9a1-6b42-4a13-9511-eb7f780fd5ec"
      },
      "source": [
        "lst.pop()"
      ],
      "execution_count": 75,
      "outputs": [
        {
          "output_type": "execute_result",
          "data": {
            "text/plain": [
              "100"
            ]
          },
          "metadata": {
            "tags": []
          },
          "execution_count": 75
        }
      ]
    },
    {
      "cell_type": "code",
      "metadata": {
        "colab": {
          "base_uri": "https://localhost:8080/"
        },
        "id": "Mp7X2vBL-oOy",
        "outputId": "babf8ebd-7c83-430f-a905-ea246975a1da"
      },
      "source": [
        "lst"
      ],
      "execution_count": 76,
      "outputs": [
        {
          "output_type": "execute_result",
          "data": {
            "text/plain": [
              "['a', 'b', 'c', 'd']"
            ]
          },
          "metadata": {
            "tags": []
          },
          "execution_count": 76
        }
      ]
    },
    {
      "cell_type": "code",
      "metadata": {
        "colab": {
          "base_uri": "https://localhost:8080/"
        },
        "id": "2zqDPn2W-osK",
        "outputId": "655ca24d-023a-427b-bf24-95f7de91989e"
      },
      "source": [
        "lst.pop()\n",
        "lst"
      ],
      "execution_count": 78,
      "outputs": [
        {
          "output_type": "execute_result",
          "data": {
            "text/plain": [
              "['a', 'b']"
            ]
          },
          "metadata": {
            "tags": []
          },
          "execution_count": 78
        }
      ]
    },
    {
      "cell_type": "code",
      "metadata": {
        "id": "vh5zU5ae-4cL"
      },
      "source": [
        "lst.append(\"c\")"
      ],
      "execution_count": 79,
      "outputs": []
    },
    {
      "cell_type": "code",
      "metadata": {
        "colab": {
          "base_uri": "https://localhost:8080/"
        },
        "id": "7hB5GH_d-9iS",
        "outputId": "bead08df-d80e-4e96-f834-df2c79ff999e"
      },
      "source": [
        "lst.index('a')"
      ],
      "execution_count": 80,
      "outputs": [
        {
          "output_type": "execute_result",
          "data": {
            "text/plain": [
              "0"
            ]
          },
          "metadata": {
            "tags": []
          },
          "execution_count": 80
        }
      ]
    },
    {
      "cell_type": "code",
      "metadata": {
        "colab": {
          "base_uri": "https://localhost:8080/",
          "height": 35
        },
        "id": "B-PfqdJH_CmT",
        "outputId": "b1ab88dc-23bd-475a-e992-abef90eaa7df"
      },
      "source": [
        "lst[0]"
      ],
      "execution_count": 81,
      "outputs": [
        {
          "output_type": "execute_result",
          "data": {
            "application/vnd.google.colaboratory.intrinsic+json": {
              "type": "string"
            },
            "text/plain": [
              "'a'"
            ]
          },
          "metadata": {
            "tags": []
          },
          "execution_count": 81
        }
      ]
    },
    {
      "cell_type": "code",
      "metadata": {
        "id": "WagYntDT_KBb"
      },
      "source": [
        "lst.sort()"
      ],
      "execution_count": 83,
      "outputs": []
    },
    {
      "cell_type": "code",
      "metadata": {
        "colab": {
          "base_uri": "https://localhost:8080/"
        },
        "id": "j-Jn_TXfB6T6",
        "outputId": "1cdb6139-2a66-44c9-bb54-19a1a68677b5"
      },
      "source": [
        "lst.sort(reverse=True)\n",
        "lst"
      ],
      "execution_count": 87,
      "outputs": [
        {
          "output_type": "execute_result",
          "data": {
            "text/plain": [
              "['c', 'b', 'a']"
            ]
          },
          "metadata": {
            "tags": []
          },
          "execution_count": 87
        }
      ]
    },
    {
      "cell_type": "code",
      "metadata": {
        "id": "9uIxaSL3B71k"
      },
      "source": [
        "lst=tuple(lst)"
      ],
      "execution_count": 88,
      "outputs": []
    },
    {
      "cell_type": "code",
      "metadata": {
        "colab": {
          "base_uri": "https://localhost:8080/"
        },
        "id": "ZHV5S4EiDPA0",
        "outputId": "901b1f6d-db53-412b-a0e4-41c8def28bc1"
      },
      "source": [
        "lst"
      ],
      "execution_count": 89,
      "outputs": [
        {
          "output_type": "execute_result",
          "data": {
            "text/plain": [
              "('c', 'b', 'a')"
            ]
          },
          "metadata": {
            "tags": []
          },
          "execution_count": 89
        }
      ]
    },
    {
      "cell_type": "code",
      "metadata": {
        "id": "VmbCmuodDPxN"
      },
      "source": [
        "tp1=(10,20)\n",
        "tp2=(30,40)"
      ],
      "execution_count": 92,
      "outputs": []
    },
    {
      "cell_type": "code",
      "metadata": {
        "colab": {
          "base_uri": "https://localhost:8080/"
        },
        "id": "pbKgIO1pDiCb",
        "outputId": "8a2d7841-1a83-4da3-9ecb-cb0b64582e7d"
      },
      "source": [
        "tp3=tp1+tp2\n",
        "tp3"
      ],
      "execution_count": 94,
      "outputs": [
        {
          "output_type": "execute_result",
          "data": {
            "text/plain": [
              "(10, 20, 30, 40)"
            ]
          },
          "metadata": {
            "tags": []
          },
          "execution_count": 94
        }
      ]
    },
    {
      "cell_type": "code",
      "metadata": {
        "colab": {
          "base_uri": "https://localhost:8080/"
        },
        "id": "CELT-uS9DjGR",
        "outputId": "84803fe7-3b7e-4303-b24b-f2e337c8c96e"
      },
      "source": [
        "tp4=tp3*3\n",
        "tp4"
      ],
      "execution_count": 97,
      "outputs": [
        {
          "output_type": "execute_result",
          "data": {
            "text/plain": [
              "(10, 20, 30, 40, 10, 20, 30, 40, 10, 20, 30, 40)"
            ]
          },
          "metadata": {
            "tags": []
          },
          "execution_count": 97
        }
      ]
    },
    {
      "cell_type": "code",
      "metadata": {
        "id": "t8OWDQphDqMJ"
      },
      "source": [
        "tpx,tpy,tpz=(10,20,30)"
      ],
      "execution_count": 102,
      "outputs": []
    },
    {
      "cell_type": "code",
      "metadata": {
        "colab": {
          "base_uri": "https://localhost:8080/"
        },
        "id": "-2NySK-sD0UR",
        "outputId": "918af219-2adf-4a92-d11e-641aa1f9416d"
      },
      "source": [
        "type(tpy)"
      ],
      "execution_count": 104,
      "outputs": [
        {
          "output_type": "execute_result",
          "data": {
            "text/plain": [
              "int"
            ]
          },
          "metadata": {
            "tags": []
          },
          "execution_count": 104
        }
      ]
    },
    {
      "cell_type": "code",
      "metadata": {
        "colab": {
          "base_uri": "https://localhost:8080/",
          "height": 172
        },
        "id": "CvXsHeCID0_L",
        "outputId": "37942836-bcdc-4f6d-b53b-a44ff0908683"
      },
      "source": [
        "tp1[0]=1000"
      ],
      "execution_count": 105,
      "outputs": [
        {
          "output_type": "error",
          "ename": "TypeError",
          "evalue": "ignored",
          "traceback": [
            "\u001b[0;31m---------------------------------------------------------------------------\u001b[0m",
            "\u001b[0;31mTypeError\u001b[0m                                 Traceback (most recent call last)",
            "\u001b[0;32m<ipython-input-105-b80a778056af>\u001b[0m in \u001b[0;36m<module>\u001b[0;34m()\u001b[0m\n\u001b[0;32m----> 1\u001b[0;31m \u001b[0mtp1\u001b[0m\u001b[0;34m[\u001b[0m\u001b[0;36m0\u001b[0m\u001b[0;34m]\u001b[0m\u001b[0;34m=\u001b[0m\u001b[0;36m1000\u001b[0m\u001b[0;34m\u001b[0m\u001b[0;34m\u001b[0m\u001b[0m\n\u001b[0m",
            "\u001b[0;31mTypeError\u001b[0m: 'tuple' object does not support item assignment"
          ]
        }
      ]
    },
    {
      "cell_type": "code",
      "metadata": {
        "id": "L53mNkKOEMgE"
      },
      "source": [
        "dt={'a':1,'b':2,'c':3}"
      ],
      "execution_count": 110,
      "outputs": []
    },
    {
      "cell_type": "code",
      "metadata": {
        "colab": {
          "base_uri": "https://localhost:8080/"
        },
        "id": "PZ7h2DsWFG_C",
        "outputId": "ad8b66e6-9b14-4b33-a9da-dd713d3a4a0c"
      },
      "source": [
        "dt.keys()"
      ],
      "execution_count": 112,
      "outputs": [
        {
          "output_type": "execute_result",
          "data": {
            "text/plain": [
              "dict_keys(['a', 'b', 'c'])"
            ]
          },
          "metadata": {
            "tags": []
          },
          "execution_count": 112
        }
      ]
    },
    {
      "cell_type": "code",
      "metadata": {
        "colab": {
          "base_uri": "https://localhost:8080/"
        },
        "id": "lI500YKAFSrh",
        "outputId": "962d29fa-d6f2-4a24-d9f0-0ebdc310553b"
      },
      "source": [
        "dt.values()"
      ],
      "execution_count": 113,
      "outputs": [
        {
          "output_type": "execute_result",
          "data": {
            "text/plain": [
              "dict_values([1, 2, 3])"
            ]
          },
          "metadata": {
            "tags": []
          },
          "execution_count": 113
        }
      ]
    },
    {
      "cell_type": "code",
      "metadata": {
        "colab": {
          "base_uri": "https://localhost:8080/"
        },
        "id": "lTMj9DdEFXnR",
        "outputId": "456dd991-4268-460a-b2f7-158c4eeea082"
      },
      "source": [
        "list(dt.keys())"
      ],
      "execution_count": 114,
      "outputs": [
        {
          "output_type": "execute_result",
          "data": {
            "text/plain": [
              "['a', 'b', 'c']"
            ]
          },
          "metadata": {
            "tags": []
          },
          "execution_count": 114
        }
      ]
    },
    {
      "cell_type": "code",
      "metadata": {
        "colab": {
          "base_uri": "https://localhost:8080/"
        },
        "id": "f8V_IrrpFbZh",
        "outputId": "2ffb6088-5e0d-432c-83b4-bfad734da653"
      },
      "source": [
        "dt"
      ],
      "execution_count": 116,
      "outputs": [
        {
          "output_type": "execute_result",
          "data": {
            "text/plain": [
              "{'a': 1, 'b': 2, 'c': 3}"
            ]
          },
          "metadata": {
            "tags": []
          },
          "execution_count": 116
        }
      ]
    },
    {
      "cell_type": "code",
      "metadata": {
        "colab": {
          "base_uri": "https://localhost:8080/"
        },
        "id": "iD_sQb3CFe4S",
        "outputId": "f2ea6581-9d9d-42f7-ab39-5f461d05b379"
      },
      "source": [
        "dt['a']"
      ],
      "execution_count": 117,
      "outputs": [
        {
          "output_type": "execute_result",
          "data": {
            "text/plain": [
              "1"
            ]
          },
          "metadata": {
            "tags": []
          },
          "execution_count": 117
        }
      ]
    },
    {
      "cell_type": "code",
      "metadata": {
        "id": "h8Z5dGQGGAA7"
      },
      "source": [
        "dt['d']=1234134"
      ],
      "execution_count": 119,
      "outputs": []
    },
    {
      "cell_type": "code",
      "metadata": {
        "colab": {
          "base_uri": "https://localhost:8080/"
        },
        "id": "lqP8LaTvGInR",
        "outputId": "03dd6fcd-44a5-4bb0-b2cf-5628d9c5e5b3"
      },
      "source": [
        "dt"
      ],
      "execution_count": 120,
      "outputs": [
        {
          "output_type": "execute_result",
          "data": {
            "text/plain": [
              "{'a': 1, 'b': 2, 'c': 3, 'd': 1234134}"
            ]
          },
          "metadata": {
            "tags": []
          },
          "execution_count": 120
        }
      ]
    },
    {
      "cell_type": "code",
      "metadata": {
        "id": "YQkqB8zUGNIQ"
      },
      "source": [
        "del dt ['b']"
      ],
      "execution_count": 122,
      "outputs": []
    },
    {
      "cell_type": "code",
      "metadata": {
        "colab": {
          "base_uri": "https://localhost:8080/"
        },
        "id": "pYvVnCQyGRSo",
        "outputId": "bc138875-62eb-406e-9b94-ec28072fab87"
      },
      "source": [
        "dt"
      ],
      "execution_count": 123,
      "outputs": [
        {
          "output_type": "execute_result",
          "data": {
            "text/plain": [
              "{'a': 1, 'c': 3, 'd': 1234134}"
            ]
          },
          "metadata": {
            "tags": []
          },
          "execution_count": 123
        }
      ]
    },
    {
      "cell_type": "code",
      "metadata": {
        "id": "ES8AYGC_GTTQ"
      },
      "source": [
        "a=(1,2,2,2,2,3)\n",
        "b=[10,10,20,30]"
      ],
      "execution_count": 126,
      "outputs": []
    },
    {
      "cell_type": "code",
      "metadata": {
        "colab": {
          "base_uri": "https://localhost:8080/"
        },
        "id": "Qs98AoZiHHP6",
        "outputId": "ba30c938-fbd0-4561-f748-6bfbe538d712"
      },
      "source": [
        "type (a), type (b)"
      ],
      "execution_count": 127,
      "outputs": [
        {
          "output_type": "execute_result",
          "data": {
            "text/plain": [
              "(tuple, list)"
            ]
          },
          "metadata": {
            "tags": []
          },
          "execution_count": 127
        }
      ]
    },
    {
      "cell_type": "code",
      "metadata": {
        "colab": {
          "base_uri": "https://localhost:8080/"
        },
        "id": "Vdm4vN5KHNXJ",
        "outputId": "42703347-4efe-4840-bda8-d90007fa7628"
      },
      "source": [
        "c=set(a)\n",
        "c"
      ],
      "execution_count": 128,
      "outputs": [
        {
          "output_type": "execute_result",
          "data": {
            "text/plain": [
              "{1, 2, 3}"
            ]
          },
          "metadata": {
            "tags": []
          },
          "execution_count": 128
        }
      ]
    },
    {
      "cell_type": "code",
      "metadata": {
        "colab": {
          "base_uri": "https://localhost:8080/"
        },
        "id": "9AButV0qHWHp",
        "outputId": "175a9a1d-eac9-45f0-8328-99b04f5fd65a"
      },
      "source": [
        "type(c)"
      ],
      "execution_count": 130,
      "outputs": [
        {
          "output_type": "execute_result",
          "data": {
            "text/plain": [
              "set"
            ]
          },
          "metadata": {
            "tags": []
          },
          "execution_count": 130
        }
      ]
    },
    {
      "cell_type": "code",
      "metadata": {
        "id": "X3hr_oMhHeJB"
      },
      "source": [
        "d=set(b)"
      ],
      "execution_count": 131,
      "outputs": []
    },
    {
      "cell_type": "code",
      "metadata": {
        "colab": {
          "base_uri": "https://localhost:8080/"
        },
        "id": "Q9kIbcg0Hg2S",
        "outputId": "07a7751b-834a-40e2-da48-0531bb79a9a0"
      },
      "source": [
        "d"
      ],
      "execution_count": 133,
      "outputs": [
        {
          "output_type": "execute_result",
          "data": {
            "text/plain": [
              "{10, 20, 30}"
            ]
          },
          "metadata": {
            "tags": []
          },
          "execution_count": 133
        }
      ]
    },
    {
      "cell_type": "code",
      "metadata": {
        "id": "I9KsfYOIHhNZ"
      },
      "source": [
        "a=set(a)\n",
        "b=set(b)"
      ],
      "execution_count": 134,
      "outputs": []
    },
    {
      "cell_type": "code",
      "metadata": {
        "colab": {
          "base_uri": "https://localhost:8080/"
        },
        "id": "0oPCDOFsHu06",
        "outputId": "cc8b35fb-84ea-4889-9985-f9bc7139929a"
      },
      "source": [
        "a,b"
      ],
      "execution_count": 135,
      "outputs": [
        {
          "output_type": "execute_result",
          "data": {
            "text/plain": [
              "({1, 2, 3}, {10, 20, 30})"
            ]
          },
          "metadata": {
            "tags": []
          },
          "execution_count": 135
        }
      ]
    },
    {
      "cell_type": "code",
      "metadata": {
        "id": "PoDi1DD_HwEo"
      },
      "source": [
        "a.add(1)"
      ],
      "execution_count": 136,
      "outputs": []
    },
    {
      "cell_type": "code",
      "metadata": {
        "id": "nM6ccZhAHz6S"
      },
      "source": [
        "b.update({100,200,300}) "
      ],
      "execution_count": 138,
      "outputs": []
    },
    {
      "cell_type": "code",
      "metadata": {
        "colab": {
          "base_uri": "https://localhost:8080/"
        },
        "id": "jtPfFpU-H0sJ",
        "outputId": "c77ea192-ea85-48b2-fa28-d69f67731c74"
      },
      "source": [
        "b"
      ],
      "execution_count": 139,
      "outputs": [
        {
          "output_type": "execute_result",
          "data": {
            "text/plain": [
              "{10, 20, 30, 100, 200, 300}"
            ]
          },
          "metadata": {
            "tags": []
          },
          "execution_count": 139
        }
      ]
    },
    {
      "cell_type": "code",
      "metadata": {
        "colab": {
          "base_uri": "https://localhost:8080/"
        },
        "id": "8itiG42vIH1p",
        "outputId": "e809d6aa-c5a0-45b6-eba5-94866c4d33d1"
      },
      "source": [
        "type(a)"
      ],
      "execution_count": 140,
      "outputs": [
        {
          "output_type": "execute_result",
          "data": {
            "text/plain": [
              "set"
            ]
          },
          "metadata": {
            "tags": []
          },
          "execution_count": 140
        }
      ]
    },
    {
      "cell_type": "code",
      "metadata": {
        "colab": {
          "base_uri": "https://localhost:8080/"
        },
        "id": "wnt5T3wNISAS",
        "outputId": "676e8180-9e1d-47c1-9652-a5cb32d20918"
      },
      "source": [
        "a"
      ],
      "execution_count": 141,
      "outputs": [
        {
          "output_type": "execute_result",
          "data": {
            "text/plain": [
              "{1, 2, 3}"
            ]
          },
          "metadata": {
            "tags": []
          },
          "execution_count": 141
        }
      ]
    },
    {
      "cell_type": "code",
      "metadata": {
        "id": "-Lb2gcesIS8p"
      },
      "source": [
        "a.remove(1)"
      ],
      "execution_count": 143,
      "outputs": []
    },
    {
      "cell_type": "code",
      "metadata": {
        "colab": {
          "base_uri": "https://localhost:8080/"
        },
        "id": "vZ_q9-KJIVhZ",
        "outputId": "4a2dab65-959d-45b4-f4df-85c7a28d6334"
      },
      "source": [
        "a"
      ],
      "execution_count": 144,
      "outputs": [
        {
          "output_type": "execute_result",
          "data": {
            "text/plain": [
              "{2, 3}"
            ]
          },
          "metadata": {
            "tags": []
          },
          "execution_count": 144
        }
      ]
    },
    {
      "cell_type": "code",
      "metadata": {
        "id": "auJsGKc9IXzp"
      },
      "source": [
        "a.clear()"
      ],
      "execution_count": 147,
      "outputs": []
    },
    {
      "cell_type": "code",
      "metadata": {
        "colab": {
          "base_uri": "https://localhost:8080/"
        },
        "id": "tO2JgfxgIYzx",
        "outputId": "dce3fb07-e706-479f-887c-ccc0c8b8f5a3"
      },
      "source": [
        "a"
      ],
      "execution_count": 149,
      "outputs": [
        {
          "output_type": "execute_result",
          "data": {
            "text/plain": [
              "set()"
            ]
          },
          "metadata": {
            "tags": []
          },
          "execution_count": 149
        }
      ]
    },
    {
      "cell_type": "code",
      "metadata": {
        "id": "yWQjst87IZJp"
      },
      "source": [
        "a.update({100,200,300})"
      ],
      "execution_count": 150,
      "outputs": []
    },
    {
      "cell_type": "code",
      "metadata": {
        "colab": {
          "base_uri": "https://localhost:8080/"
        },
        "id": "JRBIGoMCIi6l",
        "outputId": "e536c825-5662-4024-9f1e-6892dc282012"
      },
      "source": [
        "a"
      ],
      "execution_count": 151,
      "outputs": [
        {
          "output_type": "execute_result",
          "data": {
            "text/plain": [
              "{100, 200, 300}"
            ]
          },
          "metadata": {
            "tags": []
          },
          "execution_count": 151
        }
      ]
    },
    {
      "cell_type": "code",
      "metadata": {
        "colab": {
          "base_uri": "https://localhost:8080/"
        },
        "id": "RQAT_gJ7IjK4",
        "outputId": "14bb8712-279f-4a4a-924a-21e29f410afd"
      },
      "source": [
        "b"
      ],
      "execution_count": 152,
      "outputs": [
        {
          "output_type": "execute_result",
          "data": {
            "text/plain": [
              "{10, 20, 30, 100, 200, 300}"
            ]
          },
          "metadata": {
            "tags": []
          },
          "execution_count": 152
        }
      ]
    },
    {
      "cell_type": "code",
      "metadata": {
        "colab": {
          "base_uri": "https://localhost:8080/"
        },
        "id": "JtOj7p46Ij2i",
        "outputId": "8939fc2a-af2a-40ee-c614-1fde6b2292a6"
      },
      "source": [
        "a&b"
      ],
      "execution_count": 153,
      "outputs": [
        {
          "output_type": "execute_result",
          "data": {
            "text/plain": [
              "{100, 200, 300}"
            ]
          },
          "metadata": {
            "tags": []
          },
          "execution_count": 153
        }
      ]
    },
    {
      "cell_type": "code",
      "metadata": {
        "colab": {
          "base_uri": "https://localhost:8080/"
        },
        "id": "0VuzIF1jIu_S",
        "outputId": "d38f5273-ac51-4b01-d2a9-c65760d5a3a1"
      },
      "source": [
        "a|b"
      ],
      "execution_count": 154,
      "outputs": [
        {
          "output_type": "execute_result",
          "data": {
            "text/plain": [
              "{10, 20, 30, 100, 200, 300}"
            ]
          },
          "metadata": {
            "tags": []
          },
          "execution_count": 154
        }
      ]
    },
    {
      "cell_type": "code",
      "metadata": {
        "colab": {
          "base_uri": "https://localhost:8080/"
        },
        "id": "gWrJPZ4bIxwy",
        "outputId": "45ec0933-d375-476d-dc48-4a9c5dd7727f"
      },
      "source": [
        "a-b"
      ],
      "execution_count": 155,
      "outputs": [
        {
          "output_type": "execute_result",
          "data": {
            "text/plain": [
              "set()"
            ]
          },
          "metadata": {
            "tags": []
          },
          "execution_count": 155
        }
      ]
    },
    {
      "cell_type": "code",
      "metadata": {
        "colab": {
          "base_uri": "https://localhost:8080/"
        },
        "id": "PewXBm_ZI0qQ",
        "outputId": "d4ecbd53-a25f-4aa7-e862-25c1b4c3cdac"
      },
      "source": [
        "b-a"
      ],
      "execution_count": 156,
      "outputs": [
        {
          "output_type": "execute_result",
          "data": {
            "text/plain": [
              "{10, 20, 30}"
            ]
          },
          "metadata": {
            "tags": []
          },
          "execution_count": 156
        }
      ]
    },
    {
      "cell_type": "code",
      "metadata": {
        "id": "9RBqzdVXI1t4"
      },
      "source": [
        "lst=[10,50,30]\n",
        "tp=('a','b','c')"
      ],
      "execution_count": 157,
      "outputs": []
    },
    {
      "cell_type": "code",
      "metadata": {
        "colab": {
          "base_uri": "https://localhost:8080/"
        },
        "id": "FCWqbTMuJTeK",
        "outputId": "08003658-1be3-4fad-9dc4-3c06f29f088f"
      },
      "source": [
        "for i in lst:\n",
        "  print(i)"
      ],
      "execution_count": 159,
      "outputs": [
        {
          "output_type": "stream",
          "text": [
            "10\n",
            "50\n",
            "30\n"
          ],
          "name": "stdout"
        }
      ]
    },
    {
      "cell_type": "code",
      "metadata": {
        "colab": {
          "base_uri": "https://localhost:8080/"
        },
        "id": "mwNGwZU5JiER",
        "outputId": "5b9cbe72-3693-4d98-ccda-26b3a1a5326a"
      },
      "source": [
        "for i in tp:\n",
        "  print(i)"
      ],
      "execution_count": 160,
      "outputs": [
        {
          "output_type": "stream",
          "text": [
            "a\n",
            "b\n",
            "c\n"
          ],
          "name": "stdout"
        }
      ]
    },
    {
      "cell_type": "code",
      "metadata": {
        "colab": {
          "base_uri": "https://localhost:8080/"
        },
        "id": "ywh8Nq9aJnsK",
        "outputId": "39241e7a-2fb5-4831-d1a6-9d6d70f5c0d5"
      },
      "source": [
        "tp,lst"
      ],
      "execution_count": 162,
      "outputs": [
        {
          "output_type": "execute_result",
          "data": {
            "text/plain": [
              "(('a', 'b', 'c'), [10, 50, 30])"
            ]
          },
          "metadata": {
            "tags": []
          },
          "execution_count": 162
        }
      ]
    },
    {
      "cell_type": "code",
      "metadata": {
        "colab": {
          "base_uri": "https://localhost:8080/"
        },
        "id": "FCawT9x7J1Rj",
        "outputId": "53b2b856-b4d5-4e1b-9eab-41abd0e9b3bd"
      },
      "source": [
        "for i in zip(lst,tp):\n",
        "  print(i)"
      ],
      "execution_count": 164,
      "outputs": [
        {
          "output_type": "stream",
          "text": [
            "(10, 'a')\n",
            "(50, 'b')\n",
            "(30, 'c')\n"
          ],
          "name": "stdout"
        }
      ]
    },
    {
      "cell_type": "code",
      "metadata": {
        "id": "aE-T0sYXKADi"
      },
      "source": [
        "st=dict(zip(tp,lst))"
      ],
      "execution_count": 165,
      "outputs": []
    },
    {
      "cell_type": "code",
      "metadata": {
        "colab": {
          "base_uri": "https://localhost:8080/"
        },
        "id": "jeejUDO0Kb8A",
        "outputId": "416fe1ed-7444-4b95-85a4-e2963840a83b"
      },
      "source": [
        "st"
      ],
      "execution_count": 166,
      "outputs": [
        {
          "output_type": "execute_result",
          "data": {
            "text/plain": [
              "{'a': 10, 'b': 50, 'c': 30}"
            ]
          },
          "metadata": {
            "tags": []
          },
          "execution_count": 166
        }
      ]
    },
    {
      "cell_type": "code",
      "metadata": {
        "colab": {
          "base_uri": "https://localhost:8080/"
        },
        "id": "MJL0Xzk8KdDx",
        "outputId": "5b8fb874-fc88-4bae-91b8-825d8eddd6f3"
      },
      "source": [
        "for i in st:\n",
        "  print(f\"{i}:{st[i]}\")"
      ],
      "execution_count": 172,
      "outputs": [
        {
          "output_type": "stream",
          "text": [
            "a:10\n",
            "b:50\n",
            "c:30\n"
          ],
          "name": "stdout"
        }
      ]
    },
    {
      "cell_type": "code",
      "metadata": {
        "id": "nQWN02a_KrJx"
      },
      "source": [
        "temp = [10.8,  8.5,  8.7,  7.9,  5.1,\n",
        "         8.1,  8.2, 10.4,   11,  9.9,\n",
        "         7.8,  9.5, 11.6,  8.2,  7.7,\n",
        "         6.6, 11.1, 12.2, 12.6, 10.4,\n",
        "        13.7, 14.1, 12.6, 11.5,   13,\n",
        "        14.5, 13.7,  9.4, 10.4, 11.6, 12.9]"
      ],
      "execution_count": 173,
      "outputs": []
    },
    {
      "cell_type": "code",
      "metadata": {
        "id": "CWaZsuGkMKw8"
      },
      "source": [
        "avg=sum(temp)/len(temp)"
      ],
      "execution_count": 179,
      "outputs": []
    },
    {
      "cell_type": "code",
      "metadata": {
        "colab": {
          "base_uri": "https://localhost:8080/"
        },
        "id": "JwgcjvL9LYMk",
        "outputId": "6239c4f2-d2a7-478d-ec05-477eda038684"
      },
      "source": [
        "print(f\"최고기온:{max(temp):.2f}도\")\n",
        "print(f\"최저기온:{min(temp):.2f}도\")\n",
        "print(f\"평균기온:{avg:.2f}도\")"
      ],
      "execution_count": 181,
      "outputs": [
        {
          "output_type": "stream",
          "text": [
            "최고기온:14.50도\n",
            "최저기온:5.10도\n",
            "평균기온:10.44도\n"
          ],
          "name": "stdout"
        }
      ]
    },
    {
      "cell_type": "code",
      "metadata": {
        "id": "-D9RGe1pMmkY"
      },
      "source": [
        ""
      ],
      "execution_count": null,
      "outputs": []
    }
  ]
}